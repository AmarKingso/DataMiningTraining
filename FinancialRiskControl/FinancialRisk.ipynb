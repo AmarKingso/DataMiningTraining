{
 "cells": [
  {
   "cell_type": "markdown",
   "metadata": {},
   "source": [
    "# 金融风控-贷款违约预测"
   ]
  },
  {
   "cell_type": "markdown",
   "metadata": {},
   "source": [
    "## 1. 数据分析"
   ]
  },
  {
   "cell_type": "markdown",
   "metadata": {},
   "source": [
    "### 1.1 内容介绍\n",
    "\n",
    "- 大致了解数据集包含的信息\n",
    "- 查看缺失值和唯一值情况\n",
    "- 查看数据集中数据类型"
   ]
  },
  {
   "cell_type": "markdown",
   "metadata": {},
   "source": [
    "### 1.2 数据集导入"
   ]
  },
  {
   "cell_type": "markdown",
   "metadata": {},
   "source": [
    "导入所需的库"
   ]
  },
  {
   "cell_type": "code",
   "execution_count": 1,
   "metadata": {},
   "outputs": [],
   "source": [
    "import pandas as pd"
   ]
  },
  {
   "cell_type": "markdown",
   "metadata": {},
   "source": [
    "读取文件"
   ]
  },
  {
   "cell_type": "code",
   "execution_count": 2,
   "metadata": {},
   "outputs": [],
   "source": [
    "train = pd.read_csv('train.csv')\n",
    "test_a = pd.read_csv('testA.csv')"
   ]
  },
  {
   "cell_type": "markdown",
   "metadata": {},
   "source": [
    "### 1.3 数据集信息"
   ]
  },
  {
   "cell_type": "markdown",
   "metadata": {},
   "source": [
    "查看数据集的样本数量和特征向量维度"
   ]
  },
  {
   "cell_type": "code",
   "execution_count": 3,
   "metadata": {},
   "outputs": [
    {
     "data": {
      "text/plain": [
       "(800000, 47)"
      ]
     },
     "execution_count": 3,
     "metadata": {},
     "output_type": "execute_result"
    }
   ],
   "source": [
    "train.shape"
   ]
  },
  {
   "cell_type": "code",
   "execution_count": 4,
   "metadata": {},
   "outputs": [
    {
     "data": {
      "text/plain": [
       "(200000, 46)"
      ]
     },
     "execution_count": 4,
     "metadata": {},
     "output_type": "execute_result"
    }
   ],
   "source": [
    "test_a.shape"
   ]
  },
  {
   "cell_type": "markdown",
   "metadata": {},
   "source": [
    "查看训练集前后五个样本"
   ]
  },
  {
   "cell_type": "code",
   "execution_count": 5,
   "metadata": {
    "scrolled": false
   },
   "outputs": [
    {
     "data": {
      "text/html": [
       "<div>\n",
       "<style scoped>\n",
       "    .dataframe tbody tr th:only-of-type {\n",
       "        vertical-align: middle;\n",
       "    }\n",
       "\n",
       "    .dataframe tbody tr th {\n",
       "        vertical-align: top;\n",
       "    }\n",
       "\n",
       "    .dataframe thead th {\n",
       "        text-align: right;\n",
       "    }\n",
       "</style>\n",
       "<table border=\"1\" class=\"dataframe\">\n",
       "  <thead>\n",
       "    <tr style=\"text-align: right;\">\n",
       "      <th></th>\n",
       "      <th>id</th>\n",
       "      <th>loanAmnt</th>\n",
       "      <th>term</th>\n",
       "      <th>interestRate</th>\n",
       "      <th>installment</th>\n",
       "      <th>grade</th>\n",
       "      <th>subGrade</th>\n",
       "      <th>employmentTitle</th>\n",
       "      <th>employmentLength</th>\n",
       "      <th>homeOwnership</th>\n",
       "      <th>...</th>\n",
       "      <th>n5</th>\n",
       "      <th>n6</th>\n",
       "      <th>n7</th>\n",
       "      <th>n8</th>\n",
       "      <th>n9</th>\n",
       "      <th>n10</th>\n",
       "      <th>n11</th>\n",
       "      <th>n12</th>\n",
       "      <th>n13</th>\n",
       "      <th>n14</th>\n",
       "    </tr>\n",
       "  </thead>\n",
       "  <tbody>\n",
       "    <tr>\n",
       "      <th>0</th>\n",
       "      <td>0</td>\n",
       "      <td>35000.0</td>\n",
       "      <td>5</td>\n",
       "      <td>19.52</td>\n",
       "      <td>917.97</td>\n",
       "      <td>E</td>\n",
       "      <td>E2</td>\n",
       "      <td>320.0</td>\n",
       "      <td>2 years</td>\n",
       "      <td>2</td>\n",
       "      <td>...</td>\n",
       "      <td>9.0</td>\n",
       "      <td>8.0</td>\n",
       "      <td>4.0</td>\n",
       "      <td>12.0</td>\n",
       "      <td>2.0</td>\n",
       "      <td>7.0</td>\n",
       "      <td>0.0</td>\n",
       "      <td>0.0</td>\n",
       "      <td>0.0</td>\n",
       "      <td>2.0</td>\n",
       "    </tr>\n",
       "    <tr>\n",
       "      <th>1</th>\n",
       "      <td>1</td>\n",
       "      <td>18000.0</td>\n",
       "      <td>5</td>\n",
       "      <td>18.49</td>\n",
       "      <td>461.90</td>\n",
       "      <td>D</td>\n",
       "      <td>D2</td>\n",
       "      <td>219843.0</td>\n",
       "      <td>5 years</td>\n",
       "      <td>0</td>\n",
       "      <td>...</td>\n",
       "      <td>NaN</td>\n",
       "      <td>NaN</td>\n",
       "      <td>NaN</td>\n",
       "      <td>NaN</td>\n",
       "      <td>NaN</td>\n",
       "      <td>13.0</td>\n",
       "      <td>NaN</td>\n",
       "      <td>NaN</td>\n",
       "      <td>NaN</td>\n",
       "      <td>NaN</td>\n",
       "    </tr>\n",
       "    <tr>\n",
       "      <th>2</th>\n",
       "      <td>2</td>\n",
       "      <td>12000.0</td>\n",
       "      <td>5</td>\n",
       "      <td>16.99</td>\n",
       "      <td>298.17</td>\n",
       "      <td>D</td>\n",
       "      <td>D3</td>\n",
       "      <td>31698.0</td>\n",
       "      <td>8 years</td>\n",
       "      <td>0</td>\n",
       "      <td>...</td>\n",
       "      <td>0.0</td>\n",
       "      <td>21.0</td>\n",
       "      <td>4.0</td>\n",
       "      <td>5.0</td>\n",
       "      <td>3.0</td>\n",
       "      <td>11.0</td>\n",
       "      <td>0.0</td>\n",
       "      <td>0.0</td>\n",
       "      <td>0.0</td>\n",
       "      <td>4.0</td>\n",
       "    </tr>\n",
       "    <tr>\n",
       "      <th>3</th>\n",
       "      <td>3</td>\n",
       "      <td>11000.0</td>\n",
       "      <td>3</td>\n",
       "      <td>7.26</td>\n",
       "      <td>340.96</td>\n",
       "      <td>A</td>\n",
       "      <td>A4</td>\n",
       "      <td>46854.0</td>\n",
       "      <td>10+ years</td>\n",
       "      <td>1</td>\n",
       "      <td>...</td>\n",
       "      <td>16.0</td>\n",
       "      <td>4.0</td>\n",
       "      <td>7.0</td>\n",
       "      <td>21.0</td>\n",
       "      <td>6.0</td>\n",
       "      <td>9.0</td>\n",
       "      <td>0.0</td>\n",
       "      <td>0.0</td>\n",
       "      <td>0.0</td>\n",
       "      <td>1.0</td>\n",
       "    </tr>\n",
       "    <tr>\n",
       "      <th>4</th>\n",
       "      <td>4</td>\n",
       "      <td>3000.0</td>\n",
       "      <td>3</td>\n",
       "      <td>12.99</td>\n",
       "      <td>101.07</td>\n",
       "      <td>C</td>\n",
       "      <td>C2</td>\n",
       "      <td>54.0</td>\n",
       "      <td>NaN</td>\n",
       "      <td>1</td>\n",
       "      <td>...</td>\n",
       "      <td>4.0</td>\n",
       "      <td>9.0</td>\n",
       "      <td>10.0</td>\n",
       "      <td>15.0</td>\n",
       "      <td>7.0</td>\n",
       "      <td>12.0</td>\n",
       "      <td>0.0</td>\n",
       "      <td>0.0</td>\n",
       "      <td>0.0</td>\n",
       "      <td>4.0</td>\n",
       "    </tr>\n",
       "    <tr>\n",
       "      <th>799995</th>\n",
       "      <td>799995</td>\n",
       "      <td>25000.0</td>\n",
       "      <td>3</td>\n",
       "      <td>14.49</td>\n",
       "      <td>860.41</td>\n",
       "      <td>C</td>\n",
       "      <td>C4</td>\n",
       "      <td>2659.0</td>\n",
       "      <td>7 years</td>\n",
       "      <td>1</td>\n",
       "      <td>...</td>\n",
       "      <td>6.0</td>\n",
       "      <td>2.0</td>\n",
       "      <td>12.0</td>\n",
       "      <td>13.0</td>\n",
       "      <td>10.0</td>\n",
       "      <td>14.0</td>\n",
       "      <td>0.0</td>\n",
       "      <td>0.0</td>\n",
       "      <td>0.0</td>\n",
       "      <td>3.0</td>\n",
       "    </tr>\n",
       "    <tr>\n",
       "      <th>799996</th>\n",
       "      <td>799996</td>\n",
       "      <td>17000.0</td>\n",
       "      <td>3</td>\n",
       "      <td>7.90</td>\n",
       "      <td>531.94</td>\n",
       "      <td>A</td>\n",
       "      <td>A4</td>\n",
       "      <td>29205.0</td>\n",
       "      <td>10+ years</td>\n",
       "      <td>0</td>\n",
       "      <td>...</td>\n",
       "      <td>15.0</td>\n",
       "      <td>16.0</td>\n",
       "      <td>2.0</td>\n",
       "      <td>19.0</td>\n",
       "      <td>2.0</td>\n",
       "      <td>7.0</td>\n",
       "      <td>0.0</td>\n",
       "      <td>0.0</td>\n",
       "      <td>0.0</td>\n",
       "      <td>0.0</td>\n",
       "    </tr>\n",
       "    <tr>\n",
       "      <th>799997</th>\n",
       "      <td>799997</td>\n",
       "      <td>6000.0</td>\n",
       "      <td>3</td>\n",
       "      <td>13.33</td>\n",
       "      <td>203.12</td>\n",
       "      <td>C</td>\n",
       "      <td>C3</td>\n",
       "      <td>2582.0</td>\n",
       "      <td>10+ years</td>\n",
       "      <td>1</td>\n",
       "      <td>...</td>\n",
       "      <td>4.0</td>\n",
       "      <td>26.0</td>\n",
       "      <td>4.0</td>\n",
       "      <td>10.0</td>\n",
       "      <td>4.0</td>\n",
       "      <td>5.0</td>\n",
       "      <td>0.0</td>\n",
       "      <td>0.0</td>\n",
       "      <td>1.0</td>\n",
       "      <td>4.0</td>\n",
       "    </tr>\n",
       "    <tr>\n",
       "      <th>799998</th>\n",
       "      <td>799998</td>\n",
       "      <td>19200.0</td>\n",
       "      <td>3</td>\n",
       "      <td>6.92</td>\n",
       "      <td>592.14</td>\n",
       "      <td>A</td>\n",
       "      <td>A4</td>\n",
       "      <td>151.0</td>\n",
       "      <td>10+ years</td>\n",
       "      <td>0</td>\n",
       "      <td>...</td>\n",
       "      <td>10.0</td>\n",
       "      <td>6.0</td>\n",
       "      <td>12.0</td>\n",
       "      <td>22.0</td>\n",
       "      <td>8.0</td>\n",
       "      <td>16.0</td>\n",
       "      <td>0.0</td>\n",
       "      <td>0.0</td>\n",
       "      <td>0.0</td>\n",
       "      <td>5.0</td>\n",
       "    </tr>\n",
       "    <tr>\n",
       "      <th>799999</th>\n",
       "      <td>799999</td>\n",
       "      <td>9000.0</td>\n",
       "      <td>3</td>\n",
       "      <td>11.06</td>\n",
       "      <td>294.91</td>\n",
       "      <td>B</td>\n",
       "      <td>B3</td>\n",
       "      <td>13.0</td>\n",
       "      <td>5 years</td>\n",
       "      <td>0</td>\n",
       "      <td>...</td>\n",
       "      <td>3.0</td>\n",
       "      <td>4.0</td>\n",
       "      <td>4.0</td>\n",
       "      <td>8.0</td>\n",
       "      <td>3.0</td>\n",
       "      <td>7.0</td>\n",
       "      <td>0.0</td>\n",
       "      <td>0.0</td>\n",
       "      <td>0.0</td>\n",
       "      <td>2.0</td>\n",
       "    </tr>\n",
       "  </tbody>\n",
       "</table>\n",
       "<p>10 rows × 47 columns</p>\n",
       "</div>"
      ],
      "text/plain": [
       "            id  loanAmnt  term  interestRate  installment grade subGrade  \\\n",
       "0            0   35000.0     5         19.52       917.97     E       E2   \n",
       "1            1   18000.0     5         18.49       461.90     D       D2   \n",
       "2            2   12000.0     5         16.99       298.17     D       D3   \n",
       "3            3   11000.0     3          7.26       340.96     A       A4   \n",
       "4            4    3000.0     3         12.99       101.07     C       C2   \n",
       "799995  799995   25000.0     3         14.49       860.41     C       C4   \n",
       "799996  799996   17000.0     3          7.90       531.94     A       A4   \n",
       "799997  799997    6000.0     3         13.33       203.12     C       C3   \n",
       "799998  799998   19200.0     3          6.92       592.14     A       A4   \n",
       "799999  799999    9000.0     3         11.06       294.91     B       B3   \n",
       "\n",
       "        employmentTitle employmentLength  homeOwnership  ...    n5    n6  \\\n",
       "0                 320.0          2 years              2  ...   9.0   8.0   \n",
       "1              219843.0          5 years              0  ...   NaN   NaN   \n",
       "2               31698.0          8 years              0  ...   0.0  21.0   \n",
       "3               46854.0        10+ years              1  ...  16.0   4.0   \n",
       "4                  54.0              NaN              1  ...   4.0   9.0   \n",
       "799995           2659.0          7 years              1  ...   6.0   2.0   \n",
       "799996          29205.0        10+ years              0  ...  15.0  16.0   \n",
       "799997           2582.0        10+ years              1  ...   4.0  26.0   \n",
       "799998            151.0        10+ years              0  ...  10.0   6.0   \n",
       "799999             13.0          5 years              0  ...   3.0   4.0   \n",
       "\n",
       "          n7    n8    n9   n10  n11  n12  n13  n14  \n",
       "0        4.0  12.0   2.0   7.0  0.0  0.0  0.0  2.0  \n",
       "1        NaN   NaN   NaN  13.0  NaN  NaN  NaN  NaN  \n",
       "2        4.0   5.0   3.0  11.0  0.0  0.0  0.0  4.0  \n",
       "3        7.0  21.0   6.0   9.0  0.0  0.0  0.0  1.0  \n",
       "4       10.0  15.0   7.0  12.0  0.0  0.0  0.0  4.0  \n",
       "799995  12.0  13.0  10.0  14.0  0.0  0.0  0.0  3.0  \n",
       "799996   2.0  19.0   2.0   7.0  0.0  0.0  0.0  0.0  \n",
       "799997   4.0  10.0   4.0   5.0  0.0  0.0  1.0  4.0  \n",
       "799998  12.0  22.0   8.0  16.0  0.0  0.0  0.0  5.0  \n",
       "799999   4.0   8.0   3.0   7.0  0.0  0.0  0.0  2.0  \n",
       "\n",
       "[10 rows x 47 columns]"
      ]
     },
     "execution_count": 5,
     "metadata": {},
     "output_type": "execute_result"
    }
   ],
   "source": [
    "train.head().append(train.tail())"
   ]
  },
  {
   "cell_type": "markdown",
   "metadata": {},
   "source": [
    "查看数据集中各条目的信息"
   ]
  },
  {
   "cell_type": "code",
   "execution_count": 6,
   "metadata": {
    "scrolled": true
   },
   "outputs": [
    {
     "name": "stdout",
     "output_type": "stream",
     "text": [
      "<class 'pandas.core.frame.DataFrame'>\n",
      "RangeIndex: 800000 entries, 0 to 799999\n",
      "Data columns (total 47 columns):\n",
      " #   Column              Non-Null Count   Dtype  \n",
      "---  ------              --------------   -----  \n",
      " 0   id                  800000 non-null  int64  \n",
      " 1   loanAmnt            800000 non-null  float64\n",
      " 2   term                800000 non-null  int64  \n",
      " 3   interestRate        800000 non-null  float64\n",
      " 4   installment         800000 non-null  float64\n",
      " 5   grade               800000 non-null  object \n",
      " 6   subGrade            800000 non-null  object \n",
      " 7   employmentTitle     799999 non-null  float64\n",
      " 8   employmentLength    753201 non-null  object \n",
      " 9   homeOwnership       800000 non-null  int64  \n",
      " 10  annualIncome        800000 non-null  float64\n",
      " 11  verificationStatus  800000 non-null  int64  \n",
      " 12  issueDate           800000 non-null  object \n",
      " 13  isDefault           800000 non-null  int64  \n",
      " 14  purpose             800000 non-null  int64  \n",
      " 15  postCode            799999 non-null  float64\n",
      " 16  regionCode          800000 non-null  int64  \n",
      " 17  dti                 799761 non-null  float64\n",
      " 18  delinquency_2years  800000 non-null  float64\n",
      " 19  ficoRangeLow        800000 non-null  float64\n",
      " 20  ficoRangeHigh       800000 non-null  float64\n",
      " 21  openAcc             800000 non-null  float64\n",
      " 22  pubRec              800000 non-null  float64\n",
      " 23  pubRecBankruptcies  799595 non-null  float64\n",
      " 24  revolBal            800000 non-null  float64\n",
      " 25  revolUtil           799469 non-null  float64\n",
      " 26  totalAcc            800000 non-null  float64\n",
      " 27  initialListStatus   800000 non-null  int64  \n",
      " 28  applicationType     800000 non-null  int64  \n",
      " 29  earliesCreditLine   800000 non-null  object \n",
      " 30  title               799999 non-null  float64\n",
      " 31  policyCode          800000 non-null  float64\n",
      " 32  n0                  759730 non-null  float64\n",
      " 33  n1                  759730 non-null  float64\n",
      " 34  n2                  759730 non-null  float64\n",
      " 35  n3                  759730 non-null  float64\n",
      " 36  n4                  766761 non-null  float64\n",
      " 37  n5                  759730 non-null  float64\n",
      " 38  n6                  759730 non-null  float64\n",
      " 39  n7                  759730 non-null  float64\n",
      " 40  n8                  759729 non-null  float64\n",
      " 41  n9                  759730 non-null  float64\n",
      " 42  n10                 766761 non-null  float64\n",
      " 43  n11                 730248 non-null  float64\n",
      " 44  n12                 759730 non-null  float64\n",
      " 45  n13                 759730 non-null  float64\n",
      " 46  n14                 759730 non-null  float64\n",
      "dtypes: float64(33), int64(9), object(5)\n",
      "memory usage: 286.9+ MB\n"
     ]
    }
   ],
   "source": [
    "train.info()"
   ]
  },
  {
   "cell_type": "markdown",
   "metadata": {},
   "source": [
    "查看各特征的统计量"
   ]
  },
  {
   "cell_type": "code",
   "execution_count": 7,
   "metadata": {
    "scrolled": true
   },
   "outputs": [
    {
     "data": {
      "text/html": [
       "<div>\n",
       "<style scoped>\n",
       "    .dataframe tbody tr th:only-of-type {\n",
       "        vertical-align: middle;\n",
       "    }\n",
       "\n",
       "    .dataframe tbody tr th {\n",
       "        vertical-align: top;\n",
       "    }\n",
       "\n",
       "    .dataframe thead th {\n",
       "        text-align: right;\n",
       "    }\n",
       "</style>\n",
       "<table border=\"1\" class=\"dataframe\">\n",
       "  <thead>\n",
       "    <tr style=\"text-align: right;\">\n",
       "      <th></th>\n",
       "      <th>id</th>\n",
       "      <th>loanAmnt</th>\n",
       "      <th>term</th>\n",
       "      <th>interestRate</th>\n",
       "      <th>installment</th>\n",
       "      <th>employmentTitle</th>\n",
       "      <th>homeOwnership</th>\n",
       "      <th>annualIncome</th>\n",
       "      <th>verificationStatus</th>\n",
       "      <th>isDefault</th>\n",
       "      <th>...</th>\n",
       "      <th>n5</th>\n",
       "      <th>n6</th>\n",
       "      <th>n7</th>\n",
       "      <th>n8</th>\n",
       "      <th>n9</th>\n",
       "      <th>n10</th>\n",
       "      <th>n11</th>\n",
       "      <th>n12</th>\n",
       "      <th>n13</th>\n",
       "      <th>n14</th>\n",
       "    </tr>\n",
       "  </thead>\n",
       "  <tbody>\n",
       "    <tr>\n",
       "      <th>count</th>\n",
       "      <td>800000.000000</td>\n",
       "      <td>800000.000000</td>\n",
       "      <td>800000.000000</td>\n",
       "      <td>800000.000000</td>\n",
       "      <td>800000.000000</td>\n",
       "      <td>799999.000000</td>\n",
       "      <td>800000.000000</td>\n",
       "      <td>8.000000e+05</td>\n",
       "      <td>800000.000000</td>\n",
       "      <td>800000.000000</td>\n",
       "      <td>...</td>\n",
       "      <td>759730.000000</td>\n",
       "      <td>759730.000000</td>\n",
       "      <td>759730.000000</td>\n",
       "      <td>759729.000000</td>\n",
       "      <td>759730.000000</td>\n",
       "      <td>766761.000000</td>\n",
       "      <td>730248.000000</td>\n",
       "      <td>759730.000000</td>\n",
       "      <td>759730.000000</td>\n",
       "      <td>759730.000000</td>\n",
       "    </tr>\n",
       "    <tr>\n",
       "      <th>mean</th>\n",
       "      <td>399999.500000</td>\n",
       "      <td>14416.818875</td>\n",
       "      <td>3.482745</td>\n",
       "      <td>13.238391</td>\n",
       "      <td>437.947723</td>\n",
       "      <td>72005.351714</td>\n",
       "      <td>0.614213</td>\n",
       "      <td>7.613391e+04</td>\n",
       "      <td>1.009683</td>\n",
       "      <td>0.199513</td>\n",
       "      <td>...</td>\n",
       "      <td>8.107937</td>\n",
       "      <td>8.575994</td>\n",
       "      <td>8.282953</td>\n",
       "      <td>14.622488</td>\n",
       "      <td>5.592345</td>\n",
       "      <td>11.643896</td>\n",
       "      <td>0.000815</td>\n",
       "      <td>0.003384</td>\n",
       "      <td>0.089366</td>\n",
       "      <td>2.178606</td>\n",
       "    </tr>\n",
       "    <tr>\n",
       "      <th>std</th>\n",
       "      <td>230940.252015</td>\n",
       "      <td>8716.086178</td>\n",
       "      <td>0.855832</td>\n",
       "      <td>4.765757</td>\n",
       "      <td>261.460393</td>\n",
       "      <td>106585.640204</td>\n",
       "      <td>0.675749</td>\n",
       "      <td>6.894751e+04</td>\n",
       "      <td>0.782716</td>\n",
       "      <td>0.399634</td>\n",
       "      <td>...</td>\n",
       "      <td>4.799210</td>\n",
       "      <td>7.400536</td>\n",
       "      <td>4.561689</td>\n",
       "      <td>8.124610</td>\n",
       "      <td>3.216184</td>\n",
       "      <td>5.484104</td>\n",
       "      <td>0.030075</td>\n",
       "      <td>0.062041</td>\n",
       "      <td>0.509069</td>\n",
       "      <td>1.844377</td>\n",
       "    </tr>\n",
       "    <tr>\n",
       "      <th>min</th>\n",
       "      <td>0.000000</td>\n",
       "      <td>500.000000</td>\n",
       "      <td>3.000000</td>\n",
       "      <td>5.310000</td>\n",
       "      <td>15.690000</td>\n",
       "      <td>0.000000</td>\n",
       "      <td>0.000000</td>\n",
       "      <td>0.000000e+00</td>\n",
       "      <td>0.000000</td>\n",
       "      <td>0.000000</td>\n",
       "      <td>...</td>\n",
       "      <td>0.000000</td>\n",
       "      <td>0.000000</td>\n",
       "      <td>0.000000</td>\n",
       "      <td>1.000000</td>\n",
       "      <td>0.000000</td>\n",
       "      <td>0.000000</td>\n",
       "      <td>0.000000</td>\n",
       "      <td>0.000000</td>\n",
       "      <td>0.000000</td>\n",
       "      <td>0.000000</td>\n",
       "    </tr>\n",
       "    <tr>\n",
       "      <th>25%</th>\n",
       "      <td>199999.750000</td>\n",
       "      <td>8000.000000</td>\n",
       "      <td>3.000000</td>\n",
       "      <td>9.750000</td>\n",
       "      <td>248.450000</td>\n",
       "      <td>427.000000</td>\n",
       "      <td>0.000000</td>\n",
       "      <td>4.560000e+04</td>\n",
       "      <td>0.000000</td>\n",
       "      <td>0.000000</td>\n",
       "      <td>...</td>\n",
       "      <td>5.000000</td>\n",
       "      <td>4.000000</td>\n",
       "      <td>5.000000</td>\n",
       "      <td>9.000000</td>\n",
       "      <td>3.000000</td>\n",
       "      <td>8.000000</td>\n",
       "      <td>0.000000</td>\n",
       "      <td>0.000000</td>\n",
       "      <td>0.000000</td>\n",
       "      <td>1.000000</td>\n",
       "    </tr>\n",
       "    <tr>\n",
       "      <th>50%</th>\n",
       "      <td>399999.500000</td>\n",
       "      <td>12000.000000</td>\n",
       "      <td>3.000000</td>\n",
       "      <td>12.740000</td>\n",
       "      <td>375.135000</td>\n",
       "      <td>7755.000000</td>\n",
       "      <td>1.000000</td>\n",
       "      <td>6.500000e+04</td>\n",
       "      <td>1.000000</td>\n",
       "      <td>0.000000</td>\n",
       "      <td>...</td>\n",
       "      <td>7.000000</td>\n",
       "      <td>7.000000</td>\n",
       "      <td>7.000000</td>\n",
       "      <td>13.000000</td>\n",
       "      <td>5.000000</td>\n",
       "      <td>11.000000</td>\n",
       "      <td>0.000000</td>\n",
       "      <td>0.000000</td>\n",
       "      <td>0.000000</td>\n",
       "      <td>2.000000</td>\n",
       "    </tr>\n",
       "    <tr>\n",
       "      <th>75%</th>\n",
       "      <td>599999.250000</td>\n",
       "      <td>20000.000000</td>\n",
       "      <td>3.000000</td>\n",
       "      <td>15.990000</td>\n",
       "      <td>580.710000</td>\n",
       "      <td>117663.500000</td>\n",
       "      <td>1.000000</td>\n",
       "      <td>9.000000e+04</td>\n",
       "      <td>2.000000</td>\n",
       "      <td>0.000000</td>\n",
       "      <td>...</td>\n",
       "      <td>11.000000</td>\n",
       "      <td>11.000000</td>\n",
       "      <td>10.000000</td>\n",
       "      <td>19.000000</td>\n",
       "      <td>7.000000</td>\n",
       "      <td>14.000000</td>\n",
       "      <td>0.000000</td>\n",
       "      <td>0.000000</td>\n",
       "      <td>0.000000</td>\n",
       "      <td>3.000000</td>\n",
       "    </tr>\n",
       "    <tr>\n",
       "      <th>max</th>\n",
       "      <td>799999.000000</td>\n",
       "      <td>40000.000000</td>\n",
       "      <td>5.000000</td>\n",
       "      <td>30.990000</td>\n",
       "      <td>1715.420000</td>\n",
       "      <td>378351.000000</td>\n",
       "      <td>5.000000</td>\n",
       "      <td>1.099920e+07</td>\n",
       "      <td>2.000000</td>\n",
       "      <td>1.000000</td>\n",
       "      <td>...</td>\n",
       "      <td>70.000000</td>\n",
       "      <td>132.000000</td>\n",
       "      <td>79.000000</td>\n",
       "      <td>128.000000</td>\n",
       "      <td>45.000000</td>\n",
       "      <td>82.000000</td>\n",
       "      <td>4.000000</td>\n",
       "      <td>4.000000</td>\n",
       "      <td>39.000000</td>\n",
       "      <td>30.000000</td>\n",
       "    </tr>\n",
       "  </tbody>\n",
       "</table>\n",
       "<p>8 rows × 42 columns</p>\n",
       "</div>"
      ],
      "text/plain": [
       "                  id       loanAmnt           term   interestRate  \\\n",
       "count  800000.000000  800000.000000  800000.000000  800000.000000   \n",
       "mean   399999.500000   14416.818875       3.482745      13.238391   \n",
       "std    230940.252015    8716.086178       0.855832       4.765757   \n",
       "min         0.000000     500.000000       3.000000       5.310000   \n",
       "25%    199999.750000    8000.000000       3.000000       9.750000   \n",
       "50%    399999.500000   12000.000000       3.000000      12.740000   \n",
       "75%    599999.250000   20000.000000       3.000000      15.990000   \n",
       "max    799999.000000   40000.000000       5.000000      30.990000   \n",
       "\n",
       "         installment  employmentTitle  homeOwnership  annualIncome  \\\n",
       "count  800000.000000    799999.000000  800000.000000  8.000000e+05   \n",
       "mean      437.947723     72005.351714       0.614213  7.613391e+04   \n",
       "std       261.460393    106585.640204       0.675749  6.894751e+04   \n",
       "min        15.690000         0.000000       0.000000  0.000000e+00   \n",
       "25%       248.450000       427.000000       0.000000  4.560000e+04   \n",
       "50%       375.135000      7755.000000       1.000000  6.500000e+04   \n",
       "75%       580.710000    117663.500000       1.000000  9.000000e+04   \n",
       "max      1715.420000    378351.000000       5.000000  1.099920e+07   \n",
       "\n",
       "       verificationStatus      isDefault  ...             n5             n6  \\\n",
       "count       800000.000000  800000.000000  ...  759730.000000  759730.000000   \n",
       "mean             1.009683       0.199513  ...       8.107937       8.575994   \n",
       "std              0.782716       0.399634  ...       4.799210       7.400536   \n",
       "min              0.000000       0.000000  ...       0.000000       0.000000   \n",
       "25%              0.000000       0.000000  ...       5.000000       4.000000   \n",
       "50%              1.000000       0.000000  ...       7.000000       7.000000   \n",
       "75%              2.000000       0.000000  ...      11.000000      11.000000   \n",
       "max              2.000000       1.000000  ...      70.000000     132.000000   \n",
       "\n",
       "                  n7             n8             n9            n10  \\\n",
       "count  759730.000000  759729.000000  759730.000000  766761.000000   \n",
       "mean        8.282953      14.622488       5.592345      11.643896   \n",
       "std         4.561689       8.124610       3.216184       5.484104   \n",
       "min         0.000000       1.000000       0.000000       0.000000   \n",
       "25%         5.000000       9.000000       3.000000       8.000000   \n",
       "50%         7.000000      13.000000       5.000000      11.000000   \n",
       "75%        10.000000      19.000000       7.000000      14.000000   \n",
       "max        79.000000     128.000000      45.000000      82.000000   \n",
       "\n",
       "                 n11            n12            n13            n14  \n",
       "count  730248.000000  759730.000000  759730.000000  759730.000000  \n",
       "mean        0.000815       0.003384       0.089366       2.178606  \n",
       "std         0.030075       0.062041       0.509069       1.844377  \n",
       "min         0.000000       0.000000       0.000000       0.000000  \n",
       "25%         0.000000       0.000000       0.000000       1.000000  \n",
       "50%         0.000000       0.000000       0.000000       2.000000  \n",
       "75%         0.000000       0.000000       0.000000       3.000000  \n",
       "max         4.000000       4.000000      39.000000      30.000000  \n",
       "\n",
       "[8 rows x 42 columns]"
      ]
     },
     "execution_count": 7,
     "metadata": {},
     "output_type": "execute_result"
    }
   ],
   "source": [
    "train.describe()"
   ]
  },
  {
   "cell_type": "markdown",
   "metadata": {},
   "source": [
    "### 1.4 缺失值和唯一值"
   ]
  },
  {
   "cell_type": "markdown",
   "metadata": {},
   "source": [
    "由之前info显示的结果，可以看出部分特征中存在缺失值，我们可以采用更直观的方式展现出来"
   ]
  },
  {
   "cell_type": "markdown",
   "metadata": {},
   "source": [
    "导入画图所需的库"
   ]
  },
  {
   "cell_type": "code",
   "execution_count": 8,
   "metadata": {},
   "outputs": [],
   "source": [
    "import matplotlib.pyplot as plt"
   ]
  },
  {
   "cell_type": "markdown",
   "metadata": {},
   "source": [
    "画出有缺失值的特征与其缺失率的图像"
   ]
  },
  {
   "cell_type": "code",
   "execution_count": 9,
   "metadata": {},
   "outputs": [
    {
     "data": {
      "text/plain": [
       "<matplotlib.axes._subplots.AxesSubplot at 0x1a19044eaf0>"
      ]
     },
     "execution_count": 9,
     "metadata": {},
     "output_type": "execute_result"
    },
    {
     "data": {
      "image/png": "[encoded data removed]",
      "text/plain": [
       "<Figure size 432x288 with 1 Axes>"
      ]
     },
     "metadata": {
      "needs_background": "light"
     },
     "output_type": "display_data"
    }
   ],
   "source": [
    "loss_fig = train.isnull().sum()/len(train)\n",
    "loss_fig = loss_fig[loss_fig > 0]\n",
    "loss_fig.sort_values(inplace=True)\n",
    "loss_fig.plot.bar()"
   ]
  },
  {
   "cell_type": "markdown",
   "metadata": {},
   "source": [
    "对存在过多缺失值的特征进行处理，因为缺失值过多的特征对最后结果的影响不会很大，可以考虑直接删除该特征\n",
    "从上图可以看出各特征的缺失率都非常小，也表明了该数据集是比较干净的，在数据预处理上可以为我们减少工作"
   ]
  },
  {
   "cell_type": "markdown",
   "metadata": {},
   "source": [
    "对有唯一值的特征进行查找"
   ]
  },
  {
   "cell_type": "code",
   "execution_count": 10,
   "metadata": {},
   "outputs": [],
   "source": [
    "unique_val = [col for col in train.columns if train[col].nunique() <= 1]"
   ]
  },
  {
   "cell_type": "markdown",
   "metadata": {},
   "source": [
    "查看具有唯一值的特征"
   ]
  },
  {
   "cell_type": "code",
   "execution_count": 11,
   "metadata": {},
   "outputs": [
    {
     "data": {
      "text/plain": [
       "['policyCode']"
      ]
     },
     "execution_count": 11,
     "metadata": {},
     "output_type": "execute_result"
    }
   ],
   "source": [
    "unique_val"
   ]
  },
  {
   "cell_type": "markdown",
   "metadata": {},
   "source": [
    "上面查找的是只有一个值或特征值全部缺失的特征，当然从之前查找缺失值就可以看出不存在特征值全部确实的特征"
   ]
  },
  {
   "cell_type": "markdown",
   "metadata": {},
   "source": [
    "### 第一周内容完"
   ]
  },
  {
   "cell_type": "markdown",
   "metadata": {},
   "source": [
    "---"
   ]
  },
  {
   "cell_type": "markdown",
   "metadata": {},
   "source": [
    "### 1.5 查看数据类型"
   ]
  },
  {
   "cell_type": "markdown",
   "metadata": {},
   "source": [
    "查看特征的数据类型，一般分为数值型和对象型（即非数值型）"
   ]
  },
  {
   "cell_type": "code",
   "execution_count": 12,
   "metadata": {},
   "outputs": [],
   "source": [
    "num_fea = list(train.select_dtypes(exclude=['object']).columns)\n",
    "obj_fea = list(filter(lambda x: x not in num_fea,list(train.columns)))"
   ]
  },
  {
   "cell_type": "markdown",
   "metadata": {},
   "source": [
    "查看两种类型的特征"
   ]
  },
  {
   "cell_type": "code",
   "execution_count": 13,
   "metadata": {},
   "outputs": [
    {
     "data": {
      "text/plain": [
       "['id',\n",
       " 'loanAmnt',\n",
       " 'term',\n",
       " 'interestRate',\n",
       " 'installment',\n",
       " 'employmentTitle',\n",
       " 'homeOwnership',\n",
       " 'annualIncome',\n",
       " 'verificationStatus',\n",
       " 'isDefault',\n",
       " 'purpose',\n",
       " 'postCode',\n",
       " 'regionCode',\n",
       " 'dti',\n",
       " 'delinquency_2years',\n",
       " 'ficoRangeLow',\n",
       " 'ficoRangeHigh',\n",
       " 'openAcc',\n",
       " 'pubRec',\n",
       " 'pubRecBankruptcies',\n",
       " 'revolBal',\n",
       " 'revolUtil',\n",
       " 'totalAcc',\n",
       " 'initialListStatus',\n",
       " 'applicationType',\n",
       " 'title',\n",
       " 'policyCode',\n",
       " 'n0',\n",
       " 'n1',\n",
       " 'n2',\n",
       " 'n3',\n",
       " 'n4',\n",
       " 'n5',\n",
       " 'n6',\n",
       " 'n7',\n",
       " 'n8',\n",
       " 'n9',\n",
       " 'n10',\n",
       " 'n11',\n",
       " 'n12',\n",
       " 'n13',\n",
       " 'n14']"
      ]
     },
     "execution_count": 13,
     "metadata": {},
     "output_type": "execute_result"
    }
   ],
   "source": [
    "num_fea"
   ]
  },
  {
   "cell_type": "code",
   "execution_count": 14,
   "metadata": {},
   "outputs": [
    {
     "data": {
      "text/plain": [
       "['grade', 'subGrade', 'employmentLength', 'issueDate', 'earliesCreditLine']"
      ]
     },
     "execution_count": 14,
     "metadata": {},
     "output_type": "execute_result"
    }
   ],
   "source": [
    "obj_fea"
   ]
  },
  {
   "cell_type": "markdown",
   "metadata": {},
   "source": [
    "## 2. 数据预处理及变换"
   ]
  },
  {
   "cell_type": "markdown",
   "metadata": {},
   "source": [
    "### 2.1 内容介绍\n",
    "- 数据预处理：\n",
    "    - 缺失值填充\n",
    "    - 对象型变换为数值型\n",
    "    - 异常值处理"
   ]
  },
  {
   "cell_type": "markdown",
   "metadata": {},
   "source": [
    "### 2.2 数据预处理"
   ]
  },
  {
   "cell_type": "markdown",
   "metadata": {},
   "source": [
    "导入所需的库"
   ]
  },
  {
   "cell_type": "code",
   "execution_count": 15,
   "metadata": {},
   "outputs": [],
   "source": [
    "import numpy as np\n",
    "import datetime"
   ]
  },
  {
   "cell_type": "markdown",
   "metadata": {},
   "source": [
    "#### 2.2.1 缺失值填充\n",
    "缺失值填充有多种方法，我们可以多做尝试，选取结果最优的填充方法"
   ]
  },
  {
   "cell_type": "markdown",
   "metadata": {},
   "source": [
    "查看缺失值情况"
   ]
  },
  {
   "cell_type": "code",
   "execution_count": 16,
   "metadata": {
    "scrolled": true
   },
   "outputs": [
    {
     "data": {
      "text/plain": [
       "id                        0\n",
       "loanAmnt                  0\n",
       "term                      0\n",
       "interestRate              0\n",
       "installment               0\n",
       "grade                     0\n",
       "subGrade                  0\n",
       "employmentTitle           1\n",
       "employmentLength      46799\n",
       "homeOwnership             0\n",
       "annualIncome              0\n",
       "verificationStatus        0\n",
       "issueDate                 0\n",
       "isDefault                 0\n",
       "purpose                   0\n",
       "postCode                  1\n",
       "regionCode                0\n",
       "dti                     239\n",
       "delinquency_2years        0\n",
       "ficoRangeLow              0\n",
       "ficoRangeHigh             0\n",
       "openAcc                   0\n",
       "pubRec                    0\n",
       "pubRecBankruptcies      405\n",
       "revolBal                  0\n",
       "revolUtil               531\n",
       "totalAcc                  0\n",
       "initialListStatus         0\n",
       "applicationType           0\n",
       "earliesCreditLine         0\n",
       "title                     1\n",
       "policyCode                0\n",
       "n0                    40270\n",
       "n1                    40270\n",
       "n2                    40270\n",
       "n3                    40270\n",
       "n4                    33239\n",
       "n5                    40270\n",
       "n6                    40270\n",
       "n7                    40270\n",
       "n8                    40271\n",
       "n9                    40270\n",
       "n10                   33239\n",
       "n11                   69752\n",
       "n12                   40270\n",
       "n13                   40270\n",
       "n14                   40270\n",
       "dtype: int64"
      ]
     },
     "execution_count": 16,
     "metadata": {},
     "output_type": "execute_result"
    }
   ],
   "source": [
    "train.isnull().sum()"
   ]
  },
  {
   "cell_type": "markdown",
   "metadata": {},
   "source": [
    "采用按特征值平均数填充的方法"
   ]
  },
  {
   "cell_type": "code",
   "execution_count": 17,
   "metadata": {},
   "outputs": [],
   "source": [
    "label = 'isDefault'\n",
    "num_fea.remove(label)\n",
    "train[num_fea] = train[num_fea].fillna(train[num_fea].median())\n",
    "test_a[num_fea] = test_a[num_fea].fillna(train[num_fea].median())"
   ]
  },
  {
   "cell_type": "code",
   "execution_count": 18,
   "metadata": {
    "scrolled": true
   },
   "outputs": [
    {
     "data": {
      "text/plain": [
       "id                        0\n",
       "loanAmnt                  0\n",
       "term                      0\n",
       "interestRate              0\n",
       "installment               0\n",
       "grade                     0\n",
       "subGrade                  0\n",
       "employmentTitle           0\n",
       "employmentLength      46799\n",
       "homeOwnership             0\n",
       "annualIncome              0\n",
       "verificationStatus        0\n",
       "issueDate                 0\n",
       "isDefault                 0\n",
       "purpose                   0\n",
       "postCode                  0\n",
       "regionCode                0\n",
       "dti                       0\n",
       "delinquency_2years        0\n",
       "ficoRangeLow              0\n",
       "ficoRangeHigh             0\n",
       "openAcc                   0\n",
       "pubRec                    0\n",
       "pubRecBankruptcies        0\n",
       "revolBal                  0\n",
       "revolUtil                 0\n",
       "totalAcc                  0\n",
       "initialListStatus         0\n",
       "applicationType           0\n",
       "earliesCreditLine         0\n",
       "title                     0\n",
       "policyCode                0\n",
       "n0                        0\n",
       "n1                        0\n",
       "n2                        0\n",
       "n3                        0\n",
       "n4                        0\n",
       "n5                        0\n",
       "n6                        0\n",
       "n7                        0\n",
       "n8                        0\n",
       "n9                        0\n",
       "n10                       0\n",
       "n11                       0\n",
       "n12                       0\n",
       "n13                       0\n",
       "n14                       0\n",
       "dtype: int64"
      ]
     },
     "execution_count": 18,
     "metadata": {},
     "output_type": "execute_result"
    }
   ],
   "source": [
    "train.isnull().sum()"
   ]
  },
  {
   "cell_type": "markdown",
   "metadata": {},
   "source": [
    "#### 2.2.2 对象型转变为数值型"
   ]
  },
  {
   "cell_type": "markdown",
   "metadata": {},
   "source": [
    "根据数据分析阶段我们得到的信息，对象型特征有如下几个"
   ]
  },
  {
   "cell_type": "code",
   "execution_count": 19,
   "metadata": {},
   "outputs": [
    {
     "data": {
      "text/plain": [
       "['grade', 'subGrade', 'employmentLength', 'issueDate', 'earliesCreditLine']"
      ]
     },
     "execution_count": 19,
     "metadata": {},
     "output_type": "execute_result"
    }
   ],
   "source": [
    "obj_fea"
   ]
  },
  {
   "cell_type": "markdown",
   "metadata": {},
   "source": [
    "根据样本信息可知issueDate与earliesCreditLine都涉及到时间，而其他三个特征可以进行分类\n",
    "查看可分类的三个特征的类型数量"
   ]
  },
  {
   "cell_type": "code",
   "execution_count": 20,
   "metadata": {},
   "outputs": [
    {
     "name": "stdout",
     "output_type": "stream",
     "text": [
      "grade: 7\n",
      "subGrade: 35\n",
      "employmentLength: 11\n"
     ]
    }
   ],
   "source": [
    "tmp_fea = ['grade', 'subGrade', 'employmentLength']\n",
    "for i in tmp_fea:\n",
    "    print('{}: {}'.format(i, train[i].nunique()))"
   ]
  },
  {
   "cell_type": "markdown",
   "metadata": {},
   "source": [
    "**转变grade与subGrade**  \n",
    "\n",
    "查看grade的类别"
   ]
  },
  {
   "cell_type": "code",
   "execution_count": 21,
   "metadata": {},
   "outputs": [
    {
     "data": {
      "text/plain": [
       "A    139661\n",
       "B    233690\n",
       "C    227118\n",
       "D    119453\n",
       "E     55661\n",
       "F     19053\n",
       "G      5364\n",
       "Name: grade, dtype: int64"
      ]
     },
     "execution_count": 21,
     "metadata": {},
     "output_type": "execute_result"
    }
   ],
   "source": [
    "train['grade'].value_counts(dropna=False).sort_index()"
   ]
  },
  {
   "cell_type": "markdown",
   "metadata": {},
   "source": [
    "查看subGrade的类别"
   ]
  },
  {
   "cell_type": "code",
   "execution_count": 22,
   "metadata": {
    "scrolled": true
   },
   "outputs": [
    {
     "data": {
      "text/plain": [
       "A1    25909\n",
       "A2    22124\n",
       "A3    22655\n",
       "A4    30928\n",
       "A5    38045\n",
       "B1    42382\n",
       "B2    44227\n",
       "B3    48600\n",
       "B4    49516\n",
       "B5    48965\n",
       "C1    50763\n",
       "C2    47068\n",
       "C3    44751\n",
       "C4    44272\n",
       "C5    40264\n",
       "D1    30538\n",
       "D2    26528\n",
       "D3    23410\n",
       "D4    21139\n",
       "D5    17838\n",
       "E1    14064\n",
       "E2    12746\n",
       "E3    10925\n",
       "E4     9273\n",
       "E5     8653\n",
       "F1     5925\n",
       "F2     4340\n",
       "F3     3577\n",
       "F4     2859\n",
       "F5     2352\n",
       "G1     1759\n",
       "G2     1231\n",
       "G3      978\n",
       "G4      751\n",
       "G5      645\n",
       "Name: subGrade, dtype: int64"
      ]
     },
     "execution_count": 22,
     "metadata": {},
     "output_type": "execute_result"
    }
   ],
   "source": [
    "train['subGrade'].value_counts(dropna=False).sort_index()"
   ]
  },
  {
   "cell_type": "markdown",
   "metadata": {},
   "source": [
    "观察可以推断，grade和subGrade可能为描述同一种属性的特征，通过代码来验证"
   ]
  },
  {
   "cell_type": "code",
   "execution_count": 23,
   "metadata": {},
   "outputs": [
    {
     "data": {
      "text/plain": [
       "0"
      ]
     },
     "execution_count": 23,
     "metadata": {},
     "output_type": "execute_result"
    }
   ],
   "source": [
    "train.apply(lambda x: x['grade'] not in x['subGrade'], axis=1).sum()"
   ]
  },
  {
   "cell_type": "markdown",
   "metadata": {},
   "source": [
    "可知grade能与subGrade一一对应上，相当于subGrade的前缀，将其删去"
   ]
  },
  {
   "cell_type": "code",
   "execution_count": 24,
   "metadata": {},
   "outputs": [],
   "source": [
    "for data in [train, test_a]:\n",
    "    data.drop(['grade'], axis=1, inplace=True)"
   ]
  },
  {
   "cell_type": "markdown",
   "metadata": {},
   "source": [
    "可知subGrade的几个类别都是存在大小关系的，所以最好通过映射的方式来转换"
   ]
  },
  {
   "cell_type": "code",
   "execution_count": 25,
   "metadata": {},
   "outputs": [],
   "source": [
    "alpha = ['A', 'B', 'C', 'D', 'E', 'F', 'G']\n",
    "sub_dict = {}\n",
    "num = 0\n",
    "for i in alpha:\n",
    "    for j in range(1, 6):\n",
    "        subgrade = '{}{}'.format(i, j)\n",
    "        sub_dict[subgrade] = num\n",
    "        num += 1"
   ]
  },
  {
   "cell_type": "code",
   "execution_count": 26,
   "metadata": {},
   "outputs": [],
   "source": [
    "\n",
    "for data in [train, test_a]:\n",
    "    # data = pd.get_dummies(data, columns=['subGrade'], drop_first=True)\n",
    "    data['subGrade'] = data['subGrade'].map(sub_dict)"
   ]
  },
  {
   "cell_type": "markdown",
   "metadata": {},
   "source": [
    "**转变employmentLength**  \n",
    "\n",
    "查看employmentLength类型"
   ]
  },
  {
   "cell_type": "code",
   "execution_count": 27,
   "metadata": {},
   "outputs": [
    {
     "data": {
      "text/plain": [
       "1 year        52489\n",
       "10+ years    262753\n",
       "2 years       72358\n",
       "3 years       64152\n",
       "4 years       47985\n",
       "5 years       50102\n",
       "6 years       37254\n",
       "7 years       35407\n",
       "8 years       36192\n",
       "9 years       30272\n",
       "< 1 year      64237\n",
       "NaN           46799\n",
       "Name: employmentLength, dtype: int64"
      ]
     },
     "execution_count": 27,
     "metadata": {},
     "output_type": "execute_result"
    }
   ],
   "source": [
    "train['employmentLength'].value_counts(dropna=False).sort_index()"
   ]
  },
  {
   "cell_type": "markdown",
   "metadata": {},
   "source": [
    "将年数转化为数字"
   ]
  },
  {
   "cell_type": "code",
   "execution_count": 28,
   "metadata": {},
   "outputs": [
    {
     "data": {
      "text/plain": [
       "0.0     15989\n",
       "1.0     13182\n",
       "2.0     18207\n",
       "3.0     16011\n",
       "4.0     11833\n",
       "5.0     12543\n",
       "6.0      9328\n",
       "7.0      8823\n",
       "8.0      8976\n",
       "9.0      7594\n",
       "10.0    65772\n",
       "NaN     11742\n",
       "Name: employmentLength, dtype: int64"
      ]
     },
     "execution_count": 28,
     "metadata": {},
     "output_type": "execute_result"
    }
   ],
   "source": [
    "def yearToNum(s):\n",
    "    if pd.isnull(s):\n",
    "        return s\n",
    "    else:\n",
    "        return np.int8(s.split()[0])\n",
    "for data in [train, test_a]:\n",
    "    data['employmentLength'].replace(to_replace='10+ years', value='10 years', inplace=True)\n",
    "    data['employmentLength'].replace('< 1 year', '0 years', inplace=True)\n",
    "    data['employmentLength'] = data['employmentLength'].apply(yearToNum)\n",
    "\n",
    "data['employmentLength'].value_counts(dropna=False).sort_index()"
   ]
  },
  {
   "cell_type": "markdown",
   "metadata": {},
   "source": [
    "**转变issueDate**  \n",
    "\n",
    "该类型为时间格式，考虑将其转化为某一时间后的天数"
   ]
  },
  {
   "cell_type": "code",
   "execution_count": 29,
   "metadata": {},
   "outputs": [],
   "source": [
    "for data in [train, test_a]:\n",
    "    data['issueDate'] = pd.to_datetime(data['issueDate'],format='%Y-%m-%d')\n",
    "    startdate = datetime.datetime.strptime('2001-01-01', '%Y-%m-%d')\n",
    "    data['issueDateDays'] = data['issueDate'].apply(lambda x: x-startdate).dt.days"
   ]
  },
  {
   "cell_type": "code",
   "execution_count": 30,
   "metadata": {},
   "outputs": [
    {
     "data": {
      "text/plain": [
       "358068    5417\n",
       "360650    5722\n",
       "532090    5203\n",
       "362430    5386\n",
       "416258    5660\n",
       "Name: issueDateDays, dtype: int64"
      ]
     },
     "execution_count": 30,
     "metadata": {},
     "output_type": "execute_result"
    }
   ],
   "source": [
    "train['issueDateDays'].sample(5)"
   ]
  },
  {
   "cell_type": "markdown",
   "metadata": {},
   "source": [
    "**转变earliesCreditLine**  \n",
    "\n",
    "查看其数据类型格式"
   ]
  },
  {
   "cell_type": "code",
   "execution_count": 31,
   "metadata": {},
   "outputs": [
    {
     "data": {
      "text/plain": [
       "415999    Oct-1999\n",
       "148089    Nov-1994\n",
       "145440    Sep-2003\n",
       "86260     May-2007\n",
       "59522     Feb-2004\n",
       "Name: earliesCreditLine, dtype: object"
      ]
     },
     "execution_count": 31,
     "metadata": {},
     "output_type": "execute_result"
    }
   ],
   "source": [
    "train['earliesCreditLine'].sample(5)"
   ]
  },
  {
   "cell_type": "markdown",
   "metadata": {},
   "source": [
    "考虑简单处理，只保留其后面的年份"
   ]
  },
  {
   "cell_type": "code",
   "execution_count": 32,
   "metadata": {},
   "outputs": [
    {
     "data": {
      "text/plain": [
       "571202    2002\n",
       "790460    2009\n",
       "659169    2005\n",
       "681541    2011\n",
       "368887    2003\n",
       "Name: earliesCreditLine, dtype: int64"
      ]
     },
     "execution_count": 32,
     "metadata": {},
     "output_type": "execute_result"
    }
   ],
   "source": [
    "for data in [train, test_a]:\n",
    "    data['earliesCreditLine'] = data['earliesCreditLine'].apply(lambda x: int(x[-4:]))\n",
    "\n",
    "train['earliesCreditLine'].sample(5)"
   ]
  },
  {
   "cell_type": "markdown",
   "metadata": {},
   "source": [
    "## 第二周内容完"
   ]
  },
  {
   "cell_type": "markdown",
   "metadata": {},
   "source": [
    "---"
   ]
  },
  {
   "cell_type": "markdown",
   "metadata": {},
   "source": [
    "#### 2.2.3 异常值处理"
   ]
  },
  {
   "cell_type": "markdown",
   "metadata": {},
   "source": [
    "该部分的主要思路是，采用箱型图分析找出各特征的异常值，然后对特征进行分箱并做平滑处理"
   ]
  },
  {
   "cell_type": "markdown",
   "metadata": {},
   "source": [
    "- 实现箱型图分析"
   ]
  },
  {
   "cell_type": "code",
   "execution_count": 33,
   "metadata": {},
   "outputs": [],
   "source": [
    "def detect_outliers(data, fea):\n",
    "    Q1 = np.percentile(data[fea], 25)\n",
    "    Q3 = np.percentile(data[fea], 75)\n",
    "    IQR = Q3 - Q1\n",
    "    outlier_step = IQR * 1.5\n",
    "    lower_threshold = Q1 - outlier_step\n",
    "    upper_threshold = Q3 + outlier_step\n",
    "    data[fea + '_outliers'] = data[fea].apply(lambda x: 1 if x > upper_threshold or x < lower_threshold else 0)\n",
    "    return data"
   ]
  },
  {
   "cell_type": "markdown",
   "metadata": {},
   "source": [
    "考虑到存在一些非连续数值型特征，会导致箱型图分析出现较多的异常值，所以筛选出连续性数值型特征"
   ]
  },
  {
   "cell_type": "code",
   "execution_count": 34,
   "metadata": {},
   "outputs": [
    {
     "data": {
      "text/plain": [
       "['id',\n",
       " 'loanAmnt',\n",
       " 'interestRate',\n",
       " 'installment',\n",
       " 'employmentTitle',\n",
       " 'annualIncome',\n",
       " 'purpose',\n",
       " 'postCode',\n",
       " 'regionCode',\n",
       " 'dti',\n",
       " 'delinquency_2years',\n",
       " 'ficoRangeLow',\n",
       " 'ficoRangeHigh',\n",
       " 'openAcc',\n",
       " 'pubRec',\n",
       " 'pubRecBankruptcies',\n",
       " 'revolBal',\n",
       " 'revolUtil',\n",
       " 'totalAcc',\n",
       " 'title',\n",
       " 'n0',\n",
       " 'n1',\n",
       " 'n2',\n",
       " 'n3',\n",
       " 'n4',\n",
       " 'n5',\n",
       " 'n6',\n",
       " 'n7',\n",
       " 'n8',\n",
       " 'n9',\n",
       " 'n10',\n",
       " 'n13',\n",
       " 'n14']"
      ]
     },
     "execution_count": 34,
     "metadata": {},
     "output_type": "execute_result"
    }
   ],
   "source": [
    "num_serial_fea = []\n",
    "for fea in num_fea:\n",
    "    if train[fea].nunique() > 10:\n",
    "        num_serial_fea.append(fea)\n",
    "        \n",
    "num_serial_fea"
   ]
  },
  {
   "cell_type": "markdown",
   "metadata": {},
   "source": [
    "- 检测异常值并打印信息"
   ]
  },
  {
   "cell_type": "code",
   "execution_count": 35,
   "metadata": {},
   "outputs": [
    {
     "name": "stdout",
     "output_type": "stream",
     "text": [
      "id异常值总数: 0\n",
      "loanAmnt异常值总数: 4246\n",
      "interestRate异常值总数: 14803\n",
      "installment异常值总数: 24992\n",
      "employmentTitle异常值总数: 53171\n",
      "annualIncome异常值总数: 39014\n",
      "purpose异常值总数: 2107\n",
      "postCode异常值总数: 2715\n",
      "regionCode异常值总数: 14948\n",
      "dti异常值总数: 3271\n",
      "delinquency_2years异常值总数: 154285\n",
      "ficoRangeLow异常值总数: 27667\n",
      "ficoRangeHigh异常值总数: 27667\n",
      "openAcc异常值总数: 27439\n",
      "pubRec异常值总数: 135235\n",
      "pubRecBankruptcies异常值总数: 99519\n",
      "revolBal异常值总数: 47355\n",
      "revolUtil异常值总数: 47\n",
      "totalAcc异常值总数: 13446\n",
      "title异常值总数: 114381\n",
      "n0异常值总数: 180303\n",
      "n1异常值总数: 15828\n",
      "n2异常值总数: 21457\n",
      "n3异常值总数: 21457\n",
      "n4异常值总数: 33948\n",
      "n5异常值总数: 34893\n",
      "n6异常值总数: 46771\n",
      "n7异常值总数: 32134\n",
      "n8异常值总数: 30213\n",
      "n9异常值总数: 19452\n",
      "n10异常值总数: 26784\n",
      "n13异常值总数: 43599\n",
      "n14异常值总数: 20576\n"
     ]
    }
   ],
   "source": [
    "for fea in num_serial_fea:\n",
    "    train = detect_outliers(train, fea)\n",
    "    fea_outlier = fea + '_outliers'\n",
    "    print('{}异常值总数: {}'.format(fea, train[fea_outlier].sum()))"
   ]
  },
  {
   "cell_type": "markdown",
   "metadata": {},
   "source": [
    "可以看出有很多特征存在大量异常值，这明显是不太合理的。而我们通过了解每一个特征代表的含义，可以将大部分去除。这里考虑对异常值在10000以下的特征进行处理"
   ]
  },
  {
   "cell_type": "code",
   "execution_count": 37,
   "metadata": {},
   "outputs": [
    {
     "data": {
      "text/plain": [
       "787815"
      ]
     },
     "execution_count": 37,
     "metadata": {},
     "output_type": "execute_result"
    }
   ],
   "source": [
    "for fea in num_serial_fea:\n",
    "    if train[fea + '_outliers'].sum() < 10000:\n",
    "        train = train[train[fea+'_outliers'] == 0]\n",
    "        train = train.reset_index(drop=True)\n",
    "    train.drop([fea+'_outliers'], axis=1, inplace=True)\n",
    "        \n",
    "len(train)"
   ]
  },
  {
   "cell_type": "markdown",
   "metadata": {},
   "source": [
    "## 第四周内容完\n",
    "---"
   ]
  },
  {
   "cell_type": "markdown",
   "metadata": {},
   "source": [
    "存储处理后的数据集"
   ]
  },
  {
   "cell_type": "code",
   "execution_count": 38,
   "metadata": {},
   "outputs": [],
   "source": [
    "train.to_csv('clean_train.csv')\n",
    "test_a.to_csv('clean_test.csv')"
   ]
  },
  {
   "cell_type": "markdown",
   "metadata": {},
   "source": [
    "## 3. 建立模型"
   ]
  },
  {
   "cell_type": "markdown",
   "metadata": {},
   "source": [
    "### 3.1 内容介绍\n",
    "- 模型介绍\n",
    "- 模型评估方法\n",
    "- 建模实现\n",
    "- 调参"
   ]
  },
  {
   "cell_type": "markdown",
   "metadata": {},
   "source": [
    "### 3.2 模型介绍 "
   ]
  },
  {
   "cell_type": "markdown",
   "metadata": {},
   "source": [
    "#### 3.2.1 集成模型"
   ]
  },
  {
   "cell_type": "markdown",
   "metadata": {},
   "source": [
    "集成模型是一种集成多个个体学习器，将弱学习器集成为强学习器的模型，相较于单一的分类器，该模型具有更高的泛化能力。其主要集成方法有bagging和boosting，这两种集成方法在课件上都有讨论。基于bagging思想的主要模型有随机森林，基于boosting思想的模型有：Adaboost，GBDT，XGBoost和LightGBM"
   ]
  },
  {
   "cell_type": "markdown",
   "metadata": {},
   "source": [
    "#### 3.2.2 LightBGM介绍"
   ]
  },
  {
   "cell_type": "markdown",
   "metadata": {},
   "source": [
    "LightGBM实际上相当于XGBoost的强化版本，而这两个模型都是基于GBDT的优化版本。相较于XGBoost，LightGBM有着更快的训练速度，更小的内存消耗，更高的准确率以及支持并行的学习。"
   ]
  },
  {
   "cell_type": "markdown",
   "metadata": {},
   "source": [
    "### 3.3 模型评估方法"
   ]
  },
  {
   "cell_type": "markdown",
   "metadata": {},
   "source": [
    "#### 3.3.1 介绍\n",
    "因为竞赛每日提交次数有限，这就需要我们在线下自我评估模型，而评估模型的方法就是划分训练集，一部分作为训练集一部分作为验证集，在训练出模型后，使用划分出来的验证集对模型进行评估。所以模型评估主要讨论的还是样本划分的方法，我们要保证样本训练集和验证集的分布和真实分布一致。"
   ]
  },
  {
   "cell_type": "markdown",
   "metadata": {},
   "source": [
    "#### 3.3.2 数据集划分"
   ]
  },
  {
   "cell_type": "markdown",
   "metadata": {},
   "source": [
    "- k折交叉验证  \n",
    "将样本划分为k折，对样本训练k次，每一次都从k个数据集中选一个作为测试集，其余作为训练集，最后输出k次训练的平均值，数据划分采取分层抽样的方法  \n",
    "- 留出法  \n",
    "直接将数据集分成互斥的两份，一份作为训练集一份作为测试集，划分依然采用分层抽样  \n",
    "- 自助法  \n",
    "每次从数据集中随机抽取一个样本放入测试集，抽取完后放回数据集，重复n次，得到大小为n的测试集，而从未被抽取到的样本则作为测试集，该划分采用随机抽样，且有放回"
   ]
  },
  {
   "cell_type": "markdown",
   "metadata": {},
   "source": [
    "### 3.4 建模实现"
   ]
  },
  {
   "cell_type": "markdown",
   "metadata": {},
   "source": [
    "这里采用LightGBM对数据集进行建模，同时采用k折验证交叉来对模型进行评估。这里提一点，boosting算法本身就不需要对数据进行归一化处理，所以在之前的数据预处理中并没对做这样的操作，而特征选择同理，在lightgbm提供的模型中，已经对征选择进行了实现。  \n",
    "模型的实现我放在了同目录下的另一个markdown文件中，这里给出链接：[数据建模](https://github.com/AmarKingso/DataMiningTraining/blob/master/FinancialRiskControl/Modeling.md)  \n",
    "该模型还没有对参数进行优化，这将在之后的工作中实现。"
   ]
  },
  {
   "cell_type": "markdown",
   "metadata": {},
   "source": [
    "## 第五周内容完\n",
    "---"
   ]
  },
  {
   "cell_type": "markdown",
   "metadata": {},
   "source": [
    "### 3.5 调参"
   ]
  },
  {
   "cell_type": "markdown",
   "metadata": {},
   "source": [
    "#### 3.5.1 调参方法介绍"
   ]
  },
  {
   "cell_type": "markdown",
   "metadata": {},
   "source": [
    "- 1. 贪心调参  \n",
    "先采用对当前模型影响最大的参数进行调优，当该参数变成最优后再对次一级影响的参数进行调优，直至调整所有参数。该方法缺点在于可能调到的是局部最优解而不是全局最优解"
   ]
  },
  {
   "cell_type": "markdown",
   "metadata": {},
   "source": [
    "- 2. 网格搜索  \n",
    "简而言之就是遍历所有的参数组合，找到最优参数组合，该调参方法得到的结果会优于贪心调参，但只适合较小的样本空间，太大的话搜索效率会大大降低"
   ]
  },
  {
   "cell_type": "markdown",
   "metadata": {},
   "source": [
    "- 3. 贝叶斯优化  \n",
    "贝叶斯调参会考虑之前参数的信息，不断添加样本点来更新后验分布；相较于网格搜索，贝叶斯调参的迭代次数少，速度快，对非凸问题依然有很好的表现。而贝叶斯调参也是此次我要选用的调参方法"
   ]
  },
  {
   "cell_type": "markdown",
   "metadata": {},
   "source": [
    "#### 3.5.2 贝叶斯调参实现步骤"
   ]
  },
  {
   "cell_type": "markdown",
   "metadata": {},
   "source": [
    "该部分的实现与建模放在同一个笔记中，详细代码请点击[贝叶斯调参](https://github.com/AmarKingso/DataMiningTraining/blob/master/FinancialRiskControl/Modeling.md)  \n",
    "该实现方法参考了kaggle上的一篇笔记[lgb-贝叶斯调参](https://www.kaggle.com/fayzur/lgb-bayesian-parameters-finding-rank-average)"
   ]
  },
  {
   "cell_type": "markdown",
   "metadata": {},
   "source": [
    "- 下载贝叶斯优化包 \n",
    "pip install bayesian-optimization"
   ]
  },
  {
   "cell_type": "markdown",
   "metadata": {},
   "source": [
    "- 定义优化的目标函数，返回需要优化的指标，即代码中实现的LGB_bayesian函数"
   ]
  },
  {
   "cell_type": "markdown",
   "metadata": {},
   "source": [
    "- 给定所调参数的范围，即bounds_LGB，要尽可能保证最优参数在给定范围内"
   ]
  },
  {
   "cell_type": "markdown",
   "metadata": {},
   "source": [
    "- 调用贝叶斯优化方法，maximize()  \n",
    "该方法中有两个比较重要的参数，都会直接影响到最后得到的参数，一个是n_iter，即贝叶斯优化的步数，步数越多，就越有可能找到一个好的最优值；另一个参数则是init_points，即需要执行多少次随机搜索的步骤，这可以使搜索空间更加多样化"
   ]
  },
  {
   "cell_type": "markdown",
   "metadata": {},
   "source": [
    "## 第六周内容完\n",
    "---"
   ]
  }
 ],
 "metadata": {
  "kernelspec": {
   "display_name": "Python 3",
   "language": "python",
   "name": "python3"
  },
  "language_info": {
   "codemirror_mode": {
    "name": "ipython",
    "version": 3
   },
   "file_extension": ".py",
   "mimetype": "text/x-python",
   "name": "python",
   "nbconvert_exporter": "python",
   "pygments_lexer": "ipython3",
   "version": "3.8.3"
  }
 },
 "nbformat": 4,
 "nbformat_minor": 4
}
