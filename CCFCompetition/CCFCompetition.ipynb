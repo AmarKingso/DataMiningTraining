{
 "cells": [
  {
   "cell_type": "markdown",
   "metadata": {},
   "source": [
    "# 企业非法集资风险预测"
   ]
  },
  {
   "cell_type": "markdown",
   "metadata": {},
   "source": [
    "导入所需的库"
   ]
  },
  {
   "cell_type": "code",
   "execution_count": 1,
   "metadata": {},
   "outputs": [],
   "source": [
    "import pandas as pd\n",
    "import numpy as np\n",
    "import datetime\n",
    "import xgboost as xgb\n",
    "import lightgbm as lgb\n",
    "import catboost as cat\n",
    "from sklearn.ensemble import RandomForestClassifier\n",
    "from sklearn.model_selection import StratifiedKFold,cross_val_score\n",
    "from sklearn.metrics import f1_score,precision_recall_fscore_support\n",
    "from bayes_opt import BayesianOptimization\n",
    "import warnings\n",
    "warnings.filterwarnings('ignore')\n",
    "pd.set_option('display.max_columns', None)"
   ]
  },
  {
   "cell_type": "markdown",
   "metadata": {},
   "source": [
    "## 数据分析"
   ]
  },
  {
   "cell_type": "markdown",
   "metadata": {},
   "source": [
    "读取所有文件，导入数据集"
   ]
  },
  {
   "cell_type": "code",
   "execution_count": 2,
   "metadata": {},
   "outputs": [],
   "source": [
    "base_info = pd.read_csv('base_info.csv')\n",
    "annual_report_info = pd.read_csv('annual_report_info.csv')\n",
    "tax_info = pd.read_csv('tax_info.csv')\n",
    "change_info = pd.read_csv('change_info.csv')\n",
    "news_info = pd.read_csv('news_info.csv')\n",
    "other_info = pd.read_csv('other_info.csv')\n",
    "entprise_info = pd.read_csv('entprise_info.csv')\n",
    "entprise_evaluate = pd.read_csv('entprise_evaluate.csv')"
   ]
  },
  {
   "cell_type": "markdown",
   "metadata": {},
   "source": [
    "根据提供的信息，可知最后两个分别为训练集标签与待预测的验证集标签，只有id与标签两列"
   ]
  },
  {
   "cell_type": "markdown",
   "metadata": {},
   "source": [
    "各数据集样本数量以及所包含的企业数量"
   ]
  },
  {
   "cell_type": "code",
   "execution_count": 3,
   "metadata": {},
   "outputs": [
    {
     "name": "stdout",
     "output_type": "stream",
     "text": [
      "base_info shape: (24865, 33); base_info unique: 24865\n",
      "annual_report_info shape: (22550, 23); annual_report_info unique: 8937\n",
      "tax_info shape: (29195, 9); tax_info unique: 808\n",
      "change_info shape: (45940, 5); change_info unique: 8726\n",
      "news_info shape: (10518, 3); news_info unique: 927\n",
      "other_info shape: (1890, 4); other_info unique: 1888\n",
      "entprise_info shape: (14865, 2); entprise_info unique: 14865\n",
      "entprise_evaluate shape: (10000, 2); entprise_evaluate unique: 10000\n"
     ]
    }
   ],
   "source": [
    "print('base_info shape: {}; base_info unique: {}'.format(base_info.shape, len(base_info['id'].unique())))\n",
    "print('annual_report_info shape: {}; annual_report_info unique: {}'.format(annual_report_info.shape, len(annual_report_info['id'].unique())))\n",
    "print('tax_info shape: {}; tax_info unique: {}'.format(tax_info.shape, len(tax_info['id'].unique())))\n",
    "print('change_info shape: {}; change_info unique: {}'.format(change_info.shape, len(change_info['id'].unique())))\n",
    "print('news_info shape: {}; news_info unique: {}'.format(news_info.shape, len(news_info['id'].unique())))\n",
    "print('other_info shape: {}; other_info unique: {}'.format(other_info.shape, len(other_info['id'].unique())))\n",
    "print('entprise_info shape: {}; entprise_info unique: {}'.format(entprise_info.shape, len(entprise_info['id'].unique())))\n",
    "print('entprise_evaluate shape: {}; entprise_evaluate unique: {}'.format(entprise_evaluate.shape, len(entprise_evaluate['id'].unique())))"
   ]
  },
  {
   "cell_type": "markdown",
   "metadata": {},
   "source": [
    "从以上信息可以看出，整个数据集共有24865家企业，除了base_info完整地提供了各企业的基本信息，其他数据集的企业附加信息并不完整，有很多企业并没有提供，类似新闻信息这一类更是缺失严重。除此之外，我们还能看到作为测试集的样本有14865条，作为验证集的有10000条"
   ]
  },
  {
   "cell_type": "markdown",
   "metadata": {},
   "source": [
    "查看前六个数据集的信息"
   ]
  },
  {
   "cell_type": "code",
   "execution_count": 4,
   "metadata": {
    "scrolled": true
   },
   "outputs": [
    {
     "name": "stdout",
     "output_type": "stream",
     "text": [
      "<class 'pandas.core.frame.DataFrame'>\n",
      "RangeIndex: 24865 entries, 0 to 24864\n",
      "Data columns (total 33 columns):\n",
      " #   Column         Non-Null Count  Dtype  \n",
      "---  ------         --------------  -----  \n",
      " 0   id             24865 non-null  object \n",
      " 1   oplocdistrict  24865 non-null  int64  \n",
      " 2   industryphy    24865 non-null  object \n",
      " 3   industryco     24864 non-null  float64\n",
      " 4   dom            24865 non-null  object \n",
      " 5   opscope        24865 non-null  object \n",
      " 6   enttype        24865 non-null  int64  \n",
      " 7   enttypeitem    16651 non-null  float64\n",
      " 8   opfrom         24865 non-null  object \n",
      " 9   opto           8825 non-null   object \n",
      " 10  state          24865 non-null  int64  \n",
      " 11  orgid          24865 non-null  int64  \n",
      " 12  jobid          24865 non-null  int64  \n",
      " 13  adbusign       24865 non-null  int64  \n",
      " 14  townsign       24865 non-null  int64  \n",
      " 15  regtype        24865 non-null  int64  \n",
      " 16  empnum         19615 non-null  float64\n",
      " 17  compform       10631 non-null  float64\n",
      " 18  parnum         2339 non-null   float64\n",
      " 19  exenum         1378 non-null   float64\n",
      " 20  opform         9000 non-null   object \n",
      " 21  ptbusscope     0 non-null      float64\n",
      " 22  venind         8437 non-null   float64\n",
      " 23  enttypeminu    7270 non-null   float64\n",
      " 24  midpreindcode  0 non-null      float64\n",
      " 25  protype        34 non-null     float64\n",
      " 26  oploc          24865 non-null  object \n",
      " 27  regcap         24674 non-null  float64\n",
      " 28  reccap         7084 non-null   float64\n",
      " 29  forreccap      227 non-null    float64\n",
      " 30  forregcap      250 non-null    float64\n",
      " 31  congro         249 non-null    float64\n",
      " 32  enttypegb      24865 non-null  int64  \n",
      "dtypes: float64(16), int64(9), object(8)\n",
      "memory usage: 6.3+ MB\n"
     ]
    }
   ],
   "source": [
    "base_info.info()"
   ]
  },
  {
   "cell_type": "code",
   "execution_count": 5,
   "metadata": {},
   "outputs": [
    {
     "name": "stdout",
     "output_type": "stream",
     "text": [
      "<class 'pandas.core.frame.DataFrame'>\n",
      "RangeIndex: 22550 entries, 0 to 22549\n",
      "Data columns (total 23 columns):\n",
      " #   Column         Non-Null Count  Dtype  \n",
      "---  ------         --------------  -----  \n",
      " 0   id             22550 non-null  object \n",
      " 1   ANCHEYEAR      22550 non-null  float64\n",
      " 2   STATE          22545 non-null  float64\n",
      " 3   FUNDAM         5702 non-null   float64\n",
      " 4   MEMNUM         29 non-null     float64\n",
      " 5   FARNUM         29 non-null     float64\n",
      " 6   ANNNEWMEMNUM   29 non-null     float64\n",
      " 7   ANNREDMEMNUM   29 non-null     float64\n",
      " 8   EMPNUM         22535 non-null  float64\n",
      " 9   EMPNUMSIGN     16833 non-null  float64\n",
      " 10  BUSSTNAME      17680 non-null  object \n",
      " 11  COLGRANUM      20041 non-null  float64\n",
      " 12  RETSOLNUM      20041 non-null  float64\n",
      " 13  DISPERNUM      20041 non-null  float64\n",
      " 14  UNENUM         20041 non-null  float64\n",
      " 15  COLEMPLNUM     20041 non-null  float64\n",
      " 16  RETEMPLNUM     20041 non-null  float64\n",
      " 17  DISEMPLNUM     20041 non-null  float64\n",
      " 18  UNEEMPLNUM     20041 non-null  float64\n",
      " 19  WEBSITSIGN     22517 non-null  float64\n",
      " 20  FORINVESTSIGN  16489 non-null  float64\n",
      " 21  STOCKTRANSIGN  13507 non-null  float64\n",
      " 22  PUBSTATE       22530 non-null  float64\n",
      "dtypes: float64(21), object(2)\n",
      "memory usage: 4.0+ MB\n"
     ]
    }
   ],
   "source": [
    "annual_report_info.info()"
   ]
  },
  {
   "cell_type": "code",
   "execution_count": 6,
   "metadata": {},
   "outputs": [
    {
     "name": "stdout",
     "output_type": "stream",
     "text": [
      "<class 'pandas.core.frame.DataFrame'>\n",
      "RangeIndex: 29195 entries, 0 to 29194\n",
      "Data columns (total 9 columns):\n",
      " #   Column          Non-Null Count  Dtype  \n",
      "---  ------          --------------  -----  \n",
      " 0   id              29195 non-null  object \n",
      " 1   START_DATE      29195 non-null  object \n",
      " 2   END_DATE        29195 non-null  object \n",
      " 3   TAX_CATEGORIES  29195 non-null  object \n",
      " 4   TAX_ITEMS       29195 non-null  object \n",
      " 5   TAXATION_BASIS  25816 non-null  float64\n",
      " 6   TAX_RATE        25816 non-null  float64\n",
      " 7   DEDUCTION       24235 non-null  float64\n",
      " 8   TAX_AMOUNT      29195 non-null  float64\n",
      "dtypes: float64(4), object(5)\n",
      "memory usage: 2.0+ MB\n"
     ]
    }
   ],
   "source": [
    "tax_info.info()"
   ]
  },
  {
   "cell_type": "code",
   "execution_count": 7,
   "metadata": {},
   "outputs": [
    {
     "name": "stdout",
     "output_type": "stream",
     "text": [
      "<class 'pandas.core.frame.DataFrame'>\n",
      "RangeIndex: 45940 entries, 0 to 45939\n",
      "Data columns (total 5 columns):\n",
      " #   Column  Non-Null Count  Dtype  \n",
      "---  ------  --------------  -----  \n",
      " 0   id      45940 non-null  object \n",
      " 1   bgxmdm  45940 non-null  float64\n",
      " 2   bgq     45940 non-null  object \n",
      " 3   bgh     45940 non-null  object \n",
      " 4   bgrq    45940 non-null  float64\n",
      "dtypes: float64(2), object(3)\n",
      "memory usage: 1.8+ MB\n"
     ]
    }
   ],
   "source": [
    "change_info.info()"
   ]
  },
  {
   "cell_type": "code",
   "execution_count": 8,
   "metadata": {},
   "outputs": [
    {
     "name": "stdout",
     "output_type": "stream",
     "text": [
      "<class 'pandas.core.frame.DataFrame'>\n",
      "RangeIndex: 10518 entries, 0 to 10517\n",
      "Data columns (total 3 columns):\n",
      " #   Column            Non-Null Count  Dtype \n",
      "---  ------            --------------  ----- \n",
      " 0   id                10518 non-null  object\n",
      " 1   positive_negtive  10518 non-null  object\n",
      " 2   public_date       10518 non-null  object\n",
      "dtypes: object(3)\n",
      "memory usage: 246.6+ KB\n"
     ]
    }
   ],
   "source": [
    "news_info.info()"
   ]
  },
  {
   "cell_type": "code",
   "execution_count": 9,
   "metadata": {},
   "outputs": [
    {
     "name": "stdout",
     "output_type": "stream",
     "text": [
      "<class 'pandas.core.frame.DataFrame'>\n",
      "RangeIndex: 1890 entries, 0 to 1889\n",
      "Data columns (total 4 columns):\n",
      " #   Column              Non-Null Count  Dtype  \n",
      "---  ------              --------------  -----  \n",
      " 0   id                  1890 non-null   object \n",
      " 1   legal_judgment_num  1006 non-null   float64\n",
      " 2   brand_num           909 non-null    float64\n",
      " 3   patent_num          396 non-null    float64\n",
      "dtypes: float64(3), object(1)\n",
      "memory usage: 59.2+ KB\n"
     ]
    }
   ],
   "source": [
    "other_info.info()"
   ]
  },
  {
   "cell_type": "markdown",
   "metadata": {},
   "source": [
    "如上述所言，除了企业基本信息外，其余数据集企业空缺都比较大，所以最先考虑只用base_info一个数据集来建模。"
   ]
  },
  {
   "cell_type": "code",
   "execution_count": 10,
   "metadata": {},
   "outputs": [],
   "source": [
    "data_set = base_info.copy()"
   ]
  },
  {
   "cell_type": "markdown",
   "metadata": {},
   "source": [
    "## 数据预处理"
   ]
  },
  {
   "cell_type": "markdown",
   "metadata": {},
   "source": [
    "查看base_info各特征缺失率，并将缺失率超过0.5的特征删除"
   ]
  },
  {
   "cell_type": "code",
   "execution_count": 11,
   "metadata": {},
   "outputs": [
    {
     "name": "stdout",
     "output_type": "stream",
     "text": [
      "id empty rate: 0.0\n",
      "oplocdistrict empty rate: 0.0\n",
      "industryphy empty rate: 0.0\n",
      "industryco empty rate: 4.021717273275689e-05\n",
      "dom empty rate: 0.0\n",
      "opscope empty rate: 0.0\n",
      "enttype empty rate: 0.0\n",
      "enttypeitem empty rate: 0.33034385682686507\n",
      "opfrom empty rate: 0.0\n",
      "opto empty rate: 0.6450834506334204\n",
      "[remove opto]\n",
      "state empty rate: 0.0\n",
      "orgid empty rate: 0.0\n",
      "jobid empty rate: 0.0\n",
      "adbusign empty rate: 0.0\n",
      "townsign empty rate: 0.0\n",
      "regtype empty rate: 0.0\n",
      "empnum empty rate: 0.21114015684697365\n",
      "compform empty rate: 0.5724512366780615\n",
      "[remove compform]\n",
      "parnum empty rate: 0.9059320329780817\n",
      "[remove parnum]\n",
      "exenum empty rate: 0.944580735974261\n",
      "[remove exenum]\n",
      "opform empty rate: 0.638045445405188\n",
      "[remove opform]\n",
      "ptbusscope empty rate: 1.0\n",
      "[remove ptbusscope]\n",
      "venind empty rate: 0.6606877136537301\n",
      "[remove venind]\n",
      "enttypeminu empty rate: 0.7076211542328574\n",
      "[remove enttypeminu]\n",
      "midpreindcode empty rate: 1.0\n",
      "[remove midpreindcode]\n",
      "protype empty rate: 0.9986326161270863\n",
      "[remove protype]\n",
      "oploc empty rate: 0.0\n",
      "regcap empty rate: 0.007681479991956565\n",
      "reccap empty rate: 0.7151015483611503\n",
      "[remove reccap]\n",
      "forreccap empty rate: 0.9908707017896642\n",
      "[remove forreccap]\n",
      "forregcap empty rate: 0.9899457068168108\n",
      "[remove forregcap]\n",
      "congro empty rate: 0.9899859239895435\n",
      "[remove congro]\n",
      "enttypegb empty rate: 0.0\n"
     ]
    }
   ],
   "source": [
    "for fea in base_info.columns: \n",
    "    empty_rate = base_info.isnull().sum()[fea]/len(base_info)\n",
    "    print('{} empty rate: {}'.format(fea, empty_rate))\n",
    "    if empty_rate > 0.5:\n",
    "        data_set.drop(fea, axis=1, inplace=True)\n",
    "        print('[remove {}]'.format(fea))"
   ]
  },
  {
   "cell_type": "markdown",
   "metadata": {},
   "source": [
    "查看拥有唯一值的特征"
   ]
  },
  {
   "cell_type": "code",
   "execution_count": 12,
   "metadata": {},
   "outputs": [
    {
     "data": {
      "text/plain": [
       "[]"
      ]
     },
     "execution_count": 12,
     "metadata": {},
     "output_type": "execute_result"
    }
   ],
   "source": [
    "unique_val = [fea for fea in data_set.columns if data_set[fea].nunique() <= 1]\n",
    "unique_val"
   ]
  },
  {
   "cell_type": "markdown",
   "metadata": {},
   "source": [
    "没有具有唯一值的特征，查看当前base_info信息"
   ]
  },
  {
   "cell_type": "code",
   "execution_count": 13,
   "metadata": {
    "scrolled": true
   },
   "outputs": [
    {
     "name": "stdout",
     "output_type": "stream",
     "text": [
      "<class 'pandas.core.frame.DataFrame'>\n",
      "RangeIndex: 24865 entries, 0 to 24864\n",
      "Data columns (total 19 columns):\n",
      " #   Column         Non-Null Count  Dtype  \n",
      "---  ------         --------------  -----  \n",
      " 0   id             24865 non-null  object \n",
      " 1   oplocdistrict  24865 non-null  int64  \n",
      " 2   industryphy    24865 non-null  object \n",
      " 3   industryco     24864 non-null  float64\n",
      " 4   dom            24865 non-null  object \n",
      " 5   opscope        24865 non-null  object \n",
      " 6   enttype        24865 non-null  int64  \n",
      " 7   enttypeitem    16651 non-null  float64\n",
      " 8   opfrom         24865 non-null  object \n",
      " 9   state          24865 non-null  int64  \n",
      " 10  orgid          24865 non-null  int64  \n",
      " 11  jobid          24865 non-null  int64  \n",
      " 12  adbusign       24865 non-null  int64  \n",
      " 13  townsign       24865 non-null  int64  \n",
      " 14  regtype        24865 non-null  int64  \n",
      " 15  empnum         19615 non-null  float64\n",
      " 16  oploc          24865 non-null  object \n",
      " 17  regcap         24674 non-null  float64\n",
      " 18  enttypegb      24865 non-null  int64  \n",
      "dtypes: float64(4), int64(9), object(6)\n",
      "memory usage: 3.6+ MB\n"
     ]
    }
   ],
   "source": [
    "data_set.info()"
   ]
  },
  {
   "cell_type": "markdown",
   "metadata": {},
   "source": [
    "特征数据类型划分"
   ]
  },
  {
   "cell_type": "code",
   "execution_count": 14,
   "metadata": {},
   "outputs": [
    {
     "data": {
      "text/plain": [
       "['oplocdistrict',\n",
       " 'industryco',\n",
       " 'enttype',\n",
       " 'enttypeitem',\n",
       " 'state',\n",
       " 'orgid',\n",
       " 'jobid',\n",
       " 'adbusign',\n",
       " 'townsign',\n",
       " 'regtype',\n",
       " 'empnum',\n",
       " 'regcap',\n",
       " 'enttypegb']"
      ]
     },
     "execution_count": 14,
     "metadata": {},
     "output_type": "execute_result"
    }
   ],
   "source": [
    "num_fea = list(data_set.select_dtypes(exclude=['object']).columns)\n",
    "num_fea"
   ]
  },
  {
   "cell_type": "code",
   "execution_count": 15,
   "metadata": {},
   "outputs": [
    {
     "data": {
      "text/plain": [
       "['id', 'industryphy', 'dom', 'opscope', 'opfrom', 'oploc']"
      ]
     },
     "execution_count": 15,
     "metadata": {},
     "output_type": "execute_result"
    }
   ],
   "source": [
    "obj_fea = list(filter(lambda x: x not in num_fea,list(data_set.columns)))\n",
    "obj_fea"
   ]
  },
  {
   "cell_type": "markdown",
   "metadata": {},
   "source": [
    "这一步我们需要做的是将对象型特征转化为数值型，以便后续缺失值的填补以及其他操作。"
   ]
  },
  {
   "cell_type": "markdown",
   "metadata": {},
   "source": [
    "首先我们要了解这几个对象型特征的含义，id不用管，该特征对最后建模没有影响；industryphy为行业类别代码，dom为经营地址；opscope为经营范围；opfrom为经营期限起，oploc为经营场所"
   ]
  },
  {
   "cell_type": "markdown",
   "metadata": {},
   "source": [
    "查看这几个属性的具体特征值"
   ]
  },
  {
   "cell_type": "code",
   "execution_count": 16,
   "metadata": {
    "scrolled": true
   },
   "outputs": [
    {
     "data": {
      "text/html": [
       "<div>\n",
       "<style scoped>\n",
       "    .dataframe tbody tr th:only-of-type {\n",
       "        vertical-align: middle;\n",
       "    }\n",
       "\n",
       "    .dataframe tbody tr th {\n",
       "        vertical-align: top;\n",
       "    }\n",
       "\n",
       "    .dataframe thead th {\n",
       "        text-align: right;\n",
       "    }\n",
       "</style>\n",
       "<table border=\"1\" class=\"dataframe\">\n",
       "  <thead>\n",
       "    <tr style=\"text-align: right;\">\n",
       "      <th></th>\n",
       "      <th>id</th>\n",
       "      <th>industryphy</th>\n",
       "      <th>dom</th>\n",
       "      <th>opscope</th>\n",
       "      <th>opfrom</th>\n",
       "      <th>oploc</th>\n",
       "    </tr>\n",
       "  </thead>\n",
       "  <tbody>\n",
       "    <tr>\n",
       "      <th>0</th>\n",
       "      <td>47645761dc56bb8c5fae00114b768b5d9b6e917c3aec07c4</td>\n",
       "      <td>M</td>\n",
       "      <td>31487d8f256f16bd6244b7251be2ebb24d1db51663c654...</td>\n",
       "      <td>纳米新材料、机械设备、五金配件加工、销售及技术推广服务，道路货物运输。（依法须经批准的项目，...</td>\n",
       "      <td>2019-07-11 00:00:00</td>\n",
       "      <td>2367b4cac96d8598</td>\n",
       "    </tr>\n",
       "    <tr>\n",
       "      <th>1</th>\n",
       "      <td>9c7fa510616a683058ce97d0bc768a621cd85ab1e87da2a3</td>\n",
       "      <td>O</td>\n",
       "      <td>31487d8f256f16bd6244b7251be2ebb27b17bdfd95c8f3...</td>\n",
       "      <td>健身服务。（依法须经批准的项目，经相关部门批准后方可开展经营活动）</td>\n",
       "      <td>2017-09-06</td>\n",
       "      <td>31487d8f256f16bd6244b7251be2ebb27b17bdfd95c8f3...</td>\n",
       "    </tr>\n",
       "    <tr>\n",
       "      <th>2</th>\n",
       "      <td>59b38c56de3836838082cfcb1a298951abfe15e6940c49ba</td>\n",
       "      <td>R</td>\n",
       "      <td>31487d8f256f16bd6244b7251be2ebb2ae36cd652943e8...</td>\n",
       "      <td>文化娱乐经纪人服务；境内文艺活动组织与策划；文化艺术交流活动组织策划；演出经纪；其他文化艺术...</td>\n",
       "      <td>2020-09-14 14:46:30</td>\n",
       "      <td>2367b4cac96d8598</td>\n",
       "    </tr>\n",
       "    <tr>\n",
       "      <th>3</th>\n",
       "      <td>e9f7b28ec10e047000d16ab79e1b5e6da434a1697cce7818</td>\n",
       "      <td>L</td>\n",
       "      <td>746df9aaed8578571760c563abe882c8ba25209fc6d5db...</td>\n",
       "      <td>投资管理及咨询(证券、期货除外)；企业管理。（依法须经批准的项目，经相关部门批准后方可开展经...</td>\n",
       "      <td>2015-09-30</td>\n",
       "      <td>2367b4cac96d8598</td>\n",
       "    </tr>\n",
       "    <tr>\n",
       "      <th>4</th>\n",
       "      <td>f000950527a6feb63ee1ce82bb22ddd1ab8b8fdffa3b91fb</td>\n",
       "      <td>R</td>\n",
       "      <td>31487d8f256f16bd6244b7251be2ebb2ae36cd652943e8...</td>\n",
       "      <td>境内文化艺术交流活动策划；企业形象策划；礼仪庆典服务；翻译服务；专利代理；广告设计、制作、代...</td>\n",
       "      <td>2017-12-01</td>\n",
       "      <td>2367b4cac96d8598</td>\n",
       "    </tr>\n",
       "  </tbody>\n",
       "</table>\n",
       "</div>"
      ],
      "text/plain": [
       "                                                 id industryphy  \\\n",
       "0  47645761dc56bb8c5fae00114b768b5d9b6e917c3aec07c4           M   \n",
       "1  9c7fa510616a683058ce97d0bc768a621cd85ab1e87da2a3           O   \n",
       "2  59b38c56de3836838082cfcb1a298951abfe15e6940c49ba           R   \n",
       "3  e9f7b28ec10e047000d16ab79e1b5e6da434a1697cce7818           L   \n",
       "4  f000950527a6feb63ee1ce82bb22ddd1ab8b8fdffa3b91fb           R   \n",
       "\n",
       "                                                 dom  \\\n",
       "0  31487d8f256f16bd6244b7251be2ebb24d1db51663c654...   \n",
       "1  31487d8f256f16bd6244b7251be2ebb27b17bdfd95c8f3...   \n",
       "2  31487d8f256f16bd6244b7251be2ebb2ae36cd652943e8...   \n",
       "3  746df9aaed8578571760c563abe882c8ba25209fc6d5db...   \n",
       "4  31487d8f256f16bd6244b7251be2ebb2ae36cd652943e8...   \n",
       "\n",
       "                                             opscope               opfrom  \\\n",
       "0  纳米新材料、机械设备、五金配件加工、销售及技术推广服务，道路货物运输。（依法须经批准的项目，...  2019-07-11 00:00:00   \n",
       "1                  健身服务。（依法须经批准的项目，经相关部门批准后方可开展经营活动）           2017-09-06   \n",
       "2  文化娱乐经纪人服务；境内文艺活动组织与策划；文化艺术交流活动组织策划；演出经纪；其他文化艺术...  2020-09-14 14:46:30   \n",
       "3  投资管理及咨询(证券、期货除外)；企业管理。（依法须经批准的项目，经相关部门批准后方可开展经...           2015-09-30   \n",
       "4  境内文化艺术交流活动策划；企业形象策划；礼仪庆典服务；翻译服务；专利代理；广告设计、制作、代...           2017-12-01   \n",
       "\n",
       "                                               oploc  \n",
       "0                                   2367b4cac96d8598  \n",
       "1  31487d8f256f16bd6244b7251be2ebb27b17bdfd95c8f3...  \n",
       "2                                   2367b4cac96d8598  \n",
       "3                                   2367b4cac96d8598  \n",
       "4                                   2367b4cac96d8598  "
      ]
     },
     "execution_count": 16,
     "metadata": {},
     "output_type": "execute_result"
    }
   ],
   "source": [
    "data_set[obj_fea].head()"
   ]
  },
  {
   "cell_type": "markdown",
   "metadata": {},
   "source": [
    "- 对industryphy进行处理"
   ]
  },
  {
   "cell_type": "code",
   "execution_count": 17,
   "metadata": {},
   "outputs": [
    {
     "data": {
      "text/plain": [
       "array(['M', 'O', 'R', 'L', 'P', 'J', 'Q', 'N', 'F', 'E', 'C', 'K', 'D',\n",
       "       'I', 'S', 'G', 'A', 'T', 'H', 'B'], dtype=object)"
      ]
     },
     "execution_count": 17,
     "metadata": {},
     "output_type": "execute_result"
    }
   ],
   "source": [
    "data_set['industryphy'].unique()"
   ]
  },
  {
   "cell_type": "markdown",
   "metadata": {},
   "source": [
    "可知该特征值是离散的，且相互之间不存在大小关系，采用one-hot映射"
   ]
  },
  {
   "cell_type": "code",
   "execution_count": 18,
   "metadata": {
    "scrolled": true
   },
   "outputs": [
    {
     "name": "stdout",
     "output_type": "stream",
     "text": [
      "<class 'pandas.core.frame.DataFrame'>\n",
      "RangeIndex: 24865 entries, 0 to 24864\n",
      "Data columns (total 38 columns):\n",
      " #   Column         Non-Null Count  Dtype  \n",
      "---  ------         --------------  -----  \n",
      " 0   id             24865 non-null  object \n",
      " 1   oplocdistrict  24865 non-null  int64  \n",
      " 2   industryco     24864 non-null  float64\n",
      " 3   dom            24865 non-null  object \n",
      " 4   opscope        24865 non-null  object \n",
      " 5   enttype        24865 non-null  int64  \n",
      " 6   enttypeitem    16651 non-null  float64\n",
      " 7   opfrom         24865 non-null  object \n",
      " 8   state          24865 non-null  int64  \n",
      " 9   orgid          24865 non-null  int64  \n",
      " 10  jobid          24865 non-null  int64  \n",
      " 11  adbusign       24865 non-null  int64  \n",
      " 12  townsign       24865 non-null  int64  \n",
      " 13  regtype        24865 non-null  int64  \n",
      " 14  empnum         19615 non-null  float64\n",
      " 15  oploc          24865 non-null  object \n",
      " 16  regcap         24674 non-null  float64\n",
      " 17  enttypegb      24865 non-null  int64  \n",
      " 18  A              24865 non-null  uint8  \n",
      " 19  B              24865 non-null  uint8  \n",
      " 20  C              24865 non-null  uint8  \n",
      " 21  D              24865 non-null  uint8  \n",
      " 22  E              24865 non-null  uint8  \n",
      " 23  F              24865 non-null  uint8  \n",
      " 24  G              24865 non-null  uint8  \n",
      " 25  H              24865 non-null  uint8  \n",
      " 26  I              24865 non-null  uint8  \n",
      " 27  J              24865 non-null  uint8  \n",
      " 28  K              24865 non-null  uint8  \n",
      " 29  L              24865 non-null  uint8  \n",
      " 30  M              24865 non-null  uint8  \n",
      " 31  N              24865 non-null  uint8  \n",
      " 32  O              24865 non-null  uint8  \n",
      " 33  P              24865 non-null  uint8  \n",
      " 34  Q              24865 non-null  uint8  \n",
      " 35  R              24865 non-null  uint8  \n",
      " 36  S              24865 non-null  uint8  \n",
      " 37  T              24865 non-null  uint8  \n",
      "dtypes: float64(4), int64(9), object(5), uint8(20)\n",
      "memory usage: 3.9+ MB\n"
     ]
    }
   ],
   "source": [
    "data_set = data_set.join(pd.get_dummies(data_set['industryphy']))\n",
    "data_set.drop('industryphy', axis=1, inplace=True)\n",
    "data_set.info()"
   ]
  },
  {
   "cell_type": "markdown",
   "metadata": {},
   "source": [
    "- 对dom进行处理"
   ]
  },
  {
   "cell_type": "code",
   "execution_count": 19,
   "metadata": {},
   "outputs": [
    {
     "data": {
      "text/plain": [
       "23278"
      ]
     },
     "execution_count": 19,
     "metadata": {},
     "output_type": "execute_result"
    }
   ],
   "source": [
    "len(data_set['dom'].unique())"
   ]
  },
  {
   "cell_type": "markdown",
   "metadata": {},
   "source": [
    "该特征暂时没有好的转换方式，故采用直接映射的方法"
   ]
  },
  {
   "cell_type": "code",
   "execution_count": 20,
   "metadata": {},
   "outputs": [],
   "source": [
    "mapping = {}\n",
    "index = data_set['dom'].unique()\n",
    "for i in range(len(index)):\n",
    "    mapping[index[i]]=i\n",
    "data_set['dom'] = data_set['dom'].map(mapping)"
   ]
  },
  {
   "cell_type": "markdown",
   "metadata": {},
   "source": [
    "- 对opscope处理"
   ]
  },
  {
   "cell_type": "markdown",
   "metadata": {},
   "source": [
    "该特征由汉字构成，暂时能想到的方法就是词频统计，但比较麻烦，所以这里先不对其进行处理，直接去掉该特征"
   ]
  },
  {
   "cell_type": "code",
   "execution_count": 21,
   "metadata": {},
   "outputs": [],
   "source": [
    "data_set.drop('opscope', axis=1, inplace=True)"
   ]
  },
  {
   "cell_type": "markdown",
   "metadata": {},
   "source": [
    "- 对opfrom进行处理"
   ]
  },
  {
   "cell_type": "markdown",
   "metadata": {},
   "source": [
    "可以将该特征转化为与某一特定时间之间的时间差。同时观察数据可以得知，大多数企业的经营区间都是50年，由此可以大致推算填补opto的缺失值，不过这里先不实现，等提交过后再来进行该处理看分数是否有提高。"
   ]
  },
  {
   "cell_type": "code",
   "execution_count": 22,
   "metadata": {},
   "outputs": [],
   "source": [
    "data_set['opfrom'] = pd.to_datetime(data_set['opfrom'],format='%Y-%m-%d')\n",
    "startdate = datetime.datetime.strptime('2020-10-13', '%Y-%m-%d')\n",
    "data_set['opfromDays'] = data_set['opfrom'].apply(lambda x: startdate-x).dt.days\n",
    "data_set.drop('opfrom', axis=1, inplace=True)"
   ]
  },
  {
   "cell_type": "markdown",
   "metadata": {},
   "source": [
    "- 对oploc进行处理"
   ]
  },
  {
   "cell_type": "markdown",
   "metadata": {},
   "source": [
    "做和dom一样的处理，直接映射"
   ]
  },
  {
   "cell_type": "code",
   "execution_count": 23,
   "metadata": {},
   "outputs": [],
   "source": [
    "mapping = {}\n",
    "index = data_set['oploc'].unique()\n",
    "for i in range(len(index)):\n",
    "    mapping[index[i]]=i\n",
    "data_set['oploc'] = data_set['oploc'].map(mapping)"
   ]
  },
  {
   "cell_type": "markdown",
   "metadata": {},
   "source": [
    "至此特征类型的简单编码就完成了，查看处理后的数据"
   ]
  },
  {
   "cell_type": "code",
   "execution_count": 24,
   "metadata": {},
   "outputs": [
    {
     "data": {
      "text/html": [
       "<div>\n",
       "<style scoped>\n",
       "    .dataframe tbody tr th:only-of-type {\n",
       "        vertical-align: middle;\n",
       "    }\n",
       "\n",
       "    .dataframe tbody tr th {\n",
       "        vertical-align: top;\n",
       "    }\n",
       "\n",
       "    .dataframe thead th {\n",
       "        text-align: right;\n",
       "    }\n",
       "</style>\n",
       "<table border=\"1\" class=\"dataframe\">\n",
       "  <thead>\n",
       "    <tr style=\"text-align: right;\">\n",
       "      <th></th>\n",
       "      <th>id</th>\n",
       "      <th>oplocdistrict</th>\n",
       "      <th>industryco</th>\n",
       "      <th>dom</th>\n",
       "      <th>enttype</th>\n",
       "      <th>enttypeitem</th>\n",
       "      <th>state</th>\n",
       "      <th>orgid</th>\n",
       "      <th>jobid</th>\n",
       "      <th>adbusign</th>\n",
       "      <th>townsign</th>\n",
       "      <th>regtype</th>\n",
       "      <th>empnum</th>\n",
       "      <th>oploc</th>\n",
       "      <th>regcap</th>\n",
       "      <th>enttypegb</th>\n",
       "      <th>A</th>\n",
       "      <th>B</th>\n",
       "      <th>C</th>\n",
       "      <th>D</th>\n",
       "      <th>E</th>\n",
       "      <th>F</th>\n",
       "      <th>G</th>\n",
       "      <th>H</th>\n",
       "      <th>I</th>\n",
       "      <th>J</th>\n",
       "      <th>K</th>\n",
       "      <th>L</th>\n",
       "      <th>M</th>\n",
       "      <th>N</th>\n",
       "      <th>O</th>\n",
       "      <th>P</th>\n",
       "      <th>Q</th>\n",
       "      <th>R</th>\n",
       "      <th>S</th>\n",
       "      <th>T</th>\n",
       "      <th>opfromDays</th>\n",
       "    </tr>\n",
       "  </thead>\n",
       "  <tbody>\n",
       "    <tr>\n",
       "      <th>0</th>\n",
       "      <td>47645761dc56bb8c5fae00114b768b5d9b6e917c3aec07c4</td>\n",
       "      <td>340223</td>\n",
       "      <td>7513.0</td>\n",
       "      <td>0</td>\n",
       "      <td>1100</td>\n",
       "      <td>1150.0</td>\n",
       "      <td>6</td>\n",
       "      <td>340223010010000000</td>\n",
       "      <td>340200000000115392</td>\n",
       "      <td>0</td>\n",
       "      <td>0</td>\n",
       "      <td>1</td>\n",
       "      <td>5.0</td>\n",
       "      <td>0</td>\n",
       "      <td>50.0</td>\n",
       "      <td>1151</td>\n",
       "      <td>0</td>\n",
       "      <td>0</td>\n",
       "      <td>0</td>\n",
       "      <td>0</td>\n",
       "      <td>0</td>\n",
       "      <td>0</td>\n",
       "      <td>0</td>\n",
       "      <td>0</td>\n",
       "      <td>0</td>\n",
       "      <td>0</td>\n",
       "      <td>0</td>\n",
       "      <td>0</td>\n",
       "      <td>1</td>\n",
       "      <td>0</td>\n",
       "      <td>0</td>\n",
       "      <td>0</td>\n",
       "      <td>0</td>\n",
       "      <td>0</td>\n",
       "      <td>0</td>\n",
       "      <td>0</td>\n",
       "      <td>460</td>\n",
       "    </tr>\n",
       "    <tr>\n",
       "      <th>1</th>\n",
       "      <td>9c7fa510616a683058ce97d0bc768a621cd85ab1e87da2a3</td>\n",
       "      <td>340222</td>\n",
       "      <td>8090.0</td>\n",
       "      <td>1</td>\n",
       "      <td>9600</td>\n",
       "      <td>NaN</td>\n",
       "      <td>6</td>\n",
       "      <td>340222060010000000</td>\n",
       "      <td>340200000000112114</td>\n",
       "      <td>0</td>\n",
       "      <td>1</td>\n",
       "      <td>1</td>\n",
       "      <td>3.0</td>\n",
       "      <td>1</td>\n",
       "      <td>10.0</td>\n",
       "      <td>9600</td>\n",
       "      <td>0</td>\n",
       "      <td>0</td>\n",
       "      <td>0</td>\n",
       "      <td>0</td>\n",
       "      <td>0</td>\n",
       "      <td>0</td>\n",
       "      <td>0</td>\n",
       "      <td>0</td>\n",
       "      <td>0</td>\n",
       "      <td>0</td>\n",
       "      <td>0</td>\n",
       "      <td>0</td>\n",
       "      <td>0</td>\n",
       "      <td>0</td>\n",
       "      <td>1</td>\n",
       "      <td>0</td>\n",
       "      <td>0</td>\n",
       "      <td>0</td>\n",
       "      <td>0</td>\n",
       "      <td>0</td>\n",
       "      <td>1133</td>\n",
       "    </tr>\n",
       "    <tr>\n",
       "      <th>2</th>\n",
       "      <td>59b38c56de3836838082cfcb1a298951abfe15e6940c49ba</td>\n",
       "      <td>340202</td>\n",
       "      <td>9053.0</td>\n",
       "      <td>2</td>\n",
       "      <td>1100</td>\n",
       "      <td>1150.0</td>\n",
       "      <td>6</td>\n",
       "      <td>340202010010000000</td>\n",
       "      <td>400000000000753910</td>\n",
       "      <td>0</td>\n",
       "      <td>0</td>\n",
       "      <td>1</td>\n",
       "      <td>2.0</td>\n",
       "      <td>0</td>\n",
       "      <td>100.0</td>\n",
       "      <td>1151</td>\n",
       "      <td>0</td>\n",
       "      <td>0</td>\n",
       "      <td>0</td>\n",
       "      <td>0</td>\n",
       "      <td>0</td>\n",
       "      <td>0</td>\n",
       "      <td>0</td>\n",
       "      <td>0</td>\n",
       "      <td>0</td>\n",
       "      <td>0</td>\n",
       "      <td>0</td>\n",
       "      <td>0</td>\n",
       "      <td>0</td>\n",
       "      <td>0</td>\n",
       "      <td>0</td>\n",
       "      <td>0</td>\n",
       "      <td>0</td>\n",
       "      <td>1</td>\n",
       "      <td>0</td>\n",
       "      <td>0</td>\n",
       "      <td>28</td>\n",
       "    </tr>\n",
       "    <tr>\n",
       "      <th>3</th>\n",
       "      <td>e9f7b28ec10e047000d16ab79e1b5e6da434a1697cce7818</td>\n",
       "      <td>340221</td>\n",
       "      <td>7212.0</td>\n",
       "      <td>3</td>\n",
       "      <td>4500</td>\n",
       "      <td>4540.0</td>\n",
       "      <td>6</td>\n",
       "      <td>340221010010000000</td>\n",
       "      <td>400000000000013538</td>\n",
       "      <td>0</td>\n",
       "      <td>1</td>\n",
       "      <td>1</td>\n",
       "      <td>2.0</td>\n",
       "      <td>0</td>\n",
       "      <td>10.0</td>\n",
       "      <td>4540</td>\n",
       "      <td>0</td>\n",
       "      <td>0</td>\n",
       "      <td>0</td>\n",
       "      <td>0</td>\n",
       "      <td>0</td>\n",
       "      <td>0</td>\n",
       "      <td>0</td>\n",
       "      <td>0</td>\n",
       "      <td>0</td>\n",
       "      <td>0</td>\n",
       "      <td>0</td>\n",
       "      <td>1</td>\n",
       "      <td>0</td>\n",
       "      <td>0</td>\n",
       "      <td>0</td>\n",
       "      <td>0</td>\n",
       "      <td>0</td>\n",
       "      <td>0</td>\n",
       "      <td>0</td>\n",
       "      <td>0</td>\n",
       "      <td>1840</td>\n",
       "    </tr>\n",
       "    <tr>\n",
       "      <th>4</th>\n",
       "      <td>f000950527a6feb63ee1ce82bb22ddd1ab8b8fdffa3b91fb</td>\n",
       "      <td>340202</td>\n",
       "      <td>8810.0</td>\n",
       "      <td>4</td>\n",
       "      <td>1100</td>\n",
       "      <td>1130.0</td>\n",
       "      <td>7</td>\n",
       "      <td>340200000000000000</td>\n",
       "      <td>400000000000283237</td>\n",
       "      <td>0</td>\n",
       "      <td>0</td>\n",
       "      <td>1</td>\n",
       "      <td>NaN</td>\n",
       "      <td>0</td>\n",
       "      <td>100.0</td>\n",
       "      <td>1130</td>\n",
       "      <td>0</td>\n",
       "      <td>0</td>\n",
       "      <td>0</td>\n",
       "      <td>0</td>\n",
       "      <td>0</td>\n",
       "      <td>0</td>\n",
       "      <td>0</td>\n",
       "      <td>0</td>\n",
       "      <td>0</td>\n",
       "      <td>0</td>\n",
       "      <td>0</td>\n",
       "      <td>0</td>\n",
       "      <td>0</td>\n",
       "      <td>0</td>\n",
       "      <td>0</td>\n",
       "      <td>0</td>\n",
       "      <td>0</td>\n",
       "      <td>1</td>\n",
       "      <td>0</td>\n",
       "      <td>0</td>\n",
       "      <td>1047</td>\n",
       "    </tr>\n",
       "  </tbody>\n",
       "</table>\n",
       "</div>"
      ],
      "text/plain": [
       "                                                 id  oplocdistrict  \\\n",
       "0  47645761dc56bb8c5fae00114b768b5d9b6e917c3aec07c4         340223   \n",
       "1  9c7fa510616a683058ce97d0bc768a621cd85ab1e87da2a3         340222   \n",
       "2  59b38c56de3836838082cfcb1a298951abfe15e6940c49ba         340202   \n",
       "3  e9f7b28ec10e047000d16ab79e1b5e6da434a1697cce7818         340221   \n",
       "4  f000950527a6feb63ee1ce82bb22ddd1ab8b8fdffa3b91fb         340202   \n",
       "\n",
       "   industryco  dom  enttype  enttypeitem  state               orgid  \\\n",
       "0      7513.0    0     1100       1150.0      6  340223010010000000   \n",
       "1      8090.0    1     9600          NaN      6  340222060010000000   \n",
       "2      9053.0    2     1100       1150.0      6  340202010010000000   \n",
       "3      7212.0    3     4500       4540.0      6  340221010010000000   \n",
       "4      8810.0    4     1100       1130.0      7  340200000000000000   \n",
       "\n",
       "                jobid  adbusign  townsign  regtype  empnum  oploc  regcap  \\\n",
       "0  340200000000115392         0         0        1     5.0      0    50.0   \n",
       "1  340200000000112114         0         1        1     3.0      1    10.0   \n",
       "2  400000000000753910         0         0        1     2.0      0   100.0   \n",
       "3  400000000000013538         0         1        1     2.0      0    10.0   \n",
       "4  400000000000283237         0         0        1     NaN      0   100.0   \n",
       "\n",
       "   enttypegb  A  B  C  D  E  F  G  H  I  J  K  L  M  N  O  P  Q  R  S  T  \\\n",
       "0       1151  0  0  0  0  0  0  0  0  0  0  0  0  1  0  0  0  0  0  0  0   \n",
       "1       9600  0  0  0  0  0  0  0  0  0  0  0  0  0  0  1  0  0  0  0  0   \n",
       "2       1151  0  0  0  0  0  0  0  0  0  0  0  0  0  0  0  0  0  1  0  0   \n",
       "3       4540  0  0  0  0  0  0  0  0  0  0  0  1  0  0  0  0  0  0  0  0   \n",
       "4       1130  0  0  0  0  0  0  0  0  0  0  0  0  0  0  0  0  0  1  0  0   \n",
       "\n",
       "   opfromDays  \n",
       "0         460  \n",
       "1        1133  \n",
       "2          28  \n",
       "3        1840  \n",
       "4        1047  "
      ]
     },
     "execution_count": 24,
     "metadata": {},
     "output_type": "execute_result"
    }
   ],
   "source": [
    "data_set.head()"
   ]
  },
  {
   "cell_type": "markdown",
   "metadata": {},
   "source": [
    "经观察，enttype，enttypeitem，enttypeminu和enttypegb，四个特征都是对企业类型的描述，前三个从左到右细分程度依次增高，而enttypegb包含了前三者的全部数据，所以前三个特征可以去除"
   ]
  },
  {
   "cell_type": "code",
   "execution_count": 25,
   "metadata": {},
   "outputs": [],
   "source": [
    "data_set.drop(['enttype','enttypeitem'], axis=1, inplace=True)"
   ]
  },
  {
   "cell_type": "markdown",
   "metadata": {},
   "source": [
    "查看个特征缺失数量"
   ]
  },
  {
   "cell_type": "code",
   "execution_count": 26,
   "metadata": {
    "scrolled": true
   },
   "outputs": [
    {
     "data": {
      "text/plain": [
       "id                  0\n",
       "oplocdistrict       0\n",
       "industryco          1\n",
       "dom                 0\n",
       "state               0\n",
       "orgid               0\n",
       "jobid               0\n",
       "adbusign            0\n",
       "townsign            0\n",
       "regtype             0\n",
       "empnum           5250\n",
       "oploc               0\n",
       "regcap            191\n",
       "enttypegb           0\n",
       "A                   0\n",
       "B                   0\n",
       "C                   0\n",
       "D                   0\n",
       "E                   0\n",
       "F                   0\n",
       "G                   0\n",
       "H                   0\n",
       "I                   0\n",
       "J                   0\n",
       "K                   0\n",
       "L                   0\n",
       "M                   0\n",
       "N                   0\n",
       "O                   0\n",
       "P                   0\n",
       "Q                   0\n",
       "R                   0\n",
       "S                   0\n",
       "T                   0\n",
       "opfromDays          0\n",
       "dtype: int64"
      ]
     },
     "execution_count": 26,
     "metadata": {},
     "output_type": "execute_result"
    }
   ],
   "source": [
    "data_set.isnull().sum()"
   ]
  },
  {
   "cell_type": "markdown",
   "metadata": {},
   "source": [
    "用平均数填补缺失值"
   ]
  },
  {
   "cell_type": "code",
   "execution_count": 27,
   "metadata": {
    "scrolled": true
   },
   "outputs": [],
   "source": [
    "empty_fea = ['industryco','empnum','regcap']\n",
    "data_set[empty_fea] = data_set[empty_fea].fillna(data_set[empty_fea].median())"
   ]
  },
  {
   "cell_type": "markdown",
   "metadata": {},
   "source": [
    "## 建模"
   ]
  },
  {
   "cell_type": "markdown",
   "metadata": {},
   "source": [
    "分离训练集和验证集"
   ]
  },
  {
   "cell_type": "code",
   "execution_count": 28,
   "metadata": {},
   "outputs": [
    {
     "data": {
      "text/plain": [
       "((14865, 34), (10000, 34))"
      ]
     },
     "execution_count": 28,
     "metadata": {},
     "output_type": "execute_result"
    }
   ],
   "source": [
    "train_set = data_set.merge(entprise_info)\n",
    "train_data = train_set.drop(['id','label'], axis=1)\n",
    "train_label = train_set['label']\n",
    "test_set = data_set.merge(entprise_evaluate)\n",
    "test_data = test_set.drop(['id','score'], axis=1)\n",
    "train_data.shape, test_data.shape"
   ]
  },
  {
   "cell_type": "markdown",
   "metadata": {},
   "source": [
    "定义评估函数，通过k折验证得到不同模型的分数，以便调参"
   ]
  },
  {
   "cell_type": "code",
   "execution_count": 29,
   "metadata": {},
   "outputs": [],
   "source": [
    "def evaluateModel(model,x,y):\n",
    "    mean_f1=0\n",
    "    folds=5\n",
    "    sk = StratifiedKFold(n_splits=folds, shuffle=True, random_state=2020)\n",
    "    \n",
    "    for trn_idx, val_idx in sk.split(x, y):\n",
    "        trn_x, trn_y, val_x, val_y = x.iloc[trn_idx], y[trn_idx], x.iloc[val_idx], y[val_idx]\n",
    "\n",
    "        model.fit(trn_x, trn_y)\n",
    "        val_pred = model.predict(val_x)\n",
    "        mean_f1 += f1_score(val_y, val_pred)/sk.n_splits\n",
    "        \n",
    "    return mean_f1"
   ]
  },
  {
   "cell_type": "markdown",
   "metadata": {},
   "source": [
    "简单训练随机森林，xgboost，lightgbm，catboost四个模型，得到对应的分数"
   ]
  },
  {
   "cell_type": "code",
   "execution_count": 30,
   "metadata": {},
   "outputs": [
    {
     "name": "stdout",
     "output_type": "stream",
     "text": [
      "rf: 0.8177939123167672\n",
      "xlf: 0.8235263832132351\n",
      "llf: 0.8210400630571153\n",
      "clf: 0.8197626141028068\n"
     ]
    }
   ],
   "source": [
    "rf = RandomForestClassifier(oob_score=True, \n",
    "                            random_state=2020,\n",
    "                            n_estimators= 70,\n",
    "                            max_depth=12,\n",
    "                            min_samples_split=5)\n",
    "\n",
    "xlf = xgb.XGBClassifier(max_depth=7,\n",
    "                      learning_rate=0.02,\n",
    "                      n_estimators=75,\n",
    "                      reg_alpha=0.005,\n",
    "                      n_jobs=8,\n",
    "                      importance_type='total_cover')\n",
    "\n",
    "llf = lgb.LGBMClassifier(num_leaves=9,\n",
    "                       max_depth=7,\n",
    "                       learning_rate=0.05,\n",
    "                       n_estimators=80,\n",
    "                       n_jobs=8)\n",
    "  \n",
    "clf = cat.CatBoostClassifier(iterations=75,\n",
    "                           learning_rate=0.05,\n",
    "                           depth=10,\n",
    "                           silent=True,\n",
    "                           thread_count=8,\n",
    "                           task_type='CPU')\n",
    "\n",
    "print('rf:',evaluateModel(rf,train_data,train_label))\n",
    "print('xlf:',evaluateModel(xlf,train_data,train_label))\n",
    "print('llf:',evaluateModel(llf,train_data,train_label))\n",
    "print('clf:',evaluateModel(clf,train_data,train_label)) "
   ]
  },
  {
   "cell_type": "markdown",
   "metadata": {},
   "source": [
    "采用加权平均的方法对四个模型进行模型融合"
   ]
  },
  {
   "cell_type": "code",
   "execution_count": 31,
   "metadata": {},
   "outputs": [
    {
     "name": "stdout",
     "output_type": "stream",
     "text": [
      "第1次验证f1_score：0.8431876606683805\n",
      "权重为rf, xgb, lgb, cat： (0.4, 0.0, 0.4, 0.19999999999999996)\n",
      "第2次验证f1_score：0.8454106280193237\n",
      "权重为rf, xgb, lgb, cat： (0.0, 0.6000000000000001, 0.0, 0.3999999999999999)\n",
      "第3次验证f1_score：0.8186274509803921\n",
      "权重为rf, xgb, lgb, cat： (0.6000000000000001, 0.1, 0.1, 0.19999999999999993)\n",
      "第4次验证f1_score：0.8337349397590361\n",
      "权重为rf, xgb, lgb, cat： (0.0, 0.1, 0.6000000000000001, 0.29999999999999993)\n",
      "第5次验证f1_score：0.8264058679706601\n",
      "权重为rf, xgb, lgb, cat： (0.0, 1.0, 0.0, 0.0)\n",
      "线上验证f1_score:  0.8334733094795586\n"
     ]
    }
   ],
   "source": [
    "mean_f1=0\n",
    "folds=5\n",
    "sk = StratifiedKFold(n_splits=folds, shuffle=True, random_state=2020)\n",
    "results = []\n",
    "\n",
    "for idx, (trn_idx, val_idx) in enumerate(sk.split(train_data, train_label)):\n",
    "    trn_x, trn_y, val_x, val_y = train_data.iloc[trn_idx], train_label[trn_idx], train_data.iloc[val_idx], train_label[val_idx]\n",
    "    \n",
    "    rf.fit(trn_x, trn_y)\n",
    "    rf_pred = rf.predict(val_x)\n",
    "    rf_prob = rf.predict_proba(val_x)\n",
    "    rf_weight = f1_score(val_y, rf_pred)\n",
    "    \n",
    "    xlf.fit(trn_x, trn_y)\n",
    "    xgb_pred = xlf.predict(val_x)\n",
    "    xgb_prob = xlf.predict_proba(val_x)\n",
    "    xgb_weight = f1_score(val_y, xgb_pred)\n",
    "\n",
    "    llf.fit(trn_x, trn_y)\n",
    "    lgb_pred = llf.predict(val_x)\n",
    "    lgb_prob = llf.predict_proba(val_x)\n",
    "    lgb_weight = f1_score(val_y, lgb_pred)\n",
    "\n",
    "    clf.fit(trn_x, trn_y)\n",
    "    cat_pred = clf.predict(val_x)\n",
    "    cat_prob = clf.predict_proba(val_x)\n",
    "    cat_weight = f1_score(val_y, cat_pred)\n",
    "    \n",
    "    #暴力搜索最佳权重\n",
    "    weight = np.arange(0, 1.05, 0.1)\n",
    "    maxscore = 0\n",
    "    optweight = ()\n",
    "    for i in weight:\n",
    "        for j in weight[weight <= (1 - i)]:\n",
    "            for k in weight[weight <= (1 - i - j)]:\n",
    "                prob_weight = rf_prob*i + xgb_prob*j + lgb_prob*k + cat_prob*(1 - i - j - k)\n",
    "                score = f1_score(val_y, np.argmax(prob_weight,axis=1))\n",
    "                if score > maxscore:\n",
    "                    maxscore = score\n",
    "                    optweight = (i, j, k, 1-i-j-k)\n",
    "    print('第{}次验证f1_score：{}'.format(idx + 1, maxscore))\n",
    "    print('权重为rf, xgb, lgb, cat：', optweight)\n",
    "    mean_f1+=maxscore/sk.n_splits\n",
    "    \n",
    "    test_rf = rf.predict_proba(test_data)\n",
    "    test_xgb = xlf.predict_proba(test_data)\n",
    "    test_lgb = llf.predict_proba(test_data)\n",
    "    test_cat = clf.predict_proba(test_data)\n",
    "    test_pred = test_rf*optweight[0] + test_xgb*optweight[1] + test_lgb*optweight[2] + test_cat*optweight[3]\n",
    "    results.append(test_pred)\n",
    "print('线上验证f1_score: ', mean_f1)"
   ]
  },
  {
   "cell_type": "code",
   "execution_count": 32,
   "metadata": {},
   "outputs": [
    {
     "data": {
      "text/html": [
       "<div>\n",
       "<style scoped>\n",
       "    .dataframe tbody tr th:only-of-type {\n",
       "        vertical-align: middle;\n",
       "    }\n",
       "\n",
       "    .dataframe tbody tr th {\n",
       "        vertical-align: top;\n",
       "    }\n",
       "\n",
       "    .dataframe thead th {\n",
       "        text-align: right;\n",
       "    }\n",
       "</style>\n",
       "<table border=\"1\" class=\"dataframe\">\n",
       "  <thead>\n",
       "    <tr style=\"text-align: right;\">\n",
       "      <th></th>\n",
       "      <th>id</th>\n",
       "      <th>score</th>\n",
       "    </tr>\n",
       "  </thead>\n",
       "  <tbody>\n",
       "    <tr>\n",
       "      <th>0</th>\n",
       "      <td>9c7fa510616a683058ce97d0bc768a621cd85ab1e87da2a3</td>\n",
       "      <td>0.044001</td>\n",
       "    </tr>\n",
       "    <tr>\n",
       "      <th>1</th>\n",
       "      <td>da8691b210adb3f67820f5e0c87b337d63112cee52211888</td>\n",
       "      <td>0.040906</td>\n",
       "    </tr>\n",
       "    <tr>\n",
       "      <th>2</th>\n",
       "      <td>9c7fa510616a68309e4badf2a7a3123c0462fb85bf28ef17</td>\n",
       "      <td>0.041126</td>\n",
       "    </tr>\n",
       "    <tr>\n",
       "      <th>3</th>\n",
       "      <td>f000950527a6feb6ed308bc4c7ae11276eab86480f8e03db</td>\n",
       "      <td>0.045363</td>\n",
       "    </tr>\n",
       "    <tr>\n",
       "      <th>4</th>\n",
       "      <td>f000950527a6feb617e8d6ca7025dcf9d765429969122069</td>\n",
       "      <td>0.044508</td>\n",
       "    </tr>\n",
       "    <tr>\n",
       "      <th>...</th>\n",
       "      <td>...</td>\n",
       "      <td>...</td>\n",
       "    </tr>\n",
       "    <tr>\n",
       "      <th>9995</th>\n",
       "      <td>f1c1045b13d18329a2bd99d2a7e2227688c0d69bf1d1e325</td>\n",
       "      <td>0.077206</td>\n",
       "    </tr>\n",
       "    <tr>\n",
       "      <th>9996</th>\n",
       "      <td>f000950527a6feb6bde38216d7cbbf32e66d3a3a96d4dbda</td>\n",
       "      <td>0.577968</td>\n",
       "    </tr>\n",
       "    <tr>\n",
       "      <th>9997</th>\n",
       "      <td>da8691b210adb3f65b43370d3a362f4aa1d3b16b5ba0c9d7</td>\n",
       "      <td>0.065357</td>\n",
       "    </tr>\n",
       "    <tr>\n",
       "      <th>9998</th>\n",
       "      <td>516ab81418ed215dcbbf0614a7b929e691f8eed153d7bb31</td>\n",
       "      <td>0.077457</td>\n",
       "    </tr>\n",
       "    <tr>\n",
       "      <th>9999</th>\n",
       "      <td>9c7fa510616a68303d3427d4bfd4b0cf3e4843f2bf3f637a</td>\n",
       "      <td>0.080665</td>\n",
       "    </tr>\n",
       "  </tbody>\n",
       "</table>\n",
       "<p>10000 rows × 2 columns</p>\n",
       "</div>"
      ],
      "text/plain": [
       "                                                    id     score\n",
       "0     9c7fa510616a683058ce97d0bc768a621cd85ab1e87da2a3  0.044001\n",
       "1     da8691b210adb3f67820f5e0c87b337d63112cee52211888  0.040906\n",
       "2     9c7fa510616a68309e4badf2a7a3123c0462fb85bf28ef17  0.041126\n",
       "3     f000950527a6feb6ed308bc4c7ae11276eab86480f8e03db  0.045363\n",
       "4     f000950527a6feb617e8d6ca7025dcf9d765429969122069  0.044508\n",
       "...                                                ...       ...\n",
       "9995  f1c1045b13d18329a2bd99d2a7e2227688c0d69bf1d1e325  0.077206\n",
       "9996  f000950527a6feb6bde38216d7cbbf32e66d3a3a96d4dbda  0.577968\n",
       "9997  da8691b210adb3f65b43370d3a362f4aa1d3b16b5ba0c9d7  0.065357\n",
       "9998  516ab81418ed215dcbbf0614a7b929e691f8eed153d7bb31  0.077457\n",
       "9999  9c7fa510616a68303d3427d4bfd4b0cf3e4843f2bf3f637a  0.080665\n",
       "\n",
       "[10000 rows x 2 columns]"
      ]
     },
     "execution_count": 32,
     "metadata": {},
     "output_type": "execute_result"
    }
   ],
   "source": [
    "result = (sum(results)/sk.n_splits)[:,1]\n",
    "submit_file = pd.DataFrame({'id': test_set['id'], 'score': result.tolist()})\n",
    "submit_file"
   ]
  },
  {
   "cell_type": "code",
   "execution_count": 33,
   "metadata": {},
   "outputs": [],
   "source": [
    "submit_file.to_csv('submit01.csv', index=0)"
   ]
  }
 ],
 "metadata": {
  "kernelspec": {
   "display_name": "Python 3",
   "language": "python",
   "name": "python3"
  },
  "language_info": {
   "codemirror_mode": {
    "name": "ipython",
    "version": 3
   },
   "file_extension": ".py",
   "mimetype": "text/x-python",
   "name": "python",
   "nbconvert_exporter": "python",
   "pygments_lexer": "ipython3",
   "version": "3.8.3"
  }
 },
 "nbformat": 4,
 "nbformat_minor": 4
}
