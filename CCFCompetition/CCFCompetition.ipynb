{
 "cells": [
  {
   "cell_type": "markdown",
   "metadata": {},
   "source": [
    "# 企业非法集资风险预测"
   ]
  },
  {
   "cell_type": "markdown",
   "metadata": {},
   "source": [
    "导入所需的库"
   ]
  },
  {
   "cell_type": "code",
   "execution_count": 1,
   "metadata": {},
   "outputs": [],
   "source": [
    "import pandas as pd\n",
    "import numpy as np\n",
    "import datetime\n",
    "import xgboost as xgb\n",
    "import lightgbm as lgb\n",
    "import catboost as cat\n",
    "from sklearn.ensemble import RandomForestClassifier\n",
    "from sklearn.model_selection import StratifiedKFold,cross_val_score\n",
    "from sklearn.metrics import f1_score,precision_recall_fscore_support\n",
    "from bayes_opt import BayesianOptimization\n",
    "import warnings\n",
    "import jieba\n",
    "from zhon.hanzi import punctuation\n",
    "from sklearn.feature_extraction.text import TfidfVectorizer\n",
    "from sklearn.decomposition import PCA\n",
    "from sklearn.manifold import TSNE\n",
    "warnings.filterwarnings('ignore')\n",
    "pd.set_option('display.max_columns', None)"
   ]
  },
  {
   "cell_type": "markdown",
   "metadata": {},
   "source": [
    "## 数据分析"
   ]
  },
  {
   "cell_type": "markdown",
   "metadata": {},
   "source": [
    "读取所有文件，导入数据集"
   ]
  },
  {
   "cell_type": "code",
   "execution_count": 2,
   "metadata": {},
   "outputs": [],
   "source": [
    "base_info = pd.read_csv('base_info.csv')\n",
    "annual_report_info = pd.read_csv('annual_report_info.csv')\n",
    "tax_info = pd.read_csv('tax_info.csv')\n",
    "change_info = pd.read_csv('change_info.csv')\n",
    "news_info = pd.read_csv('news_info.csv')\n",
    "other_info = pd.read_csv('other_info.csv')\n",
    "entprise_info = pd.read_csv('entprise_info.csv')\n",
    "entprise_evaluate = pd.read_csv('entprise_evaluate.csv')"
   ]
  },
  {
   "cell_type": "markdown",
   "metadata": {},
   "source": [
    "根据提供的信息，可知最后两个分别为训练集标签与待预测的验证集标签，只有id与标签两列"
   ]
  },
  {
   "cell_type": "markdown",
   "metadata": {},
   "source": [
    "各数据集样本数量以及所包含的企业数量"
   ]
  },
  {
   "cell_type": "code",
   "execution_count": 3,
   "metadata": {},
   "outputs": [
    {
     "name": "stdout",
     "output_type": "stream",
     "text": [
      "base_info shape: (24865, 33); base_info unique: 24865\n",
      "annual_report_info shape: (22550, 23); annual_report_info unique: 8937\n",
      "tax_info shape: (29195, 9); tax_info unique: 808\n",
      "change_info shape: (45940, 5); change_info unique: 8726\n",
      "news_info shape: (10518, 3); news_info unique: 927\n",
      "other_info shape: (1890, 4); other_info unique: 1888\n",
      "entprise_info shape: (14865, 2); entprise_info unique: 14865\n",
      "entprise_evaluate shape: (10000, 2); entprise_evaluate unique: 10000\n"
     ]
    }
   ],
   "source": [
    "print('base_info shape: {}; base_info unique: {}'.format(base_info.shape, len(base_info['id'].unique())))\n",
    "print('annual_report_info shape: {}; annual_report_info unique: {}'.format(annual_report_info.shape, len(annual_report_info['id'].unique())))\n",
    "print('tax_info shape: {}; tax_info unique: {}'.format(tax_info.shape, len(tax_info['id'].unique())))\n",
    "print('change_info shape: {}; change_info unique: {}'.format(change_info.shape, len(change_info['id'].unique())))\n",
    "print('news_info shape: {}; news_info unique: {}'.format(news_info.shape, len(news_info['id'].unique())))\n",
    "print('other_info shape: {}; other_info unique: {}'.format(other_info.shape, len(other_info['id'].unique())))\n",
    "print('entprise_info shape: {}; entprise_info unique: {}'.format(entprise_info.shape, len(entprise_info['id'].unique())))\n",
    "print('entprise_evaluate shape: {}; entprise_evaluate unique: {}'.format(entprise_evaluate.shape, len(entprise_evaluate['id'].unique())))"
   ]
  },
  {
   "cell_type": "markdown",
   "metadata": {},
   "source": [
    "从以上信息可以看出，整个数据集共有24865家企业，除了base_info完整地提供了各企业的基本信息，其他数据集的企业附加信息并不完整，有很多企业并没有提供，类似新闻信息这一类更是缺失严重。除此之外，我们还能看到作为测试集的样本有14865条，作为验证集的有10000条"
   ]
  },
  {
   "cell_type": "markdown",
   "metadata": {},
   "source": [
    "查看base_info数据集的信息"
   ]
  },
  {
   "cell_type": "code",
   "execution_count": 4,
   "metadata": {
    "scrolled": true
   },
   "outputs": [
    {
     "name": "stdout",
     "output_type": "stream",
     "text": [
      "<class 'pandas.core.frame.DataFrame'>\n",
      "RangeIndex: 24865 entries, 0 to 24864\n",
      "Data columns (total 33 columns):\n",
      " #   Column         Non-Null Count  Dtype  \n",
      "---  ------         --------------  -----  \n",
      " 0   id             24865 non-null  object \n",
      " 1   oplocdistrict  24865 non-null  int64  \n",
      " 2   industryphy    24865 non-null  object \n",
      " 3   industryco     24864 non-null  float64\n",
      " 4   dom            24865 non-null  object \n",
      " 5   opscope        24865 non-null  object \n",
      " 6   enttype        24865 non-null  int64  \n",
      " 7   enttypeitem    16651 non-null  float64\n",
      " 8   opfrom         24865 non-null  object \n",
      " 9   opto           8825 non-null   object \n",
      " 10  state          24865 non-null  int64  \n",
      " 11  orgid          24865 non-null  int64  \n",
      " 12  jobid          24865 non-null  int64  \n",
      " 13  adbusign       24865 non-null  int64  \n",
      " 14  townsign       24865 non-null  int64  \n",
      " 15  regtype        24865 non-null  int64  \n",
      " 16  empnum         19615 non-null  float64\n",
      " 17  compform       10631 non-null  float64\n",
      " 18  parnum         2339 non-null   float64\n",
      " 19  exenum         1378 non-null   float64\n",
      " 20  opform         9000 non-null   object \n",
      " 21  ptbusscope     0 non-null      float64\n",
      " 22  venind         8437 non-null   float64\n",
      " 23  enttypeminu    7270 non-null   float64\n",
      " 24  midpreindcode  0 non-null      float64\n",
      " 25  protype        34 non-null     float64\n",
      " 26  oploc          24865 non-null  object \n",
      " 27  regcap         24674 non-null  float64\n",
      " 28  reccap         7084 non-null   float64\n",
      " 29  forreccap      227 non-null    float64\n",
      " 30  forregcap      250 non-null    float64\n",
      " 31  congro         249 non-null    float64\n",
      " 32  enttypegb      24865 non-null  int64  \n",
      "dtypes: float64(16), int64(9), object(8)\n",
      "memory usage: 6.3+ MB\n"
     ]
    }
   ],
   "source": [
    "base_info.info()"
   ]
  },
  {
   "cell_type": "markdown",
   "metadata": {},
   "source": [
    "如上述所言，除了企业基本信息外，其余数据集企业空缺都比较大，所以最先考虑只用base_info一个数据集来建模。"
   ]
  },
  {
   "cell_type": "markdown",
   "metadata": {},
   "source": [
    "## 数据预处理"
   ]
  },
  {
   "cell_type": "markdown",
   "metadata": {},
   "source": [
    "### base_info"
   ]
  },
  {
   "cell_type": "markdown",
   "metadata": {},
   "source": [
    "查看base_info各特征缺失率，并将缺失率超过0.5的特征删除"
   ]
  },
  {
   "cell_type": "code",
   "execution_count": 5,
   "metadata": {},
   "outputs": [],
   "source": [
    "base_clean = base_info.dropna(thresh=base_info.shape[0]*0.5, how='all', axis=1)"
   ]
  },
  {
   "cell_type": "markdown",
   "metadata": {},
   "source": [
    "查看拥有唯一值的特征"
   ]
  },
  {
   "cell_type": "code",
   "execution_count": 6,
   "metadata": {},
   "outputs": [
    {
     "data": {
      "text/plain": [
       "[]"
      ]
     },
     "execution_count": 6,
     "metadata": {},
     "output_type": "execute_result"
    }
   ],
   "source": [
    "unique_val = [fea for fea in base_clean.columns if base_clean[fea].nunique() <= 1]\n",
    "unique_val"
   ]
  },
  {
   "cell_type": "markdown",
   "metadata": {},
   "source": [
    "特征数据类型划分"
   ]
  },
  {
   "cell_type": "code",
   "execution_count": 7,
   "metadata": {},
   "outputs": [
    {
     "data": {
      "text/plain": [
       "['oplocdistrict',\n",
       " 'industryco',\n",
       " 'enttype',\n",
       " 'enttypeitem',\n",
       " 'state',\n",
       " 'orgid',\n",
       " 'jobid',\n",
       " 'adbusign',\n",
       " 'townsign',\n",
       " 'regtype',\n",
       " 'empnum',\n",
       " 'regcap',\n",
       " 'enttypegb']"
      ]
     },
     "execution_count": 7,
     "metadata": {},
     "output_type": "execute_result"
    }
   ],
   "source": [
    "num_fea = list(base_clean.select_dtypes(exclude=['object']).columns)\n",
    "num_fea"
   ]
  },
  {
   "cell_type": "code",
   "execution_count": 8,
   "metadata": {},
   "outputs": [
    {
     "data": {
      "text/plain": [
       "['id', 'industryphy', 'dom', 'opscope', 'opfrom', 'oploc']"
      ]
     },
     "execution_count": 8,
     "metadata": {},
     "output_type": "execute_result"
    }
   ],
   "source": [
    "obj_fea = list(filter(lambda x: x not in num_fea,list(base_clean.columns)))\n",
    "obj_fea"
   ]
  },
  {
   "cell_type": "markdown",
   "metadata": {},
   "source": [
    "这一步我们需要做的是将对象型特征转化为数值型，以便后续缺失值的填补以及其他操作。"
   ]
  },
  {
   "cell_type": "markdown",
   "metadata": {},
   "source": [
    "首先我们要了解这几个对象型特征的含义，id不用管，该特征对最后建模没有影响；industryphy为行业类别代码，dom为经营地址；opscope为经营范围；opfrom为经营期限起，oploc为经营场所"
   ]
  },
  {
   "cell_type": "markdown",
   "metadata": {},
   "source": [
    "查看这几个属性的具体特征值"
   ]
  },
  {
   "cell_type": "code",
   "execution_count": 9,
   "metadata": {
    "scrolled": true
   },
   "outputs": [
    {
     "data": {
      "text/html": [
       "<div>\n",
       "<style scoped>\n",
       "    .dataframe tbody tr th:only-of-type {\n",
       "        vertical-align: middle;\n",
       "    }\n",
       "\n",
       "    .dataframe tbody tr th {\n",
       "        vertical-align: top;\n",
       "    }\n",
       "\n",
       "    .dataframe thead th {\n",
       "        text-align: right;\n",
       "    }\n",
       "</style>\n",
       "<table border=\"1\" class=\"dataframe\">\n",
       "  <thead>\n",
       "    <tr style=\"text-align: right;\">\n",
       "      <th></th>\n",
       "      <th>id</th>\n",
       "      <th>industryphy</th>\n",
       "      <th>dom</th>\n",
       "      <th>opscope</th>\n",
       "      <th>opfrom</th>\n",
       "      <th>oploc</th>\n",
       "    </tr>\n",
       "  </thead>\n",
       "  <tbody>\n",
       "    <tr>\n",
       "      <th>0</th>\n",
       "      <td>47645761dc56bb8c5fae00114b768b5d9b6e917c3aec07c4</td>\n",
       "      <td>M</td>\n",
       "      <td>31487d8f256f16bd6244b7251be2ebb24d1db51663c654...</td>\n",
       "      <td>纳米新材料、机械设备、五金配件加工、销售及技术推广服务，道路货物运输。（依法须经批准的项目，...</td>\n",
       "      <td>2019-07-11 00:00:00</td>\n",
       "      <td>2367b4cac96d8598</td>\n",
       "    </tr>\n",
       "    <tr>\n",
       "      <th>1</th>\n",
       "      <td>9c7fa510616a683058ce97d0bc768a621cd85ab1e87da2a3</td>\n",
       "      <td>O</td>\n",
       "      <td>31487d8f256f16bd6244b7251be2ebb27b17bdfd95c8f3...</td>\n",
       "      <td>健身服务。（依法须经批准的项目，经相关部门批准后方可开展经营活动）</td>\n",
       "      <td>2017-09-06</td>\n",
       "      <td>31487d8f256f16bd6244b7251be2ebb27b17bdfd95c8f3...</td>\n",
       "    </tr>\n",
       "    <tr>\n",
       "      <th>2</th>\n",
       "      <td>59b38c56de3836838082cfcb1a298951abfe15e6940c49ba</td>\n",
       "      <td>R</td>\n",
       "      <td>31487d8f256f16bd6244b7251be2ebb2ae36cd652943e8...</td>\n",
       "      <td>文化娱乐经纪人服务；境内文艺活动组织与策划；文化艺术交流活动组织策划；演出经纪；其他文化艺术...</td>\n",
       "      <td>2020-09-14 14:46:30</td>\n",
       "      <td>2367b4cac96d8598</td>\n",
       "    </tr>\n",
       "    <tr>\n",
       "      <th>3</th>\n",
       "      <td>e9f7b28ec10e047000d16ab79e1b5e6da434a1697cce7818</td>\n",
       "      <td>L</td>\n",
       "      <td>746df9aaed8578571760c563abe882c8ba25209fc6d5db...</td>\n",
       "      <td>投资管理及咨询(证券、期货除外)；企业管理。（依法须经批准的项目，经相关部门批准后方可开展经...</td>\n",
       "      <td>2015-09-30</td>\n",
       "      <td>2367b4cac96d8598</td>\n",
       "    </tr>\n",
       "    <tr>\n",
       "      <th>4</th>\n",
       "      <td>f000950527a6feb63ee1ce82bb22ddd1ab8b8fdffa3b91fb</td>\n",
       "      <td>R</td>\n",
       "      <td>31487d8f256f16bd6244b7251be2ebb2ae36cd652943e8...</td>\n",
       "      <td>境内文化艺术交流活动策划；企业形象策划；礼仪庆典服务；翻译服务；专利代理；广告设计、制作、代...</td>\n",
       "      <td>2017-12-01</td>\n",
       "      <td>2367b4cac96d8598</td>\n",
       "    </tr>\n",
       "  </tbody>\n",
       "</table>\n",
       "</div>"
      ],
      "text/plain": [
       "                                                 id industryphy  \\\n",
       "0  47645761dc56bb8c5fae00114b768b5d9b6e917c3aec07c4           M   \n",
       "1  9c7fa510616a683058ce97d0bc768a621cd85ab1e87da2a3           O   \n",
       "2  59b38c56de3836838082cfcb1a298951abfe15e6940c49ba           R   \n",
       "3  e9f7b28ec10e047000d16ab79e1b5e6da434a1697cce7818           L   \n",
       "4  f000950527a6feb63ee1ce82bb22ddd1ab8b8fdffa3b91fb           R   \n",
       "\n",
       "                                                 dom  \\\n",
       "0  31487d8f256f16bd6244b7251be2ebb24d1db51663c654...   \n",
       "1  31487d8f256f16bd6244b7251be2ebb27b17bdfd95c8f3...   \n",
       "2  31487d8f256f16bd6244b7251be2ebb2ae36cd652943e8...   \n",
       "3  746df9aaed8578571760c563abe882c8ba25209fc6d5db...   \n",
       "4  31487d8f256f16bd6244b7251be2ebb2ae36cd652943e8...   \n",
       "\n",
       "                                             opscope               opfrom  \\\n",
       "0  纳米新材料、机械设备、五金配件加工、销售及技术推广服务，道路货物运输。（依法须经批准的项目，...  2019-07-11 00:00:00   \n",
       "1                  健身服务。（依法须经批准的项目，经相关部门批准后方可开展经营活动）           2017-09-06   \n",
       "2  文化娱乐经纪人服务；境内文艺活动组织与策划；文化艺术交流活动组织策划；演出经纪；其他文化艺术...  2020-09-14 14:46:30   \n",
       "3  投资管理及咨询(证券、期货除外)；企业管理。（依法须经批准的项目，经相关部门批准后方可开展经...           2015-09-30   \n",
       "4  境内文化艺术交流活动策划；企业形象策划；礼仪庆典服务；翻译服务；专利代理；广告设计、制作、代...           2017-12-01   \n",
       "\n",
       "                                               oploc  \n",
       "0                                   2367b4cac96d8598  \n",
       "1  31487d8f256f16bd6244b7251be2ebb27b17bdfd95c8f3...  \n",
       "2                                   2367b4cac96d8598  \n",
       "3                                   2367b4cac96d8598  \n",
       "4                                   2367b4cac96d8598  "
      ]
     },
     "execution_count": 9,
     "metadata": {},
     "output_type": "execute_result"
    }
   ],
   "source": [
    "base_clean[obj_fea].head()"
   ]
  },
  {
   "cell_type": "markdown",
   "metadata": {},
   "source": [
    "- 对industryphy进行处理"
   ]
  },
  {
   "cell_type": "code",
   "execution_count": 10,
   "metadata": {},
   "outputs": [
    {
     "data": {
      "text/plain": [
       "array(['M', 'O', 'R', 'L', 'P', 'J', 'Q', 'N', 'F', 'E', 'C', 'K', 'D',\n",
       "       'I', 'S', 'G', 'A', 'T', 'H', 'B'], dtype=object)"
      ]
     },
     "execution_count": 10,
     "metadata": {},
     "output_type": "execute_result"
    }
   ],
   "source": [
    "base_clean['industryphy'].unique()"
   ]
  },
  {
   "cell_type": "markdown",
   "metadata": {},
   "source": [
    "可知该特征值是离散的，且相互之间不存在大小关系，采用one-hot映射"
   ]
  },
  {
   "cell_type": "code",
   "execution_count": 11,
   "metadata": {
    "scrolled": true
   },
   "outputs": [],
   "source": [
    "base_clean = base_clean.join(pd.get_dummies(base_clean['industryphy'], prefix='industryphy'))\n",
    "base_clean.drop('industryphy', axis=1, inplace=True)"
   ]
  },
  {
   "cell_type": "markdown",
   "metadata": {},
   "source": [
    "- 对dom进行处理"
   ]
  },
  {
   "cell_type": "code",
   "execution_count": 12,
   "metadata": {},
   "outputs": [
    {
     "data": {
      "text/plain": [
       "23278"
      ]
     },
     "execution_count": 12,
     "metadata": {},
     "output_type": "execute_result"
    }
   ],
   "source": [
    "len(base_clean['dom'].unique())"
   ]
  },
  {
   "cell_type": "markdown",
   "metadata": {},
   "source": [
    "该特征暂时没有好的转换方式，故采用直接映射的方法"
   ]
  },
  {
   "cell_type": "code",
   "execution_count": 13,
   "metadata": {},
   "outputs": [],
   "source": [
    "index = list(set(base_clean['dom']))\n",
    "base_clean['dom'] = base_clean['dom'].map(dict(zip(index,list(range(len(index))))))"
   ]
  },
  {
   "cell_type": "markdown",
   "metadata": {},
   "source": [
    "- 对opscope处理"
   ]
  },
  {
   "cell_type": "markdown",
   "metadata": {},
   "source": [
    "该特征由汉字构成，考虑使用文本处理的那一套方法，即用tf-idf"
   ]
  },
  {
   "cell_type": "markdown",
   "metadata": {},
   "source": [
    "使用jieba中文词库对文本进行分词，并去掉标点符号，然后对处理好的词集进行训练"
   ]
  },
  {
   "cell_type": "code",
   "execution_count": 20,
   "metadata": {},
   "outputs": [],
   "source": [
    "all_opscope = base_clean['opscope']\n",
    "seg_words = [list(jieba.cut(sent)) for sent in all_opscope]\n",
    "document = [\" \".join(sent) for sent in seg_words]\n",
    "# 去除标点符号\n",
    "for i in range(len(document)):\n",
    "    for j in punctuation:\n",
    "        document[i] = document[i].replace(j,'')\n",
    "\n",
    "# tf-idf统计词频\n",
    "vectorizer = TfidfVectorizer().fit_transform(document).todense()"
   ]
  },
  {
   "cell_type": "markdown",
   "metadata": {},
   "source": [
    "经过上面的过程，就将每个样本的opscope属性向量化了，然后我们要做的是对数据进行降维，这里我采用的是PCA + T-SNE的降维方法"
   ]
  },
  {
   "cell_type": "markdown",
   "metadata": {},
   "source": [
    "PCA降维，剩余维度方差在95%以上"
   ]
  },
  {
   "cell_type": "code",
   "execution_count": 23,
   "metadata": {},
   "outputs": [],
   "source": [
    "pca = PCA(n_components=0.95, random_state=2020)\n",
    "vect_reduced = pca.fit_transform(vectorizer)"
   ]
  },
  {
   "cell_type": "code",
   "execution_count": 24,
   "metadata": {
    "scrolled": true
   },
   "outputs": [
    {
     "data": {
      "text/plain": [
       "(24865, 2186)"
      ]
     },
     "execution_count": 24,
     "metadata": {},
     "output_type": "execute_result"
    }
   ],
   "source": [
    "vect_reduced.shape"
   ]
  },
  {
   "cell_type": "markdown",
   "metadata": {},
   "source": [
    "T-SNE将向量降至二维"
   ]
  },
  {
   "cell_type": "code",
   "execution_count": 26,
   "metadata": {},
   "outputs": [],
   "source": [
    "tsne = TSNE(random_state=2020)\n",
    "weight = tsne.fit_transform(vect_reduced)"
   ]
  },
  {
   "cell_type": "markdown",
   "metadata": {},
   "source": [
    "最后得到的二维向量列表"
   ]
  },
  {
   "cell_type": "code",
   "execution_count": 29,
   "metadata": {
    "scrolled": true
   },
   "outputs": [
    {
     "data": {
      "text/plain": [
       "array([[ -2.780353 ,  -8.698352 ],\n",
       "       [ 36.049282 ,  15.989389 ],\n",
       "       [ 11.963151 ,  50.096863 ],\n",
       "       ...,\n",
       "       [ -4.8659506, -60.46656  ],\n",
       "       [-23.718998 ,   1.000325 ],\n",
       "       [  2.7640297,  27.507668 ]], dtype=float32)"
      ]
     },
     "execution_count": 29,
     "metadata": {},
     "output_type": "execute_result"
    }
   ],
   "source": [
    "weight"
   ]
  },
  {
   "cell_type": "markdown",
   "metadata": {},
   "source": [
    "然后就是如何用二维表达出一维了，我图方便就直接相除了，也可以尝试平方和之类的对比效果"
   ]
  },
  {
   "cell_type": "code",
   "execution_count": 30,
   "metadata": {},
   "outputs": [
    {
     "data": {
      "text/plain": [
       "0         0.319641\n",
       "1         2.254575\n",
       "2         0.238800\n",
       "3        -1.025108\n",
       "4         0.076024\n",
       "           ...    \n",
       "24860     0.698635\n",
       "24861    -1.480714\n",
       "24862     0.080473\n",
       "24863   -23.711292\n",
       "24864     0.100482\n",
       "Name: opscope, Length: 24865, dtype: float32"
      ]
     },
     "execution_count": 30,
     "metadata": {},
     "output_type": "execute_result"
    }
   ],
   "source": [
    "base_clean['opscope']=weight[:,0]/weight[:,1]\n",
    "base_clean['opscope']"
   ]
  },
  {
   "cell_type": "markdown",
   "metadata": {},
   "source": [
    "- 对opfrom进行处理"
   ]
  },
  {
   "cell_type": "markdown",
   "metadata": {},
   "source": [
    "可以将该特征转化为与某一特定时间之间的时间差。同时观察数据可以得知，大多数企业的经营区间都是50年，由此可以大致推算填补opto的缺失值，不过这里先不实现，等提交过后再来进行该处理看分数是否有提高。"
   ]
  },
  {
   "cell_type": "code",
   "execution_count": 31,
   "metadata": {},
   "outputs": [],
   "source": [
    "base_clean['opfrom'] = pd.to_datetime(base_clean['opfrom'],format='%Y-%m-%d')\n",
    "startdate = datetime.datetime.strptime('2020-10-13', '%Y-%m-%d')\n",
    "base_clean['opfromDays'] = base_clean['opfrom'].apply(lambda x: startdate-x).dt.days\n",
    "# 填补opto\n",
    "base_clean['opto'] = base_info['opto']\n",
    "base_clean['opto'] = base_clean['opto'].fillna(pd.to_datetime(base_clean['opto']).max())\n",
    "base_clean['opto'] = pd.to_datetime(base_clean['opto'],format='%Y-%m-%d')\n",
    "base_clean['BaseGapDay'] = (base_clean['opto'] - base_clean['opfrom']).dt.days\n",
    "base_clean.drop(['opfrom','opto'], axis=1, inplace=True)"
   ]
  },
  {
   "cell_type": "markdown",
   "metadata": {},
   "source": [
    "- 对oploc进行处理"
   ]
  },
  {
   "cell_type": "markdown",
   "metadata": {},
   "source": [
    "做和dom一样的处理，直接映射"
   ]
  },
  {
   "cell_type": "code",
   "execution_count": 32,
   "metadata": {},
   "outputs": [],
   "source": [
    "index = list(set(base_clean['oploc']))\n",
    "base_clean['oploc'] = base_clean['oploc'].map(dict(zip(index,list(range(len(index))))))"
   ]
  },
  {
   "cell_type": "markdown",
   "metadata": {},
   "source": [
    "至此特征类型的简单编码就完成了，查看处理后的数据"
   ]
  },
  {
   "cell_type": "code",
   "execution_count": 33,
   "metadata": {},
   "outputs": [
    {
     "data": {
      "text/html": [
       "<div>\n",
       "<style scoped>\n",
       "    .dataframe tbody tr th:only-of-type {\n",
       "        vertical-align: middle;\n",
       "    }\n",
       "\n",
       "    .dataframe tbody tr th {\n",
       "        vertical-align: top;\n",
       "    }\n",
       "\n",
       "    .dataframe thead th {\n",
       "        text-align: right;\n",
       "    }\n",
       "</style>\n",
       "<table border=\"1\" class=\"dataframe\">\n",
       "  <thead>\n",
       "    <tr style=\"text-align: right;\">\n",
       "      <th></th>\n",
       "      <th>id</th>\n",
       "      <th>oplocdistrict</th>\n",
       "      <th>industryco</th>\n",
       "      <th>dom</th>\n",
       "      <th>opscope</th>\n",
       "      <th>enttype</th>\n",
       "      <th>enttypeitem</th>\n",
       "      <th>state</th>\n",
       "      <th>orgid</th>\n",
       "      <th>jobid</th>\n",
       "      <th>adbusign</th>\n",
       "      <th>townsign</th>\n",
       "      <th>regtype</th>\n",
       "      <th>empnum</th>\n",
       "      <th>oploc</th>\n",
       "      <th>regcap</th>\n",
       "      <th>enttypegb</th>\n",
       "      <th>industryphy_A</th>\n",
       "      <th>industryphy_B</th>\n",
       "      <th>industryphy_C</th>\n",
       "      <th>industryphy_D</th>\n",
       "      <th>industryphy_E</th>\n",
       "      <th>industryphy_F</th>\n",
       "      <th>industryphy_G</th>\n",
       "      <th>industryphy_H</th>\n",
       "      <th>industryphy_I</th>\n",
       "      <th>industryphy_J</th>\n",
       "      <th>industryphy_K</th>\n",
       "      <th>industryphy_L</th>\n",
       "      <th>industryphy_M</th>\n",
       "      <th>industryphy_N</th>\n",
       "      <th>industryphy_O</th>\n",
       "      <th>industryphy_P</th>\n",
       "      <th>industryphy_Q</th>\n",
       "      <th>industryphy_R</th>\n",
       "      <th>industryphy_S</th>\n",
       "      <th>industryphy_T</th>\n",
       "      <th>opfromDays</th>\n",
       "      <th>BaseGapDay</th>\n",
       "    </tr>\n",
       "  </thead>\n",
       "  <tbody>\n",
       "    <tr>\n",
       "      <th>0</th>\n",
       "      <td>47645761dc56bb8c5fae00114b768b5d9b6e917c3aec07c4</td>\n",
       "      <td>340223</td>\n",
       "      <td>7513.0</td>\n",
       "      <td>2999</td>\n",
       "      <td>0.319641</td>\n",
       "      <td>1100</td>\n",
       "      <td>1150.0</td>\n",
       "      <td>6</td>\n",
       "      <td>340223010010000000</td>\n",
       "      <td>340200000000115392</td>\n",
       "      <td>0</td>\n",
       "      <td>0</td>\n",
       "      <td>1</td>\n",
       "      <td>5.0</td>\n",
       "      <td>1062</td>\n",
       "      <td>50.0</td>\n",
       "      <td>1151</td>\n",
       "      <td>0</td>\n",
       "      <td>0</td>\n",
       "      <td>0</td>\n",
       "      <td>0</td>\n",
       "      <td>0</td>\n",
       "      <td>0</td>\n",
       "      <td>0</td>\n",
       "      <td>0</td>\n",
       "      <td>0</td>\n",
       "      <td>0</td>\n",
       "      <td>0</td>\n",
       "      <td>0</td>\n",
       "      <td>1</td>\n",
       "      <td>0</td>\n",
       "      <td>0</td>\n",
       "      <td>0</td>\n",
       "      <td>0</td>\n",
       "      <td>0</td>\n",
       "      <td>0</td>\n",
       "      <td>0</td>\n",
       "      <td>460</td>\n",
       "      <td>36011</td>\n",
       "    </tr>\n",
       "    <tr>\n",
       "      <th>1</th>\n",
       "      <td>9c7fa510616a683058ce97d0bc768a621cd85ab1e87da2a3</td>\n",
       "      <td>340222</td>\n",
       "      <td>8090.0</td>\n",
       "      <td>3942</td>\n",
       "      <td>2.254575</td>\n",
       "      <td>9600</td>\n",
       "      <td>NaN</td>\n",
       "      <td>6</td>\n",
       "      <td>340222060010000000</td>\n",
       "      <td>340200000000112114</td>\n",
       "      <td>0</td>\n",
       "      <td>1</td>\n",
       "      <td>1</td>\n",
       "      <td>3.0</td>\n",
       "      <td>438</td>\n",
       "      <td>10.0</td>\n",
       "      <td>9600</td>\n",
       "      <td>0</td>\n",
       "      <td>0</td>\n",
       "      <td>0</td>\n",
       "      <td>0</td>\n",
       "      <td>0</td>\n",
       "      <td>0</td>\n",
       "      <td>0</td>\n",
       "      <td>0</td>\n",
       "      <td>0</td>\n",
       "      <td>0</td>\n",
       "      <td>0</td>\n",
       "      <td>0</td>\n",
       "      <td>0</td>\n",
       "      <td>0</td>\n",
       "      <td>1</td>\n",
       "      <td>0</td>\n",
       "      <td>0</td>\n",
       "      <td>0</td>\n",
       "      <td>0</td>\n",
       "      <td>0</td>\n",
       "      <td>1133</td>\n",
       "      <td>36684</td>\n",
       "    </tr>\n",
       "    <tr>\n",
       "      <th>2</th>\n",
       "      <td>59b38c56de3836838082cfcb1a298951abfe15e6940c49ba</td>\n",
       "      <td>340202</td>\n",
       "      <td>9053.0</td>\n",
       "      <td>4413</td>\n",
       "      <td>0.238800</td>\n",
       "      <td>1100</td>\n",
       "      <td>1150.0</td>\n",
       "      <td>6</td>\n",
       "      <td>340202010010000000</td>\n",
       "      <td>400000000000753910</td>\n",
       "      <td>0</td>\n",
       "      <td>0</td>\n",
       "      <td>1</td>\n",
       "      <td>2.0</td>\n",
       "      <td>1062</td>\n",
       "      <td>100.0</td>\n",
       "      <td>1151</td>\n",
       "      <td>0</td>\n",
       "      <td>0</td>\n",
       "      <td>0</td>\n",
       "      <td>0</td>\n",
       "      <td>0</td>\n",
       "      <td>0</td>\n",
       "      <td>0</td>\n",
       "      <td>0</td>\n",
       "      <td>0</td>\n",
       "      <td>0</td>\n",
       "      <td>0</td>\n",
       "      <td>0</td>\n",
       "      <td>0</td>\n",
       "      <td>0</td>\n",
       "      <td>0</td>\n",
       "      <td>0</td>\n",
       "      <td>0</td>\n",
       "      <td>1</td>\n",
       "      <td>0</td>\n",
       "      <td>0</td>\n",
       "      <td>28</td>\n",
       "      <td>35579</td>\n",
       "    </tr>\n",
       "    <tr>\n",
       "      <th>3</th>\n",
       "      <td>e9f7b28ec10e047000d16ab79e1b5e6da434a1697cce7818</td>\n",
       "      <td>340221</td>\n",
       "      <td>7212.0</td>\n",
       "      <td>22523</td>\n",
       "      <td>-1.025108</td>\n",
       "      <td>4500</td>\n",
       "      <td>4540.0</td>\n",
       "      <td>6</td>\n",
       "      <td>340221010010000000</td>\n",
       "      <td>400000000000013538</td>\n",
       "      <td>0</td>\n",
       "      <td>1</td>\n",
       "      <td>1</td>\n",
       "      <td>2.0</td>\n",
       "      <td>1062</td>\n",
       "      <td>10.0</td>\n",
       "      <td>4540</td>\n",
       "      <td>0</td>\n",
       "      <td>0</td>\n",
       "      <td>0</td>\n",
       "      <td>0</td>\n",
       "      <td>0</td>\n",
       "      <td>0</td>\n",
       "      <td>0</td>\n",
       "      <td>0</td>\n",
       "      <td>0</td>\n",
       "      <td>0</td>\n",
       "      <td>0</td>\n",
       "      <td>1</td>\n",
       "      <td>0</td>\n",
       "      <td>0</td>\n",
       "      <td>0</td>\n",
       "      <td>0</td>\n",
       "      <td>0</td>\n",
       "      <td>0</td>\n",
       "      <td>0</td>\n",
       "      <td>0</td>\n",
       "      <td>1840</td>\n",
       "      <td>37391</td>\n",
       "    </tr>\n",
       "    <tr>\n",
       "      <th>4</th>\n",
       "      <td>f000950527a6feb63ee1ce82bb22ddd1ab8b8fdffa3b91fb</td>\n",
       "      <td>340202</td>\n",
       "      <td>8810.0</td>\n",
       "      <td>22847</td>\n",
       "      <td>0.076024</td>\n",
       "      <td>1100</td>\n",
       "      <td>1130.0</td>\n",
       "      <td>7</td>\n",
       "      <td>340200000000000000</td>\n",
       "      <td>400000000000283237</td>\n",
       "      <td>0</td>\n",
       "      <td>0</td>\n",
       "      <td>1</td>\n",
       "      <td>NaN</td>\n",
       "      <td>1062</td>\n",
       "      <td>100.0</td>\n",
       "      <td>1130</td>\n",
       "      <td>0</td>\n",
       "      <td>0</td>\n",
       "      <td>0</td>\n",
       "      <td>0</td>\n",
       "      <td>0</td>\n",
       "      <td>0</td>\n",
       "      <td>0</td>\n",
       "      <td>0</td>\n",
       "      <td>0</td>\n",
       "      <td>0</td>\n",
       "      <td>0</td>\n",
       "      <td>0</td>\n",
       "      <td>0</td>\n",
       "      <td>0</td>\n",
       "      <td>0</td>\n",
       "      <td>0</td>\n",
       "      <td>0</td>\n",
       "      <td>1</td>\n",
       "      <td>0</td>\n",
       "      <td>0</td>\n",
       "      <td>1047</td>\n",
       "      <td>18261</td>\n",
       "    </tr>\n",
       "  </tbody>\n",
       "</table>\n",
       "</div>"
      ],
      "text/plain": [
       "                                                 id  oplocdistrict  \\\n",
       "0  47645761dc56bb8c5fae00114b768b5d9b6e917c3aec07c4         340223   \n",
       "1  9c7fa510616a683058ce97d0bc768a621cd85ab1e87da2a3         340222   \n",
       "2  59b38c56de3836838082cfcb1a298951abfe15e6940c49ba         340202   \n",
       "3  e9f7b28ec10e047000d16ab79e1b5e6da434a1697cce7818         340221   \n",
       "4  f000950527a6feb63ee1ce82bb22ddd1ab8b8fdffa3b91fb         340202   \n",
       "\n",
       "   industryco    dom   opscope  enttype  enttypeitem  state  \\\n",
       "0      7513.0   2999  0.319641     1100       1150.0      6   \n",
       "1      8090.0   3942  2.254575     9600          NaN      6   \n",
       "2      9053.0   4413  0.238800     1100       1150.0      6   \n",
       "3      7212.0  22523 -1.025108     4500       4540.0      6   \n",
       "4      8810.0  22847  0.076024     1100       1130.0      7   \n",
       "\n",
       "                orgid               jobid  adbusign  townsign  regtype  \\\n",
       "0  340223010010000000  340200000000115392         0         0        1   \n",
       "1  340222060010000000  340200000000112114         0         1        1   \n",
       "2  340202010010000000  400000000000753910         0         0        1   \n",
       "3  340221010010000000  400000000000013538         0         1        1   \n",
       "4  340200000000000000  400000000000283237         0         0        1   \n",
       "\n",
       "   empnum  oploc  regcap  enttypegb  industryphy_A  industryphy_B  \\\n",
       "0     5.0   1062    50.0       1151              0              0   \n",
       "1     3.0    438    10.0       9600              0              0   \n",
       "2     2.0   1062   100.0       1151              0              0   \n",
       "3     2.0   1062    10.0       4540              0              0   \n",
       "4     NaN   1062   100.0       1130              0              0   \n",
       "\n",
       "   industryphy_C  industryphy_D  industryphy_E  industryphy_F  industryphy_G  \\\n",
       "0              0              0              0              0              0   \n",
       "1              0              0              0              0              0   \n",
       "2              0              0              0              0              0   \n",
       "3              0              0              0              0              0   \n",
       "4              0              0              0              0              0   \n",
       "\n",
       "   industryphy_H  industryphy_I  industryphy_J  industryphy_K  industryphy_L  \\\n",
       "0              0              0              0              0              0   \n",
       "1              0              0              0              0              0   \n",
       "2              0              0              0              0              0   \n",
       "3              0              0              0              0              1   \n",
       "4              0              0              0              0              0   \n",
       "\n",
       "   industryphy_M  industryphy_N  industryphy_O  industryphy_P  industryphy_Q  \\\n",
       "0              1              0              0              0              0   \n",
       "1              0              0              1              0              0   \n",
       "2              0              0              0              0              0   \n",
       "3              0              0              0              0              0   \n",
       "4              0              0              0              0              0   \n",
       "\n",
       "   industryphy_R  industryphy_S  industryphy_T  opfromDays  BaseGapDay  \n",
       "0              0              0              0         460       36011  \n",
       "1              0              0              0        1133       36684  \n",
       "2              1              0              0          28       35579  \n",
       "3              0              0              0        1840       37391  \n",
       "4              1              0              0        1047       18261  "
      ]
     },
     "execution_count": 33,
     "metadata": {},
     "output_type": "execute_result"
    }
   ],
   "source": [
    "base_clean.head()"
   ]
  },
  {
   "cell_type": "markdown",
   "metadata": {},
   "source": [
    "经观察，enttype，enttypeitem，enttypeminu和enttypegb，四个特征都是对企业类型的描述，前三个从左到右细分程度依次增高，而enttypegb包含了前三者的全部数据，所以前三个特征可以去除"
   ]
  },
  {
   "cell_type": "code",
   "execution_count": 34,
   "metadata": {},
   "outputs": [],
   "source": [
    "base_clean.drop(['enttype','enttypeitem'], axis=1, inplace=True)"
   ]
  },
  {
   "cell_type": "markdown",
   "metadata": {},
   "source": [
    "添加回重要特征reccap"
   ]
  },
  {
   "cell_type": "code",
   "execution_count": 35,
   "metadata": {
    "scrolled": true
   },
   "outputs": [],
   "source": [
    "base_clean['reccap'] = base_info['reccap']\n",
    "base_clean['regcap_reccap'] = base_info['regcap'] - base_info['reccap']"
   ]
  },
  {
   "cell_type": "markdown",
   "metadata": {},
   "source": [
    "用平均数填补缺失值"
   ]
  },
  {
   "cell_type": "code",
   "execution_count": 36,
   "metadata": {
    "scrolled": true
   },
   "outputs": [],
   "source": [
    "base_clean = base_clean.fillna(base_clean.median())"
   ]
  },
  {
   "cell_type": "markdown",
   "metadata": {},
   "source": [
    "## 融合数据"
   ]
  },
  {
   "cell_type": "markdown",
   "metadata": {},
   "source": [
    "上一周只使用了一个base_info数据集建模，这次将其他几个数据集都融合到data_set中"
   ]
  },
  {
   "cell_type": "markdown",
   "metadata": {},
   "source": [
    "### annual_report_info"
   ]
  },
  {
   "cell_type": "markdown",
   "metadata": {},
   "source": [
    "查看annual_report_info信息"
   ]
  },
  {
   "cell_type": "code",
   "execution_count": 37,
   "metadata": {
    "scrolled": true
   },
   "outputs": [
    {
     "name": "stdout",
     "output_type": "stream",
     "text": [
      "<class 'pandas.core.frame.DataFrame'>\n",
      "RangeIndex: 22550 entries, 0 to 22549\n",
      "Data columns (total 23 columns):\n",
      " #   Column         Non-Null Count  Dtype  \n",
      "---  ------         --------------  -----  \n",
      " 0   id             22550 non-null  object \n",
      " 1   ANCHEYEAR      22550 non-null  float64\n",
      " 2   STATE          22545 non-null  float64\n",
      " 3   FUNDAM         5702 non-null   float64\n",
      " 4   MEMNUM         29 non-null     float64\n",
      " 5   FARNUM         29 non-null     float64\n",
      " 6   ANNNEWMEMNUM   29 non-null     float64\n",
      " 7   ANNREDMEMNUM   29 non-null     float64\n",
      " 8   EMPNUM         22535 non-null  float64\n",
      " 9   EMPNUMSIGN     16833 non-null  float64\n",
      " 10  BUSSTNAME      17680 non-null  object \n",
      " 11  COLGRANUM      20041 non-null  float64\n",
      " 12  RETSOLNUM      20041 non-null  float64\n",
      " 13  DISPERNUM      20041 non-null  float64\n",
      " 14  UNENUM         20041 non-null  float64\n",
      " 15  COLEMPLNUM     20041 non-null  float64\n",
      " 16  RETEMPLNUM     20041 non-null  float64\n",
      " 17  DISEMPLNUM     20041 non-null  float64\n",
      " 18  UNEEMPLNUM     20041 non-null  float64\n",
      " 19  WEBSITSIGN     22517 non-null  float64\n",
      " 20  FORINVESTSIGN  16489 non-null  float64\n",
      " 21  STOCKTRANSIGN  13507 non-null  float64\n",
      " 22  PUBSTATE       22530 non-null  float64\n",
      "dtypes: float64(21), object(2)\n",
      "memory usage: 4.0+ MB\n"
     ]
    }
   ],
   "source": [
    "annual_report_info.info()"
   ]
  },
  {
   "cell_type": "code",
   "execution_count": 38,
   "metadata": {},
   "outputs": [
    {
     "data": {
      "text/html": [
       "<div>\n",
       "<style scoped>\n",
       "    .dataframe tbody tr th:only-of-type {\n",
       "        vertical-align: middle;\n",
       "    }\n",
       "\n",
       "    .dataframe tbody tr th {\n",
       "        vertical-align: top;\n",
       "    }\n",
       "\n",
       "    .dataframe thead th {\n",
       "        text-align: right;\n",
       "    }\n",
       "</style>\n",
       "<table border=\"1\" class=\"dataframe\">\n",
       "  <thead>\n",
       "    <tr style=\"text-align: right;\">\n",
       "      <th></th>\n",
       "      <th>id</th>\n",
       "      <th>ANCHEYEAR</th>\n",
       "      <th>STATE</th>\n",
       "      <th>FUNDAM</th>\n",
       "      <th>MEMNUM</th>\n",
       "      <th>FARNUM</th>\n",
       "      <th>ANNNEWMEMNUM</th>\n",
       "      <th>ANNREDMEMNUM</th>\n",
       "      <th>EMPNUM</th>\n",
       "      <th>EMPNUMSIGN</th>\n",
       "      <th>BUSSTNAME</th>\n",
       "      <th>COLGRANUM</th>\n",
       "      <th>RETSOLNUM</th>\n",
       "      <th>DISPERNUM</th>\n",
       "      <th>UNENUM</th>\n",
       "      <th>COLEMPLNUM</th>\n",
       "      <th>RETEMPLNUM</th>\n",
       "      <th>DISEMPLNUM</th>\n",
       "      <th>UNEEMPLNUM</th>\n",
       "      <th>WEBSITSIGN</th>\n",
       "      <th>FORINVESTSIGN</th>\n",
       "      <th>STOCKTRANSIGN</th>\n",
       "      <th>PUBSTATE</th>\n",
       "    </tr>\n",
       "  </thead>\n",
       "  <tbody>\n",
       "    <tr>\n",
       "      <th>0</th>\n",
       "      <td>9c7fa510616a683058ce97d0bc768a621cd85ab1e87da2a3</td>\n",
       "      <td>2017.0</td>\n",
       "      <td>2.0</td>\n",
       "      <td>5.0</td>\n",
       "      <td>NaN</td>\n",
       "      <td>NaN</td>\n",
       "      <td>NaN</td>\n",
       "      <td>NaN</td>\n",
       "      <td>10.0</td>\n",
       "      <td>NaN</td>\n",
       "      <td>NaN</td>\n",
       "      <td>0.0</td>\n",
       "      <td>0.0</td>\n",
       "      <td>0.0</td>\n",
       "      <td>0.0</td>\n",
       "      <td>0.0</td>\n",
       "      <td>0.0</td>\n",
       "      <td>0.0</td>\n",
       "      <td>0.0</td>\n",
       "      <td>2.0</td>\n",
       "      <td>NaN</td>\n",
       "      <td>NaN</td>\n",
       "      <td>3.0</td>\n",
       "    </tr>\n",
       "    <tr>\n",
       "      <th>1</th>\n",
       "      <td>9c7fa510616a683058ce97d0bc768a621cd85ab1e87da2a3</td>\n",
       "      <td>2018.0</td>\n",
       "      <td>2.0</td>\n",
       "      <td>2.0</td>\n",
       "      <td>NaN</td>\n",
       "      <td>NaN</td>\n",
       "      <td>NaN</td>\n",
       "      <td>NaN</td>\n",
       "      <td>2.0</td>\n",
       "      <td>NaN</td>\n",
       "      <td>NaN</td>\n",
       "      <td>0.0</td>\n",
       "      <td>0.0</td>\n",
       "      <td>0.0</td>\n",
       "      <td>0.0</td>\n",
       "      <td>0.0</td>\n",
       "      <td>0.0</td>\n",
       "      <td>0.0</td>\n",
       "      <td>0.0</td>\n",
       "      <td>2.0</td>\n",
       "      <td>NaN</td>\n",
       "      <td>NaN</td>\n",
       "      <td>3.0</td>\n",
       "    </tr>\n",
       "    <tr>\n",
       "      <th>2</th>\n",
       "      <td>f000950527a6feb63ee1ce82bb22ddd1ab8b8fdffa3b91fb</td>\n",
       "      <td>2017.0</td>\n",
       "      <td>2.0</td>\n",
       "      <td>NaN</td>\n",
       "      <td>NaN</td>\n",
       "      <td>NaN</td>\n",
       "      <td>NaN</td>\n",
       "      <td>NaN</td>\n",
       "      <td>4.0</td>\n",
       "      <td>2.0</td>\n",
       "      <td>开业</td>\n",
       "      <td>3.0</td>\n",
       "      <td>0.0</td>\n",
       "      <td>0.0</td>\n",
       "      <td>0.0</td>\n",
       "      <td>1.0</td>\n",
       "      <td>0.0</td>\n",
       "      <td>0.0</td>\n",
       "      <td>0.0</td>\n",
       "      <td>2.0</td>\n",
       "      <td>2.0</td>\n",
       "      <td>2.0</td>\n",
       "      <td>3.0</td>\n",
       "    </tr>\n",
       "    <tr>\n",
       "      <th>3</th>\n",
       "      <td>f000950527a6feb63ee1ce82bb22ddd1ab8b8fdffa3b91fb</td>\n",
       "      <td>2018.0</td>\n",
       "      <td>2.0</td>\n",
       "      <td>NaN</td>\n",
       "      <td>NaN</td>\n",
       "      <td>NaN</td>\n",
       "      <td>NaN</td>\n",
       "      <td>NaN</td>\n",
       "      <td>3.0</td>\n",
       "      <td>2.0</td>\n",
       "      <td>开业</td>\n",
       "      <td>1.0</td>\n",
       "      <td>0.0</td>\n",
       "      <td>0.0</td>\n",
       "      <td>0.0</td>\n",
       "      <td>2.0</td>\n",
       "      <td>0.0</td>\n",
       "      <td>0.0</td>\n",
       "      <td>0.0</td>\n",
       "      <td>2.0</td>\n",
       "      <td>2.0</td>\n",
       "      <td>2.0</td>\n",
       "      <td>3.0</td>\n",
       "    </tr>\n",
       "    <tr>\n",
       "      <th>4</th>\n",
       "      <td>9c7fa510616a68309e4badf2a7a3123c0462fb85bf28ef17</td>\n",
       "      <td>2017.0</td>\n",
       "      <td>2.0</td>\n",
       "      <td>5.0</td>\n",
       "      <td>NaN</td>\n",
       "      <td>NaN</td>\n",
       "      <td>NaN</td>\n",
       "      <td>NaN</td>\n",
       "      <td>10.0</td>\n",
       "      <td>NaN</td>\n",
       "      <td>NaN</td>\n",
       "      <td>0.0</td>\n",
       "      <td>0.0</td>\n",
       "      <td>0.0</td>\n",
       "      <td>0.0</td>\n",
       "      <td>0.0</td>\n",
       "      <td>0.0</td>\n",
       "      <td>0.0</td>\n",
       "      <td>0.0</td>\n",
       "      <td>2.0</td>\n",
       "      <td>NaN</td>\n",
       "      <td>NaN</td>\n",
       "      <td>3.0</td>\n",
       "    </tr>\n",
       "  </tbody>\n",
       "</table>\n",
       "</div>"
      ],
      "text/plain": [
       "                                                 id  ANCHEYEAR  STATE  FUNDAM  \\\n",
       "0  9c7fa510616a683058ce97d0bc768a621cd85ab1e87da2a3     2017.0    2.0     5.0   \n",
       "1  9c7fa510616a683058ce97d0bc768a621cd85ab1e87da2a3     2018.0    2.0     2.0   \n",
       "2  f000950527a6feb63ee1ce82bb22ddd1ab8b8fdffa3b91fb     2017.0    2.0     NaN   \n",
       "3  f000950527a6feb63ee1ce82bb22ddd1ab8b8fdffa3b91fb     2018.0    2.0     NaN   \n",
       "4  9c7fa510616a68309e4badf2a7a3123c0462fb85bf28ef17     2017.0    2.0     5.0   \n",
       "\n",
       "   MEMNUM  FARNUM  ANNNEWMEMNUM  ANNREDMEMNUM  EMPNUM  EMPNUMSIGN BUSSTNAME  \\\n",
       "0     NaN     NaN           NaN           NaN    10.0         NaN       NaN   \n",
       "1     NaN     NaN           NaN           NaN     2.0         NaN       NaN   \n",
       "2     NaN     NaN           NaN           NaN     4.0         2.0        开业   \n",
       "3     NaN     NaN           NaN           NaN     3.0         2.0        开业   \n",
       "4     NaN     NaN           NaN           NaN    10.0         NaN       NaN   \n",
       "\n",
       "   COLGRANUM  RETSOLNUM  DISPERNUM  UNENUM  COLEMPLNUM  RETEMPLNUM  \\\n",
       "0        0.0        0.0        0.0     0.0         0.0         0.0   \n",
       "1        0.0        0.0        0.0     0.0         0.0         0.0   \n",
       "2        3.0        0.0        0.0     0.0         1.0         0.0   \n",
       "3        1.0        0.0        0.0     0.0         2.0         0.0   \n",
       "4        0.0        0.0        0.0     0.0         0.0         0.0   \n",
       "\n",
       "   DISEMPLNUM  UNEEMPLNUM  WEBSITSIGN  FORINVESTSIGN  STOCKTRANSIGN  PUBSTATE  \n",
       "0         0.0         0.0         2.0            NaN            NaN       3.0  \n",
       "1         0.0         0.0         2.0            NaN            NaN       3.0  \n",
       "2         0.0         0.0         2.0            2.0            2.0       3.0  \n",
       "3         0.0         0.0         2.0            2.0            2.0       3.0  \n",
       "4         0.0         0.0         2.0            NaN            NaN       3.0  "
      ]
     },
     "execution_count": 38,
     "metadata": {},
     "output_type": "execute_result"
    }
   ],
   "source": [
    "annual_report_info.head()"
   ]
  },
  {
   "cell_type": "markdown",
   "metadata": {},
   "source": [
    "对对象型数据进行特征编码"
   ]
  },
  {
   "cell_type": "code",
   "execution_count": 39,
   "metadata": {
    "scrolled": false
   },
   "outputs": [],
   "source": [
    "# 删除缺失值大于0.5的特征\n",
    "annual_clean = annual_report_info.dropna(thresh=annual_report_info.shape[0]*0.5, how='all', axis=1)\n",
    "# 对对象型数据进行编码\n",
    "annual_clean['BUSSTNAME'] = annual_clean['BUSSTNAME'].fillna('空')\n",
    "ch = list(set(annual_clean['BUSSTNAME']))\n",
    "en = ['kong', 'tingye', 'kaiye', 'xieye', 'jiesuan']\n",
    "mapping = dict(zip(ch,en))\n",
    "annual_clean['BUSSTNAME'] = annual_clean['BUSSTNAME'].map(mapping)\n",
    "# one-hot编码\n",
    "annual_clean = annual_clean.join(pd.get_dummies(annual_clean['BUSSTNAME'], prefix='BUSSTNAME'))\n",
    "annual_clean.drop('BUSSTNAME', axis=1, inplace=True)"
   ]
  },
  {
   "cell_type": "markdown",
   "metadata": {},
   "source": [
    "合并相同企业的数据，取平均值"
   ]
  },
  {
   "cell_type": "code",
   "execution_count": 40,
   "metadata": {},
   "outputs": [],
   "source": [
    "annual_clean = annual_clean.groupby('id',sort=False).agg('mean')\n",
    "annual_clean = annual_clean.reset_index()"
   ]
  },
  {
   "cell_type": "markdown",
   "metadata": {},
   "source": [
    "### tax_info"
   ]
  },
  {
   "cell_type": "markdown",
   "metadata": {},
   "source": [
    "查看tax_info信息"
   ]
  },
  {
   "cell_type": "code",
   "execution_count": 41,
   "metadata": {
    "scrolled": false
   },
   "outputs": [
    {
     "name": "stdout",
     "output_type": "stream",
     "text": [
      "<class 'pandas.core.frame.DataFrame'>\n",
      "RangeIndex: 29195 entries, 0 to 29194\n",
      "Data columns (total 9 columns):\n",
      " #   Column          Non-Null Count  Dtype  \n",
      "---  ------          --------------  -----  \n",
      " 0   id              29195 non-null  object \n",
      " 1   START_DATE      29195 non-null  object \n",
      " 2   END_DATE        29195 non-null  object \n",
      " 3   TAX_CATEGORIES  29195 non-null  object \n",
      " 4   TAX_ITEMS       29195 non-null  object \n",
      " 5   TAXATION_BASIS  25816 non-null  float64\n",
      " 6   TAX_RATE        25816 non-null  float64\n",
      " 7   DEDUCTION       24235 non-null  float64\n",
      " 8   TAX_AMOUNT      29195 non-null  float64\n",
      "dtypes: float64(4), object(5)\n",
      "memory usage: 2.0+ MB\n"
     ]
    }
   ],
   "source": [
    "tax_info.info()"
   ]
  },
  {
   "cell_type": "code",
   "execution_count": 42,
   "metadata": {},
   "outputs": [
    {
     "data": {
      "text/html": [
       "<div>\n",
       "<style scoped>\n",
       "    .dataframe tbody tr th:only-of-type {\n",
       "        vertical-align: middle;\n",
       "    }\n",
       "\n",
       "    .dataframe tbody tr th {\n",
       "        vertical-align: top;\n",
       "    }\n",
       "\n",
       "    .dataframe thead th {\n",
       "        text-align: right;\n",
       "    }\n",
       "</style>\n",
       "<table border=\"1\" class=\"dataframe\">\n",
       "  <thead>\n",
       "    <tr style=\"text-align: right;\">\n",
       "      <th></th>\n",
       "      <th>id</th>\n",
       "      <th>START_DATE</th>\n",
       "      <th>END_DATE</th>\n",
       "      <th>TAX_CATEGORIES</th>\n",
       "      <th>TAX_ITEMS</th>\n",
       "      <th>TAXATION_BASIS</th>\n",
       "      <th>TAX_RATE</th>\n",
       "      <th>DEDUCTION</th>\n",
       "      <th>TAX_AMOUNT</th>\n",
       "    </tr>\n",
       "  </thead>\n",
       "  <tbody>\n",
       "    <tr>\n",
       "      <th>0</th>\n",
       "      <td>f000950527a6feb6c2f40c9d8477e73a439dfa0897830397</td>\n",
       "      <td>2015/09/01</td>\n",
       "      <td>2015/09/30</td>\n",
       "      <td>印花税</td>\n",
       "      <td>工伤保险（单位）</td>\n",
       "      <td>72530.75</td>\n",
       "      <td>0.0003</td>\n",
       "      <td>-0.04</td>\n",
       "      <td>21.8</td>\n",
       "    </tr>\n",
       "    <tr>\n",
       "      <th>1</th>\n",
       "      <td>f000950527a6feb6c2f40c9d8477e73a439dfa0897830397</td>\n",
       "      <td>2015/09/01</td>\n",
       "      <td>2015/09/30</td>\n",
       "      <td>印花税</td>\n",
       "      <td>失业保险（单位）</td>\n",
       "      <td>72530.75</td>\n",
       "      <td>0.0003</td>\n",
       "      <td>-0.04</td>\n",
       "      <td>21.8</td>\n",
       "    </tr>\n",
       "    <tr>\n",
       "      <th>2</th>\n",
       "      <td>f000950527a6feb6c2f40c9d8477e73a439dfa0897830397</td>\n",
       "      <td>2015/09/01</td>\n",
       "      <td>2015/09/30</td>\n",
       "      <td>印花税</td>\n",
       "      <td>医疗保险（单位）</td>\n",
       "      <td>72530.75</td>\n",
       "      <td>0.0003</td>\n",
       "      <td>-0.04</td>\n",
       "      <td>21.8</td>\n",
       "    </tr>\n",
       "    <tr>\n",
       "      <th>3</th>\n",
       "      <td>f000950527a6feb6c2f40c9d8477e73a439dfa0897830397</td>\n",
       "      <td>2015/09/01</td>\n",
       "      <td>2015/09/30</td>\n",
       "      <td>印花税</td>\n",
       "      <td>企业养老保险基金（单位）</td>\n",
       "      <td>72530.75</td>\n",
       "      <td>0.0003</td>\n",
       "      <td>-0.04</td>\n",
       "      <td>21.8</td>\n",
       "    </tr>\n",
       "    <tr>\n",
       "      <th>4</th>\n",
       "      <td>f000950527a6feb6c2f40c9d8477e73a439dfa0897830397</td>\n",
       "      <td>2015/09/01</td>\n",
       "      <td>2015/09/30</td>\n",
       "      <td>印花税</td>\n",
       "      <td>烟叶收购</td>\n",
       "      <td>72530.75</td>\n",
       "      <td>0.0003</td>\n",
       "      <td>-0.04</td>\n",
       "      <td>21.8</td>\n",
       "    </tr>\n",
       "  </tbody>\n",
       "</table>\n",
       "</div>"
      ],
      "text/plain": [
       "                                                 id  START_DATE    END_DATE  \\\n",
       "0  f000950527a6feb6c2f40c9d8477e73a439dfa0897830397  2015/09/01  2015/09/30   \n",
       "1  f000950527a6feb6c2f40c9d8477e73a439dfa0897830397  2015/09/01  2015/09/30   \n",
       "2  f000950527a6feb6c2f40c9d8477e73a439dfa0897830397  2015/09/01  2015/09/30   \n",
       "3  f000950527a6feb6c2f40c9d8477e73a439dfa0897830397  2015/09/01  2015/09/30   \n",
       "4  f000950527a6feb6c2f40c9d8477e73a439dfa0897830397  2015/09/01  2015/09/30   \n",
       "\n",
       "  TAX_CATEGORIES     TAX_ITEMS  TAXATION_BASIS  TAX_RATE  DEDUCTION  \\\n",
       "0            印花税      工伤保险（单位）        72530.75    0.0003      -0.04   \n",
       "1            印花税      失业保险（单位）        72530.75    0.0003      -0.04   \n",
       "2            印花税      医疗保险（单位）        72530.75    0.0003      -0.04   \n",
       "3            印花税  企业养老保险基金（单位）        72530.75    0.0003      -0.04   \n",
       "4            印花税          烟叶收购        72530.75    0.0003      -0.04   \n",
       "\n",
       "   TAX_AMOUNT  \n",
       "0        21.8  \n",
       "1        21.8  \n",
       "2        21.8  \n",
       "3        21.8  \n",
       "4        21.8  "
      ]
     },
     "execution_count": 42,
     "metadata": {},
     "output_type": "execute_result"
    }
   ],
   "source": [
    "tax_info.head()"
   ]
  },
  {
   "cell_type": "markdown",
   "metadata": {},
   "source": [
    "特征编码"
   ]
  },
  {
   "cell_type": "code",
   "execution_count": 43,
   "metadata": {},
   "outputs": [],
   "source": [
    "tax_clean = tax_info.copy()\n",
    "# 对 START_DATE 和 END_DATE 进行处理\n",
    "tax_clean['START_DATE'] = pd.to_datetime(tax_clean['START_DATE'],format='%Y-%m-%d')\n",
    "tax_clean['END_DATE'] = pd.to_datetime(tax_clean['END_DATE'],format='%Y-%m-%d')\n",
    "today = datetime.datetime.strptime('2020-10-13', '%Y-%m-%d')\n",
    "tax_clean['PassedDay'] = tax_clean['START_DATE'].apply(lambda x: today-x).dt.days\n",
    "tax_clean['TaxGapDay'] = (tax_clean['END_DATE'] - tax_clean['START_DATE']).dt.days\n",
    "tax_clean.drop(['START_DATE','END_DATE'], axis=1, inplace=True)\n",
    "# 对 TAX_CATEGORIES 和 TAX_ITEMS 编码\n",
    "categories = list(set(tax_clean['TAX_CATEGORIES']))\n",
    "items = list(set(tax_clean['TAX_ITEMS']))\n",
    "tax_clean['TAX_CATEGORIES'] = tax_clean['TAX_CATEGORIES'].map(dict(zip(categories, list(range(len(categories))))))\n",
    "tax_clean['TAX_ITEMS'] = tax_clean['TAX_ITEMS'].map(dict(zip(items,list(range(len(items))))))"
   ]
  },
  {
   "cell_type": "markdown",
   "metadata": {},
   "source": [
    "将同公司的税务数据合并"
   ]
  },
  {
   "cell_type": "code",
   "execution_count": 44,
   "metadata": {},
   "outputs": [],
   "source": [
    "tax_clean = tax_clean.groupby('id',sort=False).agg('mean')\n",
    "tax_clean = tax_clean.reset_index()"
   ]
  },
  {
   "cell_type": "markdown",
   "metadata": {},
   "source": [
    "### change_info"
   ]
  },
  {
   "cell_type": "markdown",
   "metadata": {},
   "source": [
    "查看change_info"
   ]
  },
  {
   "cell_type": "code",
   "execution_count": 45,
   "metadata": {},
   "outputs": [
    {
     "name": "stdout",
     "output_type": "stream",
     "text": [
      "<class 'pandas.core.frame.DataFrame'>\n",
      "RangeIndex: 45940 entries, 0 to 45939\n",
      "Data columns (total 5 columns):\n",
      " #   Column  Non-Null Count  Dtype  \n",
      "---  ------  --------------  -----  \n",
      " 0   id      45940 non-null  object \n",
      " 1   bgxmdm  45940 non-null  float64\n",
      " 2   bgq     45940 non-null  object \n",
      " 3   bgh     45940 non-null  object \n",
      " 4   bgrq    45940 non-null  float64\n",
      "dtypes: float64(2), object(3)\n",
      "memory usage: 1.8+ MB\n"
     ]
    }
   ],
   "source": [
    "change_info.info()"
   ]
  },
  {
   "cell_type": "code",
   "execution_count": 46,
   "metadata": {},
   "outputs": [
    {
     "data": {
      "text/html": [
       "<div>\n",
       "<style scoped>\n",
       "    .dataframe tbody tr th:only-of-type {\n",
       "        vertical-align: middle;\n",
       "    }\n",
       "\n",
       "    .dataframe tbody tr th {\n",
       "        vertical-align: top;\n",
       "    }\n",
       "\n",
       "    .dataframe thead th {\n",
       "        text-align: right;\n",
       "    }\n",
       "</style>\n",
       "<table border=\"1\" class=\"dataframe\">\n",
       "  <thead>\n",
       "    <tr style=\"text-align: right;\">\n",
       "      <th></th>\n",
       "      <th>id</th>\n",
       "      <th>bgxmdm</th>\n",
       "      <th>bgq</th>\n",
       "      <th>bgh</th>\n",
       "      <th>bgrq</th>\n",
       "    </tr>\n",
       "  </thead>\n",
       "  <tbody>\n",
       "    <tr>\n",
       "      <th>0</th>\n",
       "      <td>9c7fa510616a683058ce97d0bc768a621cd85ab1e87da2a3</td>\n",
       "      <td>939.0</td>\n",
       "      <td>9dec12da51cdb672a91b4a8ae0e0895f7bfeb243dfa3e0c8</td>\n",
       "      <td>9dec12da51cdb672a91b4a8ae0e0895f4a56cbe3deca98...</td>\n",
       "      <td>2.019060e+13</td>\n",
       "    </tr>\n",
       "    <tr>\n",
       "      <th>1</th>\n",
       "      <td>9c7fa510616a683058ce97d0bc768a621cd85ab1e87da2a3</td>\n",
       "      <td>112.0</td>\n",
       "      <td>31487d8f256f16bd6244b7251be2ebb27b17bdfd95c8f3...</td>\n",
       "      <td>31487d8f256f16bd6244b7251be2ebb27b17bdfd95c8f3...</td>\n",
       "      <td>2.019060e+13</td>\n",
       "    </tr>\n",
       "    <tr>\n",
       "      <th>2</th>\n",
       "      <td>e9f7b28ec10e047000d16ab79e1b5e6da434a1697cce7818</td>\n",
       "      <td>111.0</td>\n",
       "      <td>54ca436ffb87f24c820178b45fcc3a7b</td>\n",
       "      <td>f80e3376abcf81ad2a279d6d99046153</td>\n",
       "      <td>2.017013e+13</td>\n",
       "    </tr>\n",
       "    <tr>\n",
       "      <th>3</th>\n",
       "      <td>e9f7b28ec10e047000d16ab79e1b5e6da434a1697cce7818</td>\n",
       "      <td>128.0</td>\n",
       "      <td>f1fdb1c866dc96638cbfb8b788b91393</td>\n",
       "      <td>1eca8a0d8beca58d988f7dccab5dc868</td>\n",
       "      <td>2.017013e+13</td>\n",
       "    </tr>\n",
       "    <tr>\n",
       "      <th>4</th>\n",
       "      <td>e9f7b28ec10e047000d16ab79e1b5e6da434a1697cce7818</td>\n",
       "      <td>925.0</td>\n",
       "      <td>54ca436ffb87f24c820178b45fcc3a7b</td>\n",
       "      <td>f80e3376abcf81ad2a279d6d99046153</td>\n",
       "      <td>2.017013e+13</td>\n",
       "    </tr>\n",
       "  </tbody>\n",
       "</table>\n",
       "</div>"
      ],
      "text/plain": [
       "                                                 id  bgxmdm  \\\n",
       "0  9c7fa510616a683058ce97d0bc768a621cd85ab1e87da2a3   939.0   \n",
       "1  9c7fa510616a683058ce97d0bc768a621cd85ab1e87da2a3   112.0   \n",
       "2  e9f7b28ec10e047000d16ab79e1b5e6da434a1697cce7818   111.0   \n",
       "3  e9f7b28ec10e047000d16ab79e1b5e6da434a1697cce7818   128.0   \n",
       "4  e9f7b28ec10e047000d16ab79e1b5e6da434a1697cce7818   925.0   \n",
       "\n",
       "                                                 bgq  \\\n",
       "0   9dec12da51cdb672a91b4a8ae0e0895f7bfeb243dfa3e0c8   \n",
       "1  31487d8f256f16bd6244b7251be2ebb27b17bdfd95c8f3...   \n",
       "2                   54ca436ffb87f24c820178b45fcc3a7b   \n",
       "3                   f1fdb1c866dc96638cbfb8b788b91393   \n",
       "4                   54ca436ffb87f24c820178b45fcc3a7b   \n",
       "\n",
       "                                                 bgh          bgrq  \n",
       "0  9dec12da51cdb672a91b4a8ae0e0895f4a56cbe3deca98...  2.019060e+13  \n",
       "1  31487d8f256f16bd6244b7251be2ebb27b17bdfd95c8f3...  2.019060e+13  \n",
       "2                   f80e3376abcf81ad2a279d6d99046153  2.017013e+13  \n",
       "3                   1eca8a0d8beca58d988f7dccab5dc868  2.017013e+13  \n",
       "4                   f80e3376abcf81ad2a279d6d99046153  2.017013e+13  "
      ]
     },
     "execution_count": 46,
     "metadata": {},
     "output_type": "execute_result"
    }
   ],
   "source": [
    "change_info.head()"
   ]
  },
  {
   "cell_type": "markdown",
   "metadata": {},
   "source": [
    "bgq，bgh和bgrq给的信息不好处理，故直接删除这三个特征，只保留bgxmdm"
   ]
  },
  {
   "cell_type": "code",
   "execution_count": 47,
   "metadata": {},
   "outputs": [],
   "source": [
    "change_clean = change_info.drop(['bgq','bgh','bgrq'],axis=1)\n",
    "# 合并数据\n",
    "change_clean = change_clean.groupby('id',sort=False).agg('mean')\n",
    "change_clean = change_clean.reset_index()"
   ]
  },
  {
   "cell_type": "markdown",
   "metadata": {},
   "source": [
    "### news_info"
   ]
  },
  {
   "cell_type": "markdown",
   "metadata": {},
   "source": [
    "查看news_info"
   ]
  },
  {
   "cell_type": "code",
   "execution_count": 48,
   "metadata": {},
   "outputs": [
    {
     "name": "stdout",
     "output_type": "stream",
     "text": [
      "<class 'pandas.core.frame.DataFrame'>\n",
      "RangeIndex: 10518 entries, 0 to 10517\n",
      "Data columns (total 3 columns):\n",
      " #   Column            Non-Null Count  Dtype \n",
      "---  ------            --------------  ----- \n",
      " 0   id                10518 non-null  object\n",
      " 1   positive_negtive  10518 non-null  object\n",
      " 2   public_date       10518 non-null  object\n",
      "dtypes: object(3)\n",
      "memory usage: 246.6+ KB\n"
     ]
    }
   ],
   "source": [
    "news_info.info()"
   ]
  },
  {
   "cell_type": "code",
   "execution_count": 49,
   "metadata": {},
   "outputs": [
    {
     "data": {
      "text/html": [
       "<div>\n",
       "<style scoped>\n",
       "    .dataframe tbody tr th:only-of-type {\n",
       "        vertical-align: middle;\n",
       "    }\n",
       "\n",
       "    .dataframe tbody tr th {\n",
       "        vertical-align: top;\n",
       "    }\n",
       "\n",
       "    .dataframe thead th {\n",
       "        text-align: right;\n",
       "    }\n",
       "</style>\n",
       "<table border=\"1\" class=\"dataframe\">\n",
       "  <thead>\n",
       "    <tr style=\"text-align: right;\">\n",
       "      <th></th>\n",
       "      <th>id</th>\n",
       "      <th>positive_negtive</th>\n",
       "      <th>public_date</th>\n",
       "    </tr>\n",
       "  </thead>\n",
       "  <tbody>\n",
       "    <tr>\n",
       "      <th>0</th>\n",
       "      <td>f000950527a6feb62669d6a175fe6fdccd1eb4f7ca8e5016</td>\n",
       "      <td>积极</td>\n",
       "      <td>2016-12-30</td>\n",
       "    </tr>\n",
       "    <tr>\n",
       "      <th>1</th>\n",
       "      <td>f000950527a6feb6e8bd9919e2ca363359bcfa997a0f9de7</td>\n",
       "      <td>中立</td>\n",
       "      <td>2017-08-09</td>\n",
       "    </tr>\n",
       "    <tr>\n",
       "      <th>2</th>\n",
       "      <td>f000950527a6feb6e8bd9919e2ca363359bcfa997a0f9de7</td>\n",
       "      <td>消极</td>\n",
       "      <td>2016-02-29</td>\n",
       "    </tr>\n",
       "    <tr>\n",
       "      <th>3</th>\n",
       "      <td>d8071a739aa75a3bcf6fb0041ee883243251d30025ab9d45</td>\n",
       "      <td>中立</td>\n",
       "      <td>2018-06-08</td>\n",
       "    </tr>\n",
       "    <tr>\n",
       "      <th>4</th>\n",
       "      <td>f000950527a6feb6d71de3382afa0bc5ff87bb65477f698a</td>\n",
       "      <td>积极</td>\n",
       "      <td>2015-06-29</td>\n",
       "    </tr>\n",
       "  </tbody>\n",
       "</table>\n",
       "</div>"
      ],
      "text/plain": [
       "                                                 id positive_negtive  \\\n",
       "0  f000950527a6feb62669d6a175fe6fdccd1eb4f7ca8e5016               积极   \n",
       "1  f000950527a6feb6e8bd9919e2ca363359bcfa997a0f9de7               中立   \n",
       "2  f000950527a6feb6e8bd9919e2ca363359bcfa997a0f9de7               消极   \n",
       "3  d8071a739aa75a3bcf6fb0041ee883243251d30025ab9d45               中立   \n",
       "4  f000950527a6feb6d71de3382afa0bc5ff87bb65477f698a               积极   \n",
       "\n",
       "  public_date  \n",
       "0  2016-12-30  \n",
       "1  2017-08-09  \n",
       "2  2016-02-29  \n",
       "3  2018-06-08  \n",
       "4  2015-06-29  "
      ]
     },
     "execution_count": 49,
     "metadata": {},
     "output_type": "execute_result"
    }
   ],
   "source": [
    "news_info.head()"
   ]
  },
  {
   "cell_type": "markdown",
   "metadata": {},
   "source": [
    "进行特征编码"
   ]
  },
  {
   "cell_type": "code",
   "execution_count": 50,
   "metadata": {
    "scrolled": true
   },
   "outputs": [],
   "source": [
    "news_clean = news_info.copy()\n",
    "# 对 positive_negtive 进行one-hot编码\n",
    "index = list(set(news_clean['positive_negtive']))\n",
    "news_clean['positive_negtive'] = news_clean['positive_negtive'].map(dict(zip(index, ['neutral', 'positive', 'negtive'])))\n",
    "news_clean = news_clean.join(pd.get_dummies(news_clean['positive_negtive']))\n",
    "# 对 public_date进行处理\n",
    "news_clean['public_date'] = pd.to_datetime(news_clean['public_date'],format='%Y-%m-%d',errors='coerce')\n",
    "today = datetime.datetime.strptime('2020-10-13', '%Y-%m-%d')\n",
    "news_clean['PublicDateDay'] = news_clean['public_date'].apply(lambda x: today-x).dt.days\n",
    "# 因为含错误日期格式而导致的空值，所以对其进行填补\n",
    "news_clean['PublicDateDay'] = news_clean['PublicDateDay'].fillna(news_clean['PublicDateDay'].median())\n",
    "news_clean.drop(['positive_negtive', 'public_date'], axis=1, inplace=True)\n",
    "# 同公司数据合并\n",
    "news_clean = news_clean.groupby('id',sort=False).agg('mean')\n",
    "news_clean = news_clean.reset_index()"
   ]
  },
  {
   "cell_type": "markdown",
   "metadata": {},
   "source": [
    "### other_info"
   ]
  },
  {
   "cell_type": "markdown",
   "metadata": {},
   "source": [
    "查看other_info"
   ]
  },
  {
   "cell_type": "code",
   "execution_count": 51,
   "metadata": {},
   "outputs": [
    {
     "name": "stdout",
     "output_type": "stream",
     "text": [
      "<class 'pandas.core.frame.DataFrame'>\n",
      "RangeIndex: 1890 entries, 0 to 1889\n",
      "Data columns (total 4 columns):\n",
      " #   Column              Non-Null Count  Dtype  \n",
      "---  ------              --------------  -----  \n",
      " 0   id                  1890 non-null   object \n",
      " 1   legal_judgment_num  1006 non-null   float64\n",
      " 2   brand_num           909 non-null    float64\n",
      " 3   patent_num          396 non-null    float64\n",
      "dtypes: float64(3), object(1)\n",
      "memory usage: 59.2+ KB\n"
     ]
    }
   ],
   "source": [
    "other_info.info()"
   ]
  },
  {
   "cell_type": "markdown",
   "metadata": {},
   "source": [
    "可以看到缺失值还是比较多的，就不考虑将该数据集融合了"
   ]
  },
  {
   "cell_type": "markdown",
   "metadata": {},
   "source": [
    "### 合并数据集"
   ]
  },
  {
   "cell_type": "code",
   "execution_count": 52,
   "metadata": {},
   "outputs": [],
   "source": [
    "data_set = base_clean.merge(annual_clean, how='outer')\n",
    "data_set = data_set.merge(tax_clean, how='outer')\n",
    "data_set = data_set.merge(change_clean, how='outer')\n",
    "data_set = data_set.merge(news_clean, how='outer')\n",
    "data_set = data_set.fillna(-1)"
   ]
  },
  {
   "cell_type": "code",
   "execution_count": 53,
   "metadata": {},
   "outputs": [
    {
     "data": {
      "text/plain": [
       "(24865, 73)"
      ]
     },
     "execution_count": 53,
     "metadata": {},
     "output_type": "execute_result"
    }
   ],
   "source": [
    "data_set.shape"
   ]
  },
  {
   "cell_type": "markdown",
   "metadata": {},
   "source": [
    "## 建模"
   ]
  },
  {
   "cell_type": "markdown",
   "metadata": {},
   "source": [
    "分离训练集和验证集"
   ]
  },
  {
   "cell_type": "code",
   "execution_count": 54,
   "metadata": {},
   "outputs": [
    {
     "data": {
      "text/plain": [
       "((14865, 72), (10000, 72))"
      ]
     },
     "execution_count": 54,
     "metadata": {},
     "output_type": "execute_result"
    }
   ],
   "source": [
    "train_set = data_set.merge(entprise_info)\n",
    "train_data = train_set.drop(['id','label'], axis=1)\n",
    "train_label = train_set['label']\n",
    "test_set = data_set.merge(entprise_evaluate)\n",
    "test_data = test_set.drop(['id','score'], axis=1)\n",
    "train_data.shape, test_data.shape"
   ]
  },
  {
   "cell_type": "markdown",
   "metadata": {},
   "source": [
    "定义评估函数，通过k折验证得到不同模型的分数，以便调参"
   ]
  },
  {
   "cell_type": "code",
   "execution_count": 55,
   "metadata": {},
   "outputs": [],
   "source": [
    "def evaluateModel(model,x,y):\n",
    "    mean_f1=0\n",
    "    folds=5\n",
    "    sk = StratifiedKFold(n_splits=folds, shuffle=True, random_state=2020)\n",
    "    \n",
    "    for trn_idx, val_idx in sk.split(x, y):\n",
    "        trn_x, trn_y, val_x, val_y = x.iloc[trn_idx], y[trn_idx], x.iloc[val_idx], y[val_idx]\n",
    "\n",
    "        model.fit(trn_x, trn_y)\n",
    "        val_pred = model.predict(val_x)\n",
    "        mean_f1 += f1_score(val_y, val_pred)/sk.n_splits\n",
    "        \n",
    "    return mean_f1"
   ]
  },
  {
   "cell_type": "markdown",
   "metadata": {},
   "source": [
    "简单训练随机森林，xgboost，lightgbm，catboost四个模型，得到对应的分数"
   ]
  },
  {
   "cell_type": "code",
   "execution_count": 67,
   "metadata": {},
   "outputs": [
    {
     "name": "stdout",
     "output_type": "stream",
     "text": [
      "rf: 0.8281982187732465\n"
     ]
    }
   ],
   "source": [
    "rf = RandomForestClassifier(oob_score=True, \n",
    "                            random_state=2020,\n",
    "                            n_estimators= 95,\n",
    "                            max_depth=12,\n",
    "                            min_samples_split=7)\n",
    "print('rf:',evaluateModel(rf,train_data,train_label))"
   ]
  },
  {
   "cell_type": "code",
   "execution_count": 74,
   "metadata": {},
   "outputs": [
    {
     "name": "stdout",
     "output_type": "stream",
     "text": [
      "xlf: 0.8330400053008485\n"
     ]
    }
   ],
   "source": [
    "xlf = xgb.XGBClassifier(max_depth=8,\n",
    "                      learning_rate=0.02,\n",
    "                      n_estimators=75,\n",
    "                      reg_alpha=0.005,\n",
    "                      n_jobs=8,\n",
    "                      importance_type='total_cover')\n",
    "print('xlf:',evaluateModel(xlf,train_data,train_label))"
   ]
  },
  {
   "cell_type": "code",
   "execution_count": 84,
   "metadata": {},
   "outputs": [
    {
     "name": "stdout",
     "output_type": "stream",
     "text": [
      "llf: 0.8385662194785999\n"
     ]
    }
   ],
   "source": [
    "llf = lgb.LGBMClassifier(num_leaves=12,\n",
    "                       max_depth=6,\n",
    "                       learning_rate=0.05,\n",
    "                       n_estimators=85,\n",
    "                       n_jobs=8)\n",
    "print('llf:',evaluateModel(llf,train_data,train_label))  "
   ]
  },
  {
   "cell_type": "code",
   "execution_count": 92,
   "metadata": {
    "scrolled": true
   },
   "outputs": [
    {
     "name": "stdout",
     "output_type": "stream",
     "text": [
      "clf: 0.840363023799186\n"
     ]
    }
   ],
   "source": [
    "clf = cat.CatBoostClassifier(iterations=95,\n",
    "                           learning_rate=0.05,\n",
    "                           depth=8,\n",
    "                           silent=True,\n",
    "                           thread_count=8,\n",
    "                           task_type='CPU')\n",
    "print('clf:',evaluateModel(clf,train_data,train_label)) "
   ]
  },
  {
   "cell_type": "markdown",
   "metadata": {},
   "source": [
    "采用加权平均的方法对四个模型进行模型融合"
   ]
  },
  {
   "cell_type": "code",
   "execution_count": 93,
   "metadata": {
    "scrolled": true
   },
   "outputs": [
    {
     "name": "stdout",
     "output_type": "stream",
     "text": [
      "第1次验证f1_score：0.8541666666666667\n",
      "权重为rf, xgb, lgb, cat： (0.5, 0.2, 0.0, 0.3)\n",
      "第2次验证f1_score：0.8564231738035265\n",
      "权重为rf, xgb, lgb, cat： (0.1, 0.5, 0.0, 0.4)\n",
      "第3次验证f1_score：0.8249400479616307\n",
      "权重为rf, xgb, lgb, cat： (0.5, 0.0, 0.5, 0.0)\n",
      "第4次验证f1_score：0.8676470588235294\n",
      "权重为rf, xgb, lgb, cat： (0.2, 0.1, 0.4, 0.30000000000000004)\n",
      "第5次验证f1_score：0.8478802992518704\n",
      "权重为rf, xgb, lgb, cat： (0.0, 0.30000000000000004, 0.4, 0.29999999999999993)\n",
      "线上验证f1_score:  0.8502114493014447\n"
     ]
    }
   ],
   "source": [
    "mean_f1=0\n",
    "folds=5\n",
    "sk = StratifiedKFold(n_splits=folds, shuffle=True, random_state=2020)\n",
    "results = []\n",
    "\n",
    "for idx, (trn_idx, val_idx) in enumerate(sk.split(train_data, train_label)):\n",
    "    trn_x, trn_y, val_x, val_y = train_data.iloc[trn_idx], train_label[trn_idx], train_data.iloc[val_idx], train_label[val_idx]\n",
    "    \n",
    "    rf.fit(trn_x, trn_y)\n",
    "    rf_pred = rf.predict(val_x)\n",
    "    rf_prob = rf.predict_proba(val_x)\n",
    "    rf_weight = f1_score(val_y, rf_pred)\n",
    "    \n",
    "    xlf.fit(trn_x, trn_y)\n",
    "    xgb_pred = xlf.predict(val_x)\n",
    "    xgb_prob = xlf.predict_proba(val_x)\n",
    "    xgb_weight = f1_score(val_y, xgb_pred)\n",
    "\n",
    "    llf.fit(trn_x, trn_y)\n",
    "    lgb_pred = llf.predict(val_x)\n",
    "    lgb_prob = llf.predict_proba(val_x)\n",
    "    lgb_weight = f1_score(val_y, lgb_pred)\n",
    "\n",
    "    clf.fit(trn_x, trn_y)\n",
    "    cat_pred = clf.predict(val_x)\n",
    "    cat_prob = clf.predict_proba(val_x)\n",
    "    cat_weight = f1_score(val_y, cat_pred)\n",
    "    \n",
    "    #暴力搜索最佳权重\n",
    "    weight = np.arange(0, 1.05, 0.1)\n",
    "    maxscore = 0\n",
    "    optweight = ()\n",
    "    for i in weight:\n",
    "        for j in weight[weight <= (1 - i)]:\n",
    "            for k in weight[weight <= (1 - i - j)]:\n",
    "                prob_weight = rf_prob*i + xgb_prob*j + lgb_prob*k + cat_prob*(1 - i - j - k)\n",
    "                score = f1_score(val_y, np.argmax(prob_weight,axis=1))\n",
    "                if score > maxscore:\n",
    "                    maxscore = score\n",
    "                    optweight = (i, j, k, 1-i-j-k)\n",
    "    print('第{}次验证f1_score：{}'.format(idx + 1, maxscore))\n",
    "    print('权重为rf, xgb, lgb, cat：', optweight)\n",
    "    mean_f1+=maxscore/sk.n_splits\n",
    "    \n",
    "    test_rf = rf.predict_proba(test_data)\n",
    "    test_xgb = xlf.predict_proba(test_data)\n",
    "    test_lgb = llf.predict_proba(test_data)\n",
    "    test_cat = clf.predict_proba(test_data)\n",
    "    test_pred = test_rf*optweight[0] + test_xgb*optweight[1] + test_lgb*optweight[2] + test_cat*optweight[3]\n",
    "    results.append(test_pred)\n",
    "print('线上验证f1_score: ', mean_f1)"
   ]
  },
  {
   "cell_type": "code",
   "execution_count": 94,
   "metadata": {},
   "outputs": [
    {
     "data": {
      "text/html": [
       "<div>\n",
       "<style scoped>\n",
       "    .dataframe tbody tr th:only-of-type {\n",
       "        vertical-align: middle;\n",
       "    }\n",
       "\n",
       "    .dataframe tbody tr th {\n",
       "        vertical-align: top;\n",
       "    }\n",
       "\n",
       "    .dataframe thead th {\n",
       "        text-align: right;\n",
       "    }\n",
       "</style>\n",
       "<table border=\"1\" class=\"dataframe\">\n",
       "  <thead>\n",
       "    <tr style=\"text-align: right;\">\n",
       "      <th></th>\n",
       "      <th>id</th>\n",
       "      <th>score</th>\n",
       "    </tr>\n",
       "  </thead>\n",
       "  <tbody>\n",
       "    <tr>\n",
       "      <th>0</th>\n",
       "      <td>9c7fa510616a683058ce97d0bc768a621cd85ab1e87da2a3</td>\n",
       "      <td>0.025312</td>\n",
       "    </tr>\n",
       "    <tr>\n",
       "      <th>1</th>\n",
       "      <td>da8691b210adb3f67820f5e0c87b337d63112cee52211888</td>\n",
       "      <td>0.025154</td>\n",
       "    </tr>\n",
       "    <tr>\n",
       "      <th>2</th>\n",
       "      <td>9c7fa510616a68309e4badf2a7a3123c0462fb85bf28ef17</td>\n",
       "      <td>0.025184</td>\n",
       "    </tr>\n",
       "    <tr>\n",
       "      <th>3</th>\n",
       "      <td>f000950527a6feb6ed308bc4c7ae11276eab86480f8e03db</td>\n",
       "      <td>0.028397</td>\n",
       "    </tr>\n",
       "    <tr>\n",
       "      <th>4</th>\n",
       "      <td>f000950527a6feb617e8d6ca7025dcf9d765429969122069</td>\n",
       "      <td>0.026591</td>\n",
       "    </tr>\n",
       "    <tr>\n",
       "      <th>...</th>\n",
       "      <td>...</td>\n",
       "      <td>...</td>\n",
       "    </tr>\n",
       "    <tr>\n",
       "      <th>9995</th>\n",
       "      <td>f1c1045b13d18329a2bd99d2a7e2227688c0d69bf1d1e325</td>\n",
       "      <td>0.056096</td>\n",
       "    </tr>\n",
       "    <tr>\n",
       "      <th>9996</th>\n",
       "      <td>f000950527a6feb6bde38216d7cbbf32e66d3a3a96d4dbda</td>\n",
       "      <td>0.528226</td>\n",
       "    </tr>\n",
       "    <tr>\n",
       "      <th>9997</th>\n",
       "      <td>da8691b210adb3f65b43370d3a362f4aa1d3b16b5ba0c9d7</td>\n",
       "      <td>0.030066</td>\n",
       "    </tr>\n",
       "    <tr>\n",
       "      <th>9998</th>\n",
       "      <td>516ab81418ed215dcbbf0614a7b929e691f8eed153d7bb31</td>\n",
       "      <td>0.071862</td>\n",
       "    </tr>\n",
       "    <tr>\n",
       "      <th>9999</th>\n",
       "      <td>9c7fa510616a68303d3427d4bfd4b0cf3e4843f2bf3f637a</td>\n",
       "      <td>0.036229</td>\n",
       "    </tr>\n",
       "  </tbody>\n",
       "</table>\n",
       "<p>10000 rows × 2 columns</p>\n",
       "</div>"
      ],
      "text/plain": [
       "                                                    id     score\n",
       "0     9c7fa510616a683058ce97d0bc768a621cd85ab1e87da2a3  0.025312\n",
       "1     da8691b210adb3f67820f5e0c87b337d63112cee52211888  0.025154\n",
       "2     9c7fa510616a68309e4badf2a7a3123c0462fb85bf28ef17  0.025184\n",
       "3     f000950527a6feb6ed308bc4c7ae11276eab86480f8e03db  0.028397\n",
       "4     f000950527a6feb617e8d6ca7025dcf9d765429969122069  0.026591\n",
       "...                                                ...       ...\n",
       "9995  f1c1045b13d18329a2bd99d2a7e2227688c0d69bf1d1e325  0.056096\n",
       "9996  f000950527a6feb6bde38216d7cbbf32e66d3a3a96d4dbda  0.528226\n",
       "9997  da8691b210adb3f65b43370d3a362f4aa1d3b16b5ba0c9d7  0.030066\n",
       "9998  516ab81418ed215dcbbf0614a7b929e691f8eed153d7bb31  0.071862\n",
       "9999  9c7fa510616a68303d3427d4bfd4b0cf3e4843f2bf3f637a  0.036229\n",
       "\n",
       "[10000 rows x 2 columns]"
      ]
     },
     "execution_count": 94,
     "metadata": {},
     "output_type": "execute_result"
    }
   ],
   "source": [
    "result = (sum(results)/sk.n_splits)[:,1]\n",
    "submit_file = pd.DataFrame({'id': test_set['id'], 'score': result.tolist()})\n",
    "submit_file"
   ]
  },
  {
   "cell_type": "code",
   "execution_count": 95,
   "metadata": {},
   "outputs": [],
   "source": [
    "submit_file.to_csv('submit01.csv', index=0)"
   ]
  }
 ],
 "metadata": {
  "kernelspec": {
   "display_name": "Python 3",
   "language": "python",
   "name": "python3"
  },
  "language_info": {
   "codemirror_mode": {
    "name": "ipython",
    "version": 3
   },
   "file_extension": ".py",
   "mimetype": "text/x-python",
   "name": "python",
   "nbconvert_exporter": "python",
   "pygments_lexer": "ipython3",
   "version": "3.8.3"
  }
 },
 "nbformat": 4,
 "nbformat_minor": 4
}
